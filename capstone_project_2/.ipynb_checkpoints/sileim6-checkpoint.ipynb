{
 "cells": [
  {
   "cell_type": "markdown",
   "metadata": {},
   "source": [
    "# CAPSTONE_2 PROJECT: Review Classification"
   ]
  },
  {
   "cell_type": "markdown",
   "metadata": {},
   "source": [
    "# 1. OBTAINING AND UNDERSTANDING THE DATA"
   ]
  },
  {
   "cell_type": "raw",
   "metadata": {},
   "source": [
    "The data set obtained from below url:\n",
    "'http://seotest.ciberius.info/seo--jmcauley.ucsd.edu/data/amazon/'\n",
    "\n",
    "Data Format:\n",
    "\n",
    "product/productId: asin, e.g. amazon.com/dp/B00006HAXW\n",
    "product/title: title of the product\n",
    "product/price: price of the product\n",
    "review/userId: id of the user, e.g. A1RSDE90N6RSZF\n",
    "review/profileName: name of the user\n",
    "review/helpfulness: fraction of users who found the review helpful\n",
    "review/score: rating of the product\n",
    "review/time: time of the review (unix time)\n",
    "review/summary: review summary\n",
    "review/text: text of the review"
   ]
  },
  {
   "cell_type": "code",
   "execution_count": 1,
   "metadata": {},
   "outputs": [],
   "source": [
    "import numpy as np\n",
    "import matplotlib.pyplot as plt\n",
    "from matplotlib.colors import ListedColormap\n",
    "import seaborn as sns\n",
    "import matplotlib.colors as colors\n",
    "%matplotlib inline"
   ]
  },
  {
   "cell_type": "code",
   "execution_count": 2,
   "metadata": {},
   "outputs": [],
   "source": [
    "import pandas as pd\n",
    "import gzip\n",
    "\n",
    "def parse(path):\n",
    "  g = gzip.open(path, 'rb')\n",
    "  for l in g:\n",
    "    yield eval(l)\n",
    "\n",
    "def getDF(path):\n",
    "  i = 0\n",
    "  df = {}\n",
    "  for d in parse(path):\n",
    "    df[i] = d\n",
    "    i += 1\n",
    "  return pd.DataFrame.from_dict(df, orient='index')\n",
    "\n",
    "df = getDF('data_capstone_2/reviews_Patio_Lawn_and_Garden_5.json.gz')"
   ]
  },
  {
   "cell_type": "code",
   "execution_count": 3,
   "metadata": {},
   "outputs": [
    {
     "data": {
      "text/html": [
       "<div>\n",
       "<style scoped>\n",
       "    .dataframe tbody tr th:only-of-type {\n",
       "        vertical-align: middle;\n",
       "    }\n",
       "\n",
       "    .dataframe tbody tr th {\n",
       "        vertical-align: top;\n",
       "    }\n",
       "\n",
       "    .dataframe thead th {\n",
       "        text-align: right;\n",
       "    }\n",
       "</style>\n",
       "<table border=\"1\" class=\"dataframe\">\n",
       "  <thead>\n",
       "    <tr style=\"text-align: right;\">\n",
       "      <th></th>\n",
       "      <th>reviewerID</th>\n",
       "      <th>asin</th>\n",
       "      <th>reviewerName</th>\n",
       "      <th>helpful</th>\n",
       "      <th>reviewText</th>\n",
       "      <th>overall</th>\n",
       "      <th>summary</th>\n",
       "      <th>unixReviewTime</th>\n",
       "      <th>reviewTime</th>\n",
       "    </tr>\n",
       "  </thead>\n",
       "  <tbody>\n",
       "    <tr>\n",
       "      <th>0</th>\n",
       "      <td>A1JZFGZEZVWQPY</td>\n",
       "      <td>B00002N674</td>\n",
       "      <td>Carter H \"1amazonreviewer@gmail . com\"</td>\n",
       "      <td>[4, 4]</td>\n",
       "      <td>Good USA company that stands behind their prod...</td>\n",
       "      <td>4.0</td>\n",
       "      <td>Great Hoses</td>\n",
       "      <td>1308614400</td>\n",
       "      <td>06 21, 2011</td>\n",
       "    </tr>\n",
       "    <tr>\n",
       "      <th>1</th>\n",
       "      <td>A32JCI4AK2JTTG</td>\n",
       "      <td>B00002N674</td>\n",
       "      <td>Darryl Bennett \"Fuzzy342\"</td>\n",
       "      <td>[0, 0]</td>\n",
       "      <td>This is a high quality 8 ply hose. I have had ...</td>\n",
       "      <td>5.0</td>\n",
       "      <td>Gilmour 10-58050 8-ply Flexogen Hose 5/8-Inch ...</td>\n",
       "      <td>1402272000</td>\n",
       "      <td>06 9, 2014</td>\n",
       "    </tr>\n",
       "    <tr>\n",
       "      <th>2</th>\n",
       "      <td>A3N0P5AAMP6XD2</td>\n",
       "      <td>B00002N674</td>\n",
       "      <td>H B</td>\n",
       "      <td>[2, 3]</td>\n",
       "      <td>It's probably one of the best hoses I've ever ...</td>\n",
       "      <td>4.0</td>\n",
       "      <td>Very satisfied!</td>\n",
       "      <td>1336176000</td>\n",
       "      <td>05 5, 2012</td>\n",
       "    </tr>\n",
       "    <tr>\n",
       "      <th>3</th>\n",
       "      <td>A2QK7UNJ857YG</td>\n",
       "      <td>B00002N674</td>\n",
       "      <td>Jason</td>\n",
       "      <td>[0, 0]</td>\n",
       "      <td>I probably should have bought something a bit ...</td>\n",
       "      <td>5.0</td>\n",
       "      <td>Very high quality</td>\n",
       "      <td>1373846400</td>\n",
       "      <td>07 15, 2013</td>\n",
       "    </tr>\n",
       "    <tr>\n",
       "      <th>4</th>\n",
       "      <td>AS0CYBAN6EM06</td>\n",
       "      <td>B00002N674</td>\n",
       "      <td>jimmy</td>\n",
       "      <td>[1, 1]</td>\n",
       "      <td>I bought three of these 5/8-inch Flexogen hose...</td>\n",
       "      <td>5.0</td>\n",
       "      <td>Good Hoses</td>\n",
       "      <td>1375660800</td>\n",
       "      <td>08 5, 2013</td>\n",
       "    </tr>\n",
       "  </tbody>\n",
       "</table>\n",
       "</div>"
      ],
      "text/plain": [
       "       reviewerID        asin                            reviewerName helpful  \\\n",
       "0  A1JZFGZEZVWQPY  B00002N674  Carter H \"1amazonreviewer@gmail . com\"  [4, 4]   \n",
       "1  A32JCI4AK2JTTG  B00002N674               Darryl Bennett \"Fuzzy342\"  [0, 0]   \n",
       "2  A3N0P5AAMP6XD2  B00002N674                                     H B  [2, 3]   \n",
       "3   A2QK7UNJ857YG  B00002N674                                   Jason  [0, 0]   \n",
       "4   AS0CYBAN6EM06  B00002N674                                   jimmy  [1, 1]   \n",
       "\n",
       "                                          reviewText  overall  \\\n",
       "0  Good USA company that stands behind their prod...      4.0   \n",
       "1  This is a high quality 8 ply hose. I have had ...      5.0   \n",
       "2  It's probably one of the best hoses I've ever ...      4.0   \n",
       "3  I probably should have bought something a bit ...      5.0   \n",
       "4  I bought three of these 5/8-inch Flexogen hose...      5.0   \n",
       "\n",
       "                                             summary  unixReviewTime  \\\n",
       "0                                        Great Hoses      1308614400   \n",
       "1  Gilmour 10-58050 8-ply Flexogen Hose 5/8-Inch ...      1402272000   \n",
       "2                                    Very satisfied!      1336176000   \n",
       "3                                  Very high quality      1373846400   \n",
       "4                                         Good Hoses      1375660800   \n",
       "\n",
       "    reviewTime  \n",
       "0  06 21, 2011  \n",
       "1   06 9, 2014  \n",
       "2   05 5, 2012  \n",
       "3  07 15, 2013  \n",
       "4   08 5, 2013  "
      ]
     },
     "execution_count": 3,
     "metadata": {},
     "output_type": "execute_result"
    }
   ],
   "source": [
    "df.head()"
   ]
  },
  {
   "cell_type": "markdown",
   "metadata": {},
   "source": [
    "### Information about the DataFrame"
   ]
  },
  {
   "cell_type": "code",
   "execution_count": 4,
   "metadata": {
    "scrolled": false
   },
   "outputs": [
    {
     "name": "stdout",
     "output_type": "stream",
     "text": [
      "<class 'pandas.core.frame.DataFrame'>\n",
      "Int64Index: 13272 entries, 0 to 13271\n",
      "Data columns (total 9 columns):\n",
      "reviewerID        13272 non-null object\n",
      "asin              13272 non-null object\n",
      "reviewerName      13107 non-null object\n",
      "helpful           13272 non-null object\n",
      "reviewText        13272 non-null object\n",
      "overall           13272 non-null float64\n",
      "summary           13272 non-null object\n",
      "unixReviewTime    13272 non-null int64\n",
      "reviewTime        13272 non-null object\n",
      "dtypes: float64(1), int64(1), object(7)\n",
      "memory usage: 1.0+ MB\n"
     ]
    }
   ],
   "source": [
    "df.info()"
   ]
  },
  {
   "cell_type": "markdown",
   "metadata": {},
   "source": [
    "### What we learned from the information:\n",
    "\n",
    "    * We have the shape, 13272 observations(records or rows) and 9 columns (or variables).\n",
    "    * There is no missing value.\n",
    "    * There are two variables related with date but data types are not datetime, one of them is \"int64\" and the other one is \"object\". One time related variable will be enough for us, we can drop one of them.\n",
    "    * We need to figure out that whether the \"helpful\" variable needs to be converted to numeric type in order to use it.\n",
    "    * There are two different variables which identify reviewer/user, we can drop one of them.\n",
    "    * In order to improve practical and readable coding, we need change some of the column names and also we need to convert column names to lowercase.\n",
    "    \n",
    "            - \"reviewerID\"    -->   \"customer\"\n",
    "            - \"asin\"          -->   \"product\"\n",
    "            - \"reviewerName\"  -->   column will be droped \n",
    "            - \"reviewText\"    -->   \"review_text\" (will be \n",
    "            - \"helpful\"       -->   will be splited in two columns; \"pos_feedback\" as positive feedback + \"neg_feedback\" as  negative feedback. \n",
    "            - \"overall\"       -->   \"rating\"\n",
    "            - \"summary\"       -->   as is \n",
    "            - \"unixReviewTime\"-->   \"time\"    \n",
    "            - \"reviewTime\"    -->   column will be droped"
   ]
  },
  {
   "cell_type": "markdown",
   "metadata": {},
   "source": [
    "### Fixing learned issues\n",
    "\n",
    "    * Creating the new columns. \n",
    "    * Dropping redundant columns\n",
    "    * Changing some column names and making lowercase"
   ]
  },
  {
   "cell_type": "markdown",
   "metadata": {},
   "source": [
    "#### Creating 3 new columns"
   ]
  },
  {
   "cell_type": "code",
   "execution_count": null,
   "metadata": {},
   "outputs": [],
   "source": []
  },
  {
   "cell_type": "code",
   "execution_count": 5,
   "metadata": {},
   "outputs": [
    {
     "data": {
      "text/html": [
       "<div>\n",
       "<style scoped>\n",
       "    .dataframe tbody tr th:only-of-type {\n",
       "        vertical-align: middle;\n",
       "    }\n",
       "\n",
       "    .dataframe tbody tr th {\n",
       "        vertical-align: top;\n",
       "    }\n",
       "\n",
       "    .dataframe thead th {\n",
       "        text-align: right;\n",
       "    }\n",
       "</style>\n",
       "<table border=\"1\" class=\"dataframe\">\n",
       "  <thead>\n",
       "    <tr style=\"text-align: right;\">\n",
       "      <th></th>\n",
       "      <th>reviewerID</th>\n",
       "      <th>asin</th>\n",
       "      <th>reviewerName</th>\n",
       "      <th>helpful</th>\n",
       "      <th>reviewText</th>\n",
       "      <th>overall</th>\n",
       "      <th>summary</th>\n",
       "      <th>unixReviewTime</th>\n",
       "      <th>reviewTime</th>\n",
       "      <th>pos_feedback</th>\n",
       "      <th>neg_feedback</th>\n",
       "      <th>review_text</th>\n",
       "    </tr>\n",
       "  </thead>\n",
       "  <tbody>\n",
       "    <tr>\n",
       "      <th>0</th>\n",
       "      <td>A1JZFGZEZVWQPY</td>\n",
       "      <td>B00002N674</td>\n",
       "      <td>Carter H \"1amazonreviewer@gmail . com\"</td>\n",
       "      <td>[4, 4]</td>\n",
       "      <td>Good USA company that stands behind their prod...</td>\n",
       "      <td>4.0</td>\n",
       "      <td>Great Hoses</td>\n",
       "      <td>1308614400</td>\n",
       "      <td>06 21, 2011</td>\n",
       "      <td>4</td>\n",
       "      <td>0</td>\n",
       "      <td>Great Hoses Good USA company that stands behin...</td>\n",
       "    </tr>\n",
       "    <tr>\n",
       "      <th>1</th>\n",
       "      <td>A32JCI4AK2JTTG</td>\n",
       "      <td>B00002N674</td>\n",
       "      <td>Darryl Bennett \"Fuzzy342\"</td>\n",
       "      <td>[0, 0]</td>\n",
       "      <td>This is a high quality 8 ply hose. I have had ...</td>\n",
       "      <td>5.0</td>\n",
       "      <td>Gilmour 10-58050 8-ply Flexogen Hose 5/8-Inch ...</td>\n",
       "      <td>1402272000</td>\n",
       "      <td>06 9, 2014</td>\n",
       "      <td>0</td>\n",
       "      <td>0</td>\n",
       "      <td>Gilmour 10-58050 8-ply Flexogen Hose 5/8-Inch ...</td>\n",
       "    </tr>\n",
       "    <tr>\n",
       "      <th>2</th>\n",
       "      <td>A3N0P5AAMP6XD2</td>\n",
       "      <td>B00002N674</td>\n",
       "      <td>H B</td>\n",
       "      <td>[2, 3]</td>\n",
       "      <td>It's probably one of the best hoses I've ever ...</td>\n",
       "      <td>4.0</td>\n",
       "      <td>Very satisfied!</td>\n",
       "      <td>1336176000</td>\n",
       "      <td>05 5, 2012</td>\n",
       "      <td>2</td>\n",
       "      <td>1</td>\n",
       "      <td>Very satisfied! It's probably one of the best ...</td>\n",
       "    </tr>\n",
       "    <tr>\n",
       "      <th>3</th>\n",
       "      <td>A2QK7UNJ857YG</td>\n",
       "      <td>B00002N674</td>\n",
       "      <td>Jason</td>\n",
       "      <td>[0, 0]</td>\n",
       "      <td>I probably should have bought something a bit ...</td>\n",
       "      <td>5.0</td>\n",
       "      <td>Very high quality</td>\n",
       "      <td>1373846400</td>\n",
       "      <td>07 15, 2013</td>\n",
       "      <td>0</td>\n",
       "      <td>0</td>\n",
       "      <td>Very high quality I probably should have bough...</td>\n",
       "    </tr>\n",
       "    <tr>\n",
       "      <th>4</th>\n",
       "      <td>AS0CYBAN6EM06</td>\n",
       "      <td>B00002N674</td>\n",
       "      <td>jimmy</td>\n",
       "      <td>[1, 1]</td>\n",
       "      <td>I bought three of these 5/8-inch Flexogen hose...</td>\n",
       "      <td>5.0</td>\n",
       "      <td>Good Hoses</td>\n",
       "      <td>1375660800</td>\n",
       "      <td>08 5, 2013</td>\n",
       "      <td>1</td>\n",
       "      <td>0</td>\n",
       "      <td>Good Hoses I bought three of these 5/8-inch Fl...</td>\n",
       "    </tr>\n",
       "  </tbody>\n",
       "</table>\n",
       "</div>"
      ],
      "text/plain": [
       "       reviewerID        asin                            reviewerName helpful  \\\n",
       "0  A1JZFGZEZVWQPY  B00002N674  Carter H \"1amazonreviewer@gmail . com\"  [4, 4]   \n",
       "1  A32JCI4AK2JTTG  B00002N674               Darryl Bennett \"Fuzzy342\"  [0, 0]   \n",
       "2  A3N0P5AAMP6XD2  B00002N674                                     H B  [2, 3]   \n",
       "3   A2QK7UNJ857YG  B00002N674                                   Jason  [0, 0]   \n",
       "4   AS0CYBAN6EM06  B00002N674                                   jimmy  [1, 1]   \n",
       "\n",
       "                                          reviewText  overall  \\\n",
       "0  Good USA company that stands behind their prod...      4.0   \n",
       "1  This is a high quality 8 ply hose. I have had ...      5.0   \n",
       "2  It's probably one of the best hoses I've ever ...      4.0   \n",
       "3  I probably should have bought something a bit ...      5.0   \n",
       "4  I bought three of these 5/8-inch Flexogen hose...      5.0   \n",
       "\n",
       "                                             summary  unixReviewTime  \\\n",
       "0                                        Great Hoses      1308614400   \n",
       "1  Gilmour 10-58050 8-ply Flexogen Hose 5/8-Inch ...      1402272000   \n",
       "2                                    Very satisfied!      1336176000   \n",
       "3                                  Very high quality      1373846400   \n",
       "4                                         Good Hoses      1375660800   \n",
       "\n",
       "    reviewTime  pos_feedback  neg_feedback  \\\n",
       "0  06 21, 2011             4             0   \n",
       "1   06 9, 2014             0             0   \n",
       "2   05 5, 2012             2             1   \n",
       "3  07 15, 2013             0             0   \n",
       "4   08 5, 2013             1             0   \n",
       "\n",
       "                                         review_text  \n",
       "0  Great Hoses Good USA company that stands behin...  \n",
       "1  Gilmour 10-58050 8-ply Flexogen Hose 5/8-Inch ...  \n",
       "2  Very satisfied! It's probably one of the best ...  \n",
       "3  Very high quality I probably should have bough...  \n",
       "4  Good Hoses I bought three of these 5/8-inch Fl...  "
      ]
     },
     "execution_count": 5,
     "metadata": {},
     "output_type": "execute_result"
    }
   ],
   "source": [
    "# We will create two new columns from the \"helpful\" column in order to make computation easier\n",
    "\n",
    "list1=[]\n",
    "list2=[]\n",
    "for item in df['helpful']:\n",
    "    list1.append(item[0])\n",
    "    list2.append(item[1]-item[0])\n",
    "        \n",
    "df['pos_feedback'] = list1\n",
    "df['neg_feedback'] = list2\n",
    "\n",
    "# Third column will be joint text of review and summary columns.\n",
    "df['review_text'] = df[['summary', 'reviewText']].apply(\n",
    "    lambda x: ' '.join(str(y) for y in x if str(y) !='nan'), axis=1)\n",
    "\n",
    "df.head()\n",
    "\n",
    "# Number of columns increased to 12."
   ]
  },
  {
   "cell_type": "markdown",
   "metadata": {},
   "source": [
    "#### Dropping redundant 3 columns"
   ]
  },
  {
   "cell_type": "code",
   "execution_count": 6,
   "metadata": {
    "scrolled": true
   },
   "outputs": [
    {
     "data": {
      "text/html": [
       "<div>\n",
       "<style scoped>\n",
       "    .dataframe tbody tr th:only-of-type {\n",
       "        vertical-align: middle;\n",
       "    }\n",
       "\n",
       "    .dataframe tbody tr th {\n",
       "        vertical-align: top;\n",
       "    }\n",
       "\n",
       "    .dataframe thead th {\n",
       "        text-align: right;\n",
       "    }\n",
       "</style>\n",
       "<table border=\"1\" class=\"dataframe\">\n",
       "  <thead>\n",
       "    <tr style=\"text-align: right;\">\n",
       "      <th></th>\n",
       "      <th>reviewerID</th>\n",
       "      <th>asin</th>\n",
       "      <th>overall</th>\n",
       "      <th>unixReviewTime</th>\n",
       "      <th>pos_feedback</th>\n",
       "      <th>neg_feedback</th>\n",
       "      <th>review_text</th>\n",
       "    </tr>\n",
       "  </thead>\n",
       "  <tbody>\n",
       "    <tr>\n",
       "      <th>0</th>\n",
       "      <td>A1JZFGZEZVWQPY</td>\n",
       "      <td>B00002N674</td>\n",
       "      <td>4.0</td>\n",
       "      <td>1308614400</td>\n",
       "      <td>4</td>\n",
       "      <td>0</td>\n",
       "      <td>Great Hoses Good USA company that stands behin...</td>\n",
       "    </tr>\n",
       "    <tr>\n",
       "      <th>1</th>\n",
       "      <td>A32JCI4AK2JTTG</td>\n",
       "      <td>B00002N674</td>\n",
       "      <td>5.0</td>\n",
       "      <td>1402272000</td>\n",
       "      <td>0</td>\n",
       "      <td>0</td>\n",
       "      <td>Gilmour 10-58050 8-ply Flexogen Hose 5/8-Inch ...</td>\n",
       "    </tr>\n",
       "    <tr>\n",
       "      <th>2</th>\n",
       "      <td>A3N0P5AAMP6XD2</td>\n",
       "      <td>B00002N674</td>\n",
       "      <td>4.0</td>\n",
       "      <td>1336176000</td>\n",
       "      <td>2</td>\n",
       "      <td>1</td>\n",
       "      <td>Very satisfied! It's probably one of the best ...</td>\n",
       "    </tr>\n",
       "    <tr>\n",
       "      <th>3</th>\n",
       "      <td>A2QK7UNJ857YG</td>\n",
       "      <td>B00002N674</td>\n",
       "      <td>5.0</td>\n",
       "      <td>1373846400</td>\n",
       "      <td>0</td>\n",
       "      <td>0</td>\n",
       "      <td>Very high quality I probably should have bough...</td>\n",
       "    </tr>\n",
       "    <tr>\n",
       "      <th>4</th>\n",
       "      <td>AS0CYBAN6EM06</td>\n",
       "      <td>B00002N674</td>\n",
       "      <td>5.0</td>\n",
       "      <td>1375660800</td>\n",
       "      <td>1</td>\n",
       "      <td>0</td>\n",
       "      <td>Good Hoses I bought three of these 5/8-inch Fl...</td>\n",
       "    </tr>\n",
       "  </tbody>\n",
       "</table>\n",
       "</div>"
      ],
      "text/plain": [
       "       reviewerID        asin  overall  unixReviewTime  pos_feedback  \\\n",
       "0  A1JZFGZEZVWQPY  B00002N674      4.0      1308614400             4   \n",
       "1  A32JCI4AK2JTTG  B00002N674      5.0      1402272000             0   \n",
       "2  A3N0P5AAMP6XD2  B00002N674      4.0      1336176000             2   \n",
       "3   A2QK7UNJ857YG  B00002N674      5.0      1373846400             0   \n",
       "4   AS0CYBAN6EM06  B00002N674      5.0      1375660800             1   \n",
       "\n",
       "   neg_feedback                                        review_text  \n",
       "0             0  Great Hoses Good USA company that stands behin...  \n",
       "1             0  Gilmour 10-58050 8-ply Flexogen Hose 5/8-Inch ...  \n",
       "2             1  Very satisfied! It's probably one of the best ...  \n",
       "3             0  Very high quality I probably should have bough...  \n",
       "4             0  Good Hoses I bought three of these 5/8-inch Fl...  "
      ]
     },
     "execution_count": 6,
     "metadata": {},
     "output_type": "execute_result"
    }
   ],
   "source": [
    "# We will drop the \"reviewerName\" since we have \"reviewerID\" as enough for identifing the reviewer/customer\n",
    "# And also we will drop the \"reviewTime\" column as we have another date column (\"unixReviewTime\")\n",
    "\n",
    "df2=df.drop(['reviewerName', 'reviewText', 'reviewTime', 'summary', 'helpful'], axis=1)\n",
    "df2.head()\n",
    "\n",
    "# Now we have 8 columns remained"
   ]
  },
  {
   "cell_type": "markdown",
   "metadata": {},
   "source": [
    "#### Changing column names"
   ]
  },
  {
   "cell_type": "code",
   "execution_count": 7,
   "metadata": {},
   "outputs": [
    {
     "data": {
      "text/html": [
       "<div>\n",
       "<style scoped>\n",
       "    .dataframe tbody tr th:only-of-type {\n",
       "        vertical-align: middle;\n",
       "    }\n",
       "\n",
       "    .dataframe tbody tr th {\n",
       "        vertical-align: top;\n",
       "    }\n",
       "\n",
       "    .dataframe thead th {\n",
       "        text-align: right;\n",
       "    }\n",
       "</style>\n",
       "<table border=\"1\" class=\"dataframe\">\n",
       "  <thead>\n",
       "    <tr style=\"text-align: right;\">\n",
       "      <th></th>\n",
       "      <th>customer</th>\n",
       "      <th>product</th>\n",
       "      <th>rating</th>\n",
       "      <th>time</th>\n",
       "      <th>pos_feedback</th>\n",
       "      <th>neg_feedback</th>\n",
       "      <th>review_text</th>\n",
       "    </tr>\n",
       "  </thead>\n",
       "  <tbody>\n",
       "    <tr>\n",
       "      <th>0</th>\n",
       "      <td>A1JZFGZEZVWQPY</td>\n",
       "      <td>B00002N674</td>\n",
       "      <td>4.0</td>\n",
       "      <td>1308614400</td>\n",
       "      <td>4</td>\n",
       "      <td>0</td>\n",
       "      <td>Great Hoses Good USA company that stands behin...</td>\n",
       "    </tr>\n",
       "    <tr>\n",
       "      <th>1</th>\n",
       "      <td>A32JCI4AK2JTTG</td>\n",
       "      <td>B00002N674</td>\n",
       "      <td>5.0</td>\n",
       "      <td>1402272000</td>\n",
       "      <td>0</td>\n",
       "      <td>0</td>\n",
       "      <td>Gilmour 10-58050 8-ply Flexogen Hose 5/8-Inch ...</td>\n",
       "    </tr>\n",
       "    <tr>\n",
       "      <th>2</th>\n",
       "      <td>A3N0P5AAMP6XD2</td>\n",
       "      <td>B00002N674</td>\n",
       "      <td>4.0</td>\n",
       "      <td>1336176000</td>\n",
       "      <td>2</td>\n",
       "      <td>1</td>\n",
       "      <td>Very satisfied! It's probably one of the best ...</td>\n",
       "    </tr>\n",
       "    <tr>\n",
       "      <th>3</th>\n",
       "      <td>A2QK7UNJ857YG</td>\n",
       "      <td>B00002N674</td>\n",
       "      <td>5.0</td>\n",
       "      <td>1373846400</td>\n",
       "      <td>0</td>\n",
       "      <td>0</td>\n",
       "      <td>Very high quality I probably should have bough...</td>\n",
       "    </tr>\n",
       "    <tr>\n",
       "      <th>4</th>\n",
       "      <td>AS0CYBAN6EM06</td>\n",
       "      <td>B00002N674</td>\n",
       "      <td>5.0</td>\n",
       "      <td>1375660800</td>\n",
       "      <td>1</td>\n",
       "      <td>0</td>\n",
       "      <td>Good Hoses I bought three of these 5/8-inch Fl...</td>\n",
       "    </tr>\n",
       "  </tbody>\n",
       "</table>\n",
       "</div>"
      ],
      "text/plain": [
       "         customer     product  rating        time  pos_feedback  neg_feedback  \\\n",
       "0  A1JZFGZEZVWQPY  B00002N674     4.0  1308614400             4             0   \n",
       "1  A32JCI4AK2JTTG  B00002N674     5.0  1402272000             0             0   \n",
       "2  A3N0P5AAMP6XD2  B00002N674     4.0  1336176000             2             1   \n",
       "3   A2QK7UNJ857YG  B00002N674     5.0  1373846400             0             0   \n",
       "4   AS0CYBAN6EM06  B00002N674     5.0  1375660800             1             0   \n",
       "\n",
       "                                         review_text  \n",
       "0  Great Hoses Good USA company that stands behin...  \n",
       "1  Gilmour 10-58050 8-ply Flexogen Hose 5/8-Inch ...  \n",
       "2  Very satisfied! It's probably one of the best ...  \n",
       "3  Very high quality I probably should have bough...  \n",
       "4  Good Hoses I bought three of these 5/8-inch Fl...  "
      ]
     },
     "execution_count": 7,
     "metadata": {},
     "output_type": "execute_result"
    }
   ],
   "source": [
    "df2.columns = ['customer', 'product', 'rating', 'time', 'pos_feedback', 'neg_feedback', 'review_text']\n",
    "\n",
    "df2.head()"
   ]
  },
  {
   "cell_type": "markdown",
   "metadata": {},
   "source": [
    "### Descriptive statistics summary"
   ]
  },
  {
   "cell_type": "code",
   "execution_count": 8,
   "metadata": {
    "scrolled": false
   },
   "outputs": [
    {
     "data": {
      "text/html": [
       "<div>\n",
       "<style scoped>\n",
       "    .dataframe tbody tr th:only-of-type {\n",
       "        vertical-align: middle;\n",
       "    }\n",
       "\n",
       "    .dataframe tbody tr th {\n",
       "        vertical-align: top;\n",
       "    }\n",
       "\n",
       "    .dataframe thead th {\n",
       "        text-align: right;\n",
       "    }\n",
       "</style>\n",
       "<table border=\"1\" class=\"dataframe\">\n",
       "  <thead>\n",
       "    <tr style=\"text-align: right;\">\n",
       "      <th></th>\n",
       "      <th>rating</th>\n",
       "      <th>time</th>\n",
       "      <th>pos_feedback</th>\n",
       "      <th>neg_feedback</th>\n",
       "    </tr>\n",
       "  </thead>\n",
       "  <tbody>\n",
       "    <tr>\n",
       "      <th>count</th>\n",
       "      <td>13272.000000</td>\n",
       "      <td>1.327200e+04</td>\n",
       "      <td>13272.000000</td>\n",
       "      <td>13272.000000</td>\n",
       "    </tr>\n",
       "    <tr>\n",
       "      <th>mean</th>\n",
       "      <td>4.186483</td>\n",
       "      <td>1.358624e+09</td>\n",
       "      <td>3.233424</td>\n",
       "      <td>0.523282</td>\n",
       "    </tr>\n",
       "    <tr>\n",
       "      <th>std</th>\n",
       "      <td>1.084114</td>\n",
       "      <td>4.709839e+07</td>\n",
       "      <td>20.279594</td>\n",
       "      <td>2.765096</td>\n",
       "    </tr>\n",
       "    <tr>\n",
       "      <th>min</th>\n",
       "      <td>1.000000</td>\n",
       "      <td>9.548928e+08</td>\n",
       "      <td>0.000000</td>\n",
       "      <td>0.000000</td>\n",
       "    </tr>\n",
       "    <tr>\n",
       "      <th>25%</th>\n",
       "      <td>4.000000</td>\n",
       "      <td>1.341965e+09</td>\n",
       "      <td>0.000000</td>\n",
       "      <td>0.000000</td>\n",
       "    </tr>\n",
       "    <tr>\n",
       "      <th>50%</th>\n",
       "      <td>5.000000</td>\n",
       "      <td>1.370304e+09</td>\n",
       "      <td>0.000000</td>\n",
       "      <td>0.000000</td>\n",
       "    </tr>\n",
       "    <tr>\n",
       "      <th>75%</th>\n",
       "      <td>5.000000</td>\n",
       "      <td>1.393546e+09</td>\n",
       "      <td>1.000000</td>\n",
       "      <td>0.000000</td>\n",
       "    </tr>\n",
       "    <tr>\n",
       "      <th>max</th>\n",
       "      <td>5.000000</td>\n",
       "      <td>1.405987e+09</td>\n",
       "      <td>923.000000</td>\n",
       "      <td>167.000000</td>\n",
       "    </tr>\n",
       "  </tbody>\n",
       "</table>\n",
       "</div>"
      ],
      "text/plain": [
       "             rating          time  pos_feedback  neg_feedback\n",
       "count  13272.000000  1.327200e+04  13272.000000  13272.000000\n",
       "mean       4.186483  1.358624e+09      3.233424      0.523282\n",
       "std        1.084114  4.709839e+07     20.279594      2.765096\n",
       "min        1.000000  9.548928e+08      0.000000      0.000000\n",
       "25%        4.000000  1.341965e+09      0.000000      0.000000\n",
       "50%        5.000000  1.370304e+09      0.000000      0.000000\n",
       "75%        5.000000  1.393546e+09      1.000000      0.000000\n",
       "max        5.000000  1.405987e+09    923.000000    167.000000"
      ]
     },
     "execution_count": 8,
     "metadata": {},
     "output_type": "execute_result"
    }
   ],
   "source": [
    "# We can use \".describe()\" method to get the statistics summary of numeric variables.\n",
    "\n",
    "df2.describe()\n",
    "\n",
    "# We got statistics of 4 variables as we have 4 numeric variables."
   ]
  },
  {
   "cell_type": "code",
   "execution_count": 9,
   "metadata": {},
   "outputs": [
    {
     "name": "stdout",
     "output_type": "stream",
     "text": [
      "\n",
      "Number of unique customers: 1686\n",
      "\n",
      "Number of unique products: 962\n",
      "\n",
      "Review per customer: 7.871886120996441\n",
      "\n",
      "Review per product: 13.796257796257796\n",
      "\n"
     ]
    }
   ],
   "source": [
    "# Although they are not numeric we can produce statistics from non-numeric variables\n",
    "\n",
    "print('\\nNumber of unique customers: {}\\n\\nNumber of unique products: {}'.\n",
    "      format(len(df2['customer'].unique()), len(df2['product'].unique())))\n",
    "\n",
    "print('\\nReview per customer: {}\\n\\nReview per product: {}\\n'.\n",
    "         format((len(df2)/len(df2['customer'].unique())), (len(df2)/len(df2['product'].unique()))))\n",
    "\n",
    "# We produced 4 additional statistics with non-numeric variables."
   ]
  },
  {
   "cell_type": "markdown",
   "metadata": {},
   "source": [
    "### What we learned from the statistics summary\n",
    "\n",
    "    * Rating:\n",
    "      - Mean of the ratings is more than 4 out of 5. It means that people are tendentious to giving high ratings. \"std\" value (1.084) and percentile values show that 1 and 2 star ratings are rare. \n",
    "      - Small numbers of \"ratings under 4\" will decrease the predictability of these ratings. To overcome this problem we need to split the ratings in to two groups as \"good\" and \"bad\" ratings.\n",
    "    \n",
    "    * total votes (t_votes) and positive votes (p_votes):\n",
    "      - Their means are more than 3.0 but percentile values shows that more than half of the reviews don't have \"helpful\"votes.\n",
    "      - They have outliers and should be cleaned or imputed. \n",
    "    \n",
    "    * Non-numeric variables statistics:\n",
    "      - Some customers have more than one ratings and most probably we have some outliers.\n",
    "      - All ratings do not belong to diffent different people\n",
    "        "
   ]
  },
  {
   "cell_type": "markdown",
   "metadata": {},
   "source": [
    "### Fixing learned issues"
   ]
  },
  {
   "cell_type": "code",
   "execution_count": 10,
   "metadata": {},
   "outputs": [],
   "source": [
    "df2.to_csv('nlp_amazon_reviews_patio.csv', sep=',')"
   ]
  },
  {
   "cell_type": "code",
   "execution_count": 10,
   "metadata": {},
   "outputs": [
    {
     "data": {
      "text/plain": [
       "Text(0.5,1,'Reviews made by a single custoomer Outliers')"
      ]
     },
     "execution_count": 10,
     "metadata": {},
     "output_type": "execute_result"
    },
    {
     "data": {
      "image/png": "[encoded data removed]",
      "text/plain": [
       "<Figure size 1296x144 with 1 Axes>"
      ]
     },
     "metadata": {},
     "output_type": "display_data"
    },
    {
     "data": {
      "image/png": "[encoded data removed]",
      "text/plain": [
       "<Figure size 1296x144 with 1 Axes>"
      ]
     },
     "metadata": {},
     "output_type": "display_data"
    },
    {
     "data": {
      "image/png": "[encoded data removed]",
      "text/plain": [
       "<Figure size 1296x144 with 1 Axes>"
      ]
     },
     "metadata": {},
     "output_type": "display_data"
    }
   ],
   "source": [
    "# visualizing postive_feedback ouliers\n",
    "fig = plt.figure(figsize=(18,2))\n",
    "plt.boxplot(df2['pos_feedback'], 0, 'rs', 0)\n",
    "plt.title('Posive Feedback Outliers')\n",
    "\n",
    "# visualizing negative_feedback ouliers\n",
    "fig = plt.figure(figsize=(18,2))\n",
    "plt.boxplot(df2['neg_feedback'], 0, 'rs', 0)\n",
    "plt.title('Negative Feedback Outliers')\n",
    "\n",
    "# detecting outliers of customers who made many reviews.\n",
    "a = np.array(df2.customer.value_counts())\n",
    "fig = plt.figure(figsize=(18,2))\n",
    "plt.boxplot(a, 0, 'rs', 0)\n",
    "plt.title('Reviews made by a single custoomer Outliers')"
   ]
  },
  {
   "cell_type": "code",
   "execution_count": 11,
   "metadata": {},
   "outputs": [],
   "source": [
    "import nltk\n",
    "from nltk.corpus import stopwords\n",
    "from bs4 import BeautifulSoup\n",
    "import unicodedata\n",
    "import contractions\n",
    "from nltk.stem import WordNetLemmatizer\n",
    "from nltk.tokenize import word_tokenize, sent_tokenize, regexp_tokenize \n",
    "from nltk.stem import PorterStemmer, WordNetLemmatizer\n",
    "import re\n",
    "\n",
    "# html_tags removal\n",
    "def strip_html_tags(text):\n",
    "    soup = BeautifulSoup(text, \"html.parser\")\n",
    "    stripped_text = soup.get_text()\n",
    "    return stripped_text\n",
    "\n",
    "# accented_chars removal\n",
    "def remove_accented_chars(text):\n",
    "    text = unicodedata.normalize('NFKD', text).encode('ascii', 'ignore').decode('utf-8', 'ignore')\n",
    "    return text\n",
    "\n",
    "# special_characters removal\n",
    "def remove_special_characters(text, remove_digits=False):\n",
    "    pattern = r'[^a-zA-z0-9\\s]' if not remove_digits else r'[^a-zA-z\\s]'\n",
    "    text = re.sub(pattern, '', text)\n",
    "    return text\n",
    "\n",
    "\n",
    "# Lemmatization\n",
    "lemmatizer=WordNetLemmatizer()\n",
    "\n",
    "                     \n",
    "def lemmatize_text(text):\n",
    "    text = \" \".join(lemmatizer.lemmatize(w) for w in text.split(' '))\n",
    "    return text\n",
    "\n",
    "# Creating stopwordlist and editing \n",
    "stopword_list= stopwords.words('english')\n",
    "    \n",
    "# \"no\" and \"not\" may give us information so those are removed from stop lists\n",
    "stopword_list.remove('no')\n",
    "stopword_list.remove('not')\n",
    "                     \n",
    "def remove_stopwords(text, stop_words=stopword_list):\n",
    "    tokens = [w for w in nltk.word_tokenize(text) if w not in stop_words]\n",
    "    return ' '.join(tokens)    \n",
    "\n",
    "                     \n",
    "\n",
    "def normalize_text(text, html_stripping=True, contraction_expansion=True,\n",
    "                     accented_char_removal=True, text_lower_case=True, \n",
    "                     text_lemmatization=True, special_char_removal=True, \n",
    "                     stopword_removal=True, remove_digits=True):\n",
    "    \n",
    "    # strip HTML\n",
    "    if html_stripping:\n",
    "        text = strip_html_tags(text)\n",
    "        \n",
    "    # expand contractions    \n",
    "    if contraction_expansion:\n",
    "        text = contractions.fix(text)\n",
    "        \n",
    "    # remove accented characters\n",
    "    if accented_char_removal:\n",
    "        text = remove_accented_chars(text)\n",
    "\n",
    "    # lowercase the text    \n",
    "    if text_lower_case:\n",
    "        text = text.lower()\n",
    "    \n",
    "    # remove extra newlines\n",
    "    text = re.sub(r'[\\r|\\n|\\r\\n]+', ' ',text)\n",
    "    \n",
    "    # remove special characters and\\or digits    \n",
    "    if special_char_removal:\n",
    "        # insert spaces between special characters to isolate them    \n",
    "        special_char_pattern = re.compile(r'([{.(-)!}])')\n",
    "        text = special_char_pattern.sub(\" \\\\1 \", text)\n",
    "        text = remove_special_characters(text, remove_digits=remove_digits)  \n",
    "    \n",
    "    # remove extra whitespace and underscore\n",
    "    text = re.sub(' +', ' ', text)\n",
    "    text = re.sub('_+', '', text)\n",
    "    \n",
    "    # lemmatize text\n",
    "    if text_lemmatization:\n",
    "        text = lemmatize_text(text)\n",
    "        \n",
    "    # remove stopwords\n",
    "    if stopword_removal:\n",
    "        text = remove_stopwords(text)\n",
    "    \n",
    "    # remove non English words\n",
    "    words = set(nltk.corpus.words.words())\n",
    "\n",
    "    text = \" \".join(w for w in nltk.wordpunct_tokenize(text) \\\n",
    "         if w.lower() in words or not w.isalpha())    \n",
    "    return text"
   ]
  },
  {
   "cell_type": "code",
   "execution_count": 12,
   "metadata": {
    "scrolled": true
   },
   "outputs": [],
   "source": [
    "from nltk.tokenize import word_tokenize\n",
    "def tokenize(text):\n",
    "    text= word_tokenize(text)\n",
    "    return text\n",
    "df2['tokens']=df2[\"review_text\"].apply(tokenize)"
   ]
  },
  {
   "cell_type": "code",
   "execution_count": 13,
   "metadata": {},
   "outputs": [
    {
     "name": "stdout",
     "output_type": "stream",
     "text": [
      "\n",
      "Number of total raw tokens: 2438779\n",
      "\n"
     ]
    }
   ],
   "source": [
    "all_words = [word for tokens in df2[\"tokens\"] for word in tokens]\n",
    "print('\\nNumber of total raw tokens: {}\\n'.format(len(all_words)))"
   ]
  },
  {
   "cell_type": "code",
   "execution_count": null,
   "metadata": {},
   "outputs": [],
   "source": [
    "df2['clean_text'] = df2['review_text'].map(lambda text: normalize_text(text))\n",
    "df2.head(1)"
   ]
  },
  {
   "cell_type": "code",
   "execution_count": 43,
   "metadata": {},
   "outputs": [],
   "source": [
    "from nltk.tokenize import word_tokenize\n",
    "def tokenize(text):\n",
    "    text= word_tokenize(text)\n",
    "    return text\n",
    "df2['tokens2']=df2['clean_text'].apply(tokenize)"
   ]
  },
  {
   "cell_type": "code",
   "execution_count": 44,
   "metadata": {},
   "outputs": [
    {
     "data": {
      "text/html": [
       "<div>\n",
       "<style scoped>\n",
       "    .dataframe tbody tr th:only-of-type {\n",
       "        vertical-align: middle;\n",
       "    }\n",
       "\n",
       "    .dataframe tbody tr th {\n",
       "        vertical-align: top;\n",
       "    }\n",
       "\n",
       "    .dataframe thead th {\n",
       "        text-align: right;\n",
       "    }\n",
       "</style>\n",
       "<table border=\"1\" class=\"dataframe\">\n",
       "  <thead>\n",
       "    <tr style=\"text-align: right;\">\n",
       "      <th></th>\n",
       "      <th>customer</th>\n",
       "      <th>product</th>\n",
       "      <th>rating</th>\n",
       "      <th>time</th>\n",
       "      <th>pos_feedback</th>\n",
       "      <th>neg_feedback</th>\n",
       "      <th>review_text</th>\n",
       "      <th>tokens</th>\n",
       "      <th>clean_text</th>\n",
       "      <th>tokens2</th>\n",
       "    </tr>\n",
       "  </thead>\n",
       "  <tbody>\n",
       "    <tr>\n",
       "      <th>0</th>\n",
       "      <td>A1JZFGZEZVWQPY</td>\n",
       "      <td>B00002N674</td>\n",
       "      <td>4.0</td>\n",
       "      <td>1308614400</td>\n",
       "      <td>4</td>\n",
       "      <td>0</td>\n",
       "      <td>Great Hoses Good USA company that stands behin...</td>\n",
       "      <td>[Great, Hoses, Good, USA, company, that, stand...</td>\n",
       "      <td>great hose good usa company stand behind produ...</td>\n",
       "      <td>[great, hose, good, usa, company, stand, behin...</td>\n",
       "    </tr>\n",
       "  </tbody>\n",
       "</table>\n",
       "</div>"
      ],
      "text/plain": [
       "         customer     product  rating        time  pos_feedback  neg_feedback  \\\n",
       "0  A1JZFGZEZVWQPY  B00002N674     4.0  1308614400             4             0   \n",
       "\n",
       "                                         review_text  \\\n",
       "0  Great Hoses Good USA company that stands behin...   \n",
       "\n",
       "                                              tokens  \\\n",
       "0  [Great, Hoses, Good, USA, company, that, stand...   \n",
       "\n",
       "                                          clean_text  \\\n",
       "0  great hose good usa company stand behind produ...   \n",
       "\n",
       "                                             tokens2  \n",
       "0  [great, hose, good, usa, company, stand, behin...  "
      ]
     },
     "execution_count": 44,
     "metadata": {},
     "output_type": "execute_result"
    }
   ],
   "source": [
    "df2.head(1)"
   ]
  },
  {
   "cell_type": "code",
   "execution_count": 45,
   "metadata": {
    "scrolled": false
   },
   "outputs": [
    {
     "name": "stdout",
     "output_type": "stream",
     "text": [
      "\n",
      "Number of total clean tokens: 1124125\n",
      " \n",
      "Percentage of removed tokens: 0.5390623750655553\n",
      "\n"
     ]
    }
   ],
   "source": [
    "all_words2 = [word for tokens in df2[\"tokens2\"] for word in tokens]\n",
    "print(('\\nNumber of total clean tokens: {}\\n'.format(len(all_words2))),\n",
    "      ('\\nPercentage of removed tokens: {}\\n'.format((len(all_words)-len(all_words2))/len(all_words))))"
   ]
  },
  {
   "cell_type": "code",
   "execution_count": 46,
   "metadata": {},
   "outputs": [
    {
     "data": {
      "text/html": [
       "<div>\n",
       "<style scoped>\n",
       "    .dataframe tbody tr th:only-of-type {\n",
       "        vertical-align: middle;\n",
       "    }\n",
       "\n",
       "    .dataframe tbody tr th {\n",
       "        vertical-align: top;\n",
       "    }\n",
       "\n",
       "    .dataframe thead th {\n",
       "        text-align: right;\n",
       "    }\n",
       "</style>\n",
       "<table border=\"1\" class=\"dataframe\">\n",
       "  <thead>\n",
       "    <tr style=\"text-align: right;\">\n",
       "      <th></th>\n",
       "      <th>customer</th>\n",
       "      <th>product</th>\n",
       "      <th>rating</th>\n",
       "      <th>time</th>\n",
       "      <th>pos_feedback</th>\n",
       "      <th>neg_feedback</th>\n",
       "      <th>review_text</th>\n",
       "      <th>clean_text</th>\n",
       "      <th>tokens2</th>\n",
       "    </tr>\n",
       "  </thead>\n",
       "  <tbody>\n",
       "    <tr>\n",
       "      <th>0</th>\n",
       "      <td>A1JZFGZEZVWQPY</td>\n",
       "      <td>B00002N674</td>\n",
       "      <td>4.0</td>\n",
       "      <td>1308614400</td>\n",
       "      <td>4</td>\n",
       "      <td>0</td>\n",
       "      <td>Great Hoses Good USA company that stands behin...</td>\n",
       "      <td>great hose good usa company stand behind produ...</td>\n",
       "      <td>[great, hose, good, usa, company, stand, behin...</td>\n",
       "    </tr>\n",
       "  </tbody>\n",
       "</table>\n",
       "</div>"
      ],
      "text/plain": [
       "         customer     product  rating        time  pos_feedback  neg_feedback  \\\n",
       "0  A1JZFGZEZVWQPY  B00002N674     4.0  1308614400             4             0   \n",
       "\n",
       "                                         review_text  \\\n",
       "0  Great Hoses Good USA company that stands behin...   \n",
       "\n",
       "                                          clean_text  \\\n",
       "0  great hose good usa company stand behind produ...   \n",
       "\n",
       "                                             tokens2  \n",
       "0  [great, hose, good, usa, company, stand, behin...  "
      ]
     },
     "execution_count": 46,
     "metadata": {},
     "output_type": "execute_result"
    }
   ],
   "source": [
    "df3=df2.drop(['tokens'], axis=1)\n",
    "df3.head(1)"
   ]
  },
  {
   "cell_type": "code",
   "execution_count": 47,
   "metadata": {},
   "outputs": [],
   "source": [
    "df3.to_csv('nlp_reviews_cleaned_DENEME.csv', sep=',', encoding='utf-8')"
   ]
  },
  {
   "cell_type": "code",
   "execution_count": 50,
   "metadata": {},
   "outputs": [
    {
     "data": {
      "text/plain": [
       "''"
      ]
     },
     "execution_count": 50,
     "metadata": {},
     "output_type": "execute_result"
    }
   ],
   "source": [
    "import nltk\n",
    "words = set(nltk.corpus.words.words())\n",
    "\n",
    "\" \".join(w for w in nltk.wordpunct_tokenize(text) \\\n",
    "         if w.lower() in words or not w.isalpha())\n",
    "# 'Io to the beach with my'"
   ]
  },
  {
   "cell_type": "code",
   "execution_count": null,
   "metadata": {},
   "outputs": [],
   "source": []
  }
 ],
 "metadata": {
  "kernelspec": {
   "display_name": "Python 3",
   "language": "python",
   "name": "python3"
  },
  "language_info": {
   "codemirror_mode": {
    "name": "ipython",
    "version": 3
   },
   "file_extension": ".py",
   "mimetype": "text/x-python",
   "name": "python",
   "nbconvert_exporter": "python",
   "pygments_lexer": "ipython3",
   "version": "3.6.5"
  }
 },
 "nbformat": 4,
 "nbformat_minor": 2
}
