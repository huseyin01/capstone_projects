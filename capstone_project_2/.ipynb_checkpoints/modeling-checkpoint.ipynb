{
 "cells": [
  {
   "cell_type": "code",
   "execution_count": 61,
   "metadata": {},
   "outputs": [],
   "source": [
    "import itertools\n",
    "## Regular Expression\n",
    "import re\n",
    "\n",
    "## Arrays\n",
    "import numpy as np\n",
    "\n",
    "## DataFrames\n",
    "import pandas as pd\n",
    "\n",
    "## Visualizations\n",
    "import matplotlib.pyplot as plt\n",
    "from matplotlib.colors import ListedColormap\n",
    "import seaborn as sns\n",
    "import matplotlib.colors as colors\n",
    "%matplotlib inline\n",
    "\n",
    "## Modeling\n",
    "from sklearn.model_selection import cross_validate\n",
    "from sklearn.model_selection import train_test_split\n",
    "from sklearn.model_selection import StratifiedKFold\n",
    "from sklearn.model_selection import GridSearchCV\n",
    "from sklearn.linear_model import LogisticRegression\n",
    "from sklearn.model_selection import learning_curve\n",
    "from sklearn.ensemble import ExtraTreesClassifier\n",
    "from sklearn.decomposition import TruncatedSVD\n",
    "from sklearn.feature_extraction.text import TfidfVectorizer, CountVectorizer\n",
    "from sklearn.pipeline import Pipeline\n",
    "from sklearn.naive_bayes import MultinomialNB\n",
    "from sklearn.ensemble import GradientBoostingClassifier\n",
    "from sklearn.neighbors import KNeighborsClassifier\n",
    "from sklearn.cross_validation import cross_val_score, cross_val_predict\n",
    "from sklearn import metrics\n",
    "from sklearn.metrics import classification_report\n",
    "from sklearn.metrics import confusion_matrix\n",
    "from sklearn.ensemble import RandomForestClassifier\n",
    "from sklearn.svm import LinearSVC\n",
    "from sklearn.ensemble import AdaBoostClassifier\n",
    "from sklearn.tree import DecisionTreeClassifier\n",
    "\n",
    "import contractions\n",
    "import spacy\n",
    "import nltk\n",
    "from nltk.corpus import stopwords\n",
    "from nltk import word_tokenize\n",
    "from nltk.stem import PorterStemmer, WordNetLemmatizer"
   ]
  },
  {
   "cell_type": "code",
   "execution_count": 62,
   "metadata": {},
   "outputs": [],
   "source": [
    "df=pd.read_csv('nlp_reviews_cleaned.csv', delimiter=',')"
   ]
  },
  {
   "cell_type": "code",
   "execution_count": 63,
   "metadata": {},
   "outputs": [
    {
     "name": "stdout",
     "output_type": "stream",
     "text": [
      "1    12080\n",
      "0     1192\n",
      "Name: rating_class, dtype: int64\n"
     ]
    }
   ],
   "source": [
    "df['rating_class'] = df['rating'].apply(lambda x: 0 if x <= 2 else 1)\n",
    "print(df.rating_class.value_counts())"
   ]
  },
  {
   "cell_type": "code",
   "execution_count": 64,
   "metadata": {},
   "outputs": [],
   "source": [
    "df_train = df[0:10000]"
   ]
  },
  {
   "cell_type": "code",
   "execution_count": 65,
   "metadata": {},
   "outputs": [],
   "source": [
    "X_1 = df_train['clean_text']\n",
    "y_1 = df_train['rating_class']\n",
    "X_train1, X_test1, y_train1, y_test1 = train_test_split(X_1, y_1, test_size=0.25, random_state=5)"
   ]
  },
  {
   "cell_type": "code",
   "execution_count": 32,
   "metadata": {},
   "outputs": [],
   "source": [
    "cv1 = CountVectorizer(ngram_range=(1,1))\n",
    "cv_train1 = cv1.fit_transform(X_train1)\n",
    "cv_train1 = cv_train1.toarray()\n",
    "cv_test1 = cv1.transform(X_test1)\n",
    "cv_test1 = cv_test1.toarray()"
   ]
  },
  {
   "cell_type": "code",
   "execution_count": 22,
   "metadata": {},
   "outputs": [
    {
     "name": "stdout",
     "output_type": "stream",
     "text": [
      "'[Linear SVM]'\n",
      "Accuracy : 0.8828\n",
      "Confusion matrix: [[  92  145]\n",
      " [ 148 2115]]\n",
      "Classification Report:              precision    recall  f1-score   support\n",
      "\n",
      "          0       0.38      0.39      0.39       237\n",
      "          1       0.94      0.93      0.94      2263\n",
      "\n",
      "avg / total       0.88      0.88      0.88      2500\n",
      "\n",
      "'[Random Forest]'\n",
      "Accuracy : 0.9036\n",
      "Confusion matrix: [[  16  221]\n",
      " [  20 2243]]\n",
      "Classification Report:              precision    recall  f1-score   support\n",
      "\n",
      "          0       0.44      0.07      0.12       237\n",
      "          1       0.91      0.99      0.95      2263\n",
      "\n",
      "avg / total       0.87      0.90      0.87      2500\n",
      "\n"
     ]
    }
   ],
   "source": [
    "from sklearn import model_selection\n",
    "from sklearn.linear_model import LogisticRegression\n",
    "from sklearn.ensemble import RandomForestClassifier\n",
    "from sklearn.svm import SVC\n",
    "\n",
    "clf1 = LogisticRegression(random_state=1)\n",
    "clf2 = SVC(kernel = 'linear')\n",
    "clf2 = RandomForestClassifier(random_state=1)\n",
    "\n",
    "\n",
    "labels = ['Logistic Regression', 'Linear SVM', 'Random Forest']\n",
    "for clf, label in zip([clf1, clf2, clf3], labels):\n",
    "    clf.fit(cv_train1, y_train1)\n",
    "    y_pred_clf = clf.predict(cv_test1)\n",
    "    cm = confusion_matrix(y_test1, y_pred_clf)\n",
    "    \n",
    "    print(\"'[{}]'\\nAccuracy : {}\\nConfusion matrix: {}\\nClassification Report: {}\".format\n",
    "          (label, metrics.accuracy_score(y_test1, y_pred_clf), cm, classification_report(y_test1, y_pred_clf)))"
   ]
  },
  {
   "cell_type": "markdown",
   "metadata": {},
   "source": [
    "### Non-English words removal"
   ]
  },
  {
   "cell_type": "code",
   "execution_count": null,
   "metadata": {},
   "outputs": [],
   "source": [
    "df2=df_train"
   ]
  },
  {
   "cell_type": "code",
   "execution_count": null,
   "metadata": {},
   "outputs": [],
   "source": [
    "'''\n",
    "def non_english_removal(text):\n",
    "    words = set(nltk.corpus.words.words())\n",
    "    text = \" \".join(w for w in nltk.wordpunct_tokenize(text) \\\n",
    "         if w.lower() in words or not w.isalpha())    \n",
    "    return text\n",
    "\n",
    "df2['clean_text']=df2[\"clean_text\"].apply(non_english_removal)\n",
    "'''"
   ]
  },
  {
   "cell_type": "code",
   "execution_count": 19,
   "metadata": {},
   "outputs": [],
   "source": [
    "df_ne=pd.read_csv('nlp_nonenglish.csv', delimiter=',')"
   ]
  },
  {
   "cell_type": "code",
   "execution_count": 20,
   "metadata": {
    "scrolled": true
   },
   "outputs": [
    {
     "name": "stdout",
     "output_type": "stream",
     "text": [
      "1    12080\n",
      "0     1192\n",
      "Name: rating_class, dtype: int64\n"
     ]
    }
   ],
   "source": [
    "df_ne['rating_class'] = df_ne['rating'].apply(lambda x: 0 if x <= 2 else 1)\n",
    "print(df_ne.rating_class.value_counts())"
   ]
  },
  {
   "cell_type": "code",
   "execution_count": 45,
   "metadata": {
    "scrolled": true
   },
   "outputs": [
    {
     "data": {
      "text/plain": [
       "1"
      ]
     },
     "execution_count": 45,
     "metadata": {},
     "output_type": "execute_result"
    }
   ],
   "source": [
    "df_ne.isnull().sum().sum()"
   ]
  },
  {
   "cell_type": "code",
   "execution_count": 46,
   "metadata": {},
   "outputs": [],
   "source": [
    "df_ne = df_ne[pd.notnull(df_ne['clean_text'])]"
   ]
  },
  {
   "cell_type": "code",
   "execution_count": 47,
   "metadata": {},
   "outputs": [
    {
     "data": {
      "text/plain": [
       "0"
      ]
     },
     "execution_count": 47,
     "metadata": {},
     "output_type": "execute_result"
    }
   ],
   "source": [
    "df_ne.isnull().sum().sum()"
   ]
  },
  {
   "cell_type": "code",
   "execution_count": 48,
   "metadata": {},
   "outputs": [],
   "source": [
    "df_ne_train = df_ne[0:10000]"
   ]
  },
  {
   "cell_type": "code",
   "execution_count": 49,
   "metadata": {},
   "outputs": [],
   "source": [
    "X_ne = df_ne_train['clean_text']\n",
    "y_ne = df_ne_train['rating_class']\n",
    "X_train_ne, X_test_ne, y_train_ne, y_test_ne = train_test_split(X_ne, y_ne, test_size=0.25, random_state=5)"
   ]
  },
  {
   "cell_type": "code",
   "execution_count": 50,
   "metadata": {},
   "outputs": [],
   "source": [
    "cv_ne = CountVectorizer(ngram_range=(1,1))\n",
    "cv_train_ne = cv_ne.fit_transform(X_train_ne)\n",
    "cv_train_ne = cv_train_ne.toarray()\n",
    "cv_test_ne = cv_ne.transform(X_test_ne)\n",
    "cv_test_ne = cv_test_ne.toarray()"
   ]
  },
  {
   "cell_type": "code",
   "execution_count": 51,
   "metadata": {},
   "outputs": [
    {
     "name": "stdout",
     "output_type": "stream",
     "text": [
      "'[Linear SVM]'\n",
      "Accuracy : 0.884\n",
      "Confusion matrix: [[  92  148]\n",
      " [ 142 2118]]\n",
      "Classification Report:              precision    recall  f1-score   support\n",
      "\n",
      "          0       0.39      0.38      0.39       240\n",
      "          1       0.93      0.94      0.94      2260\n",
      "\n",
      "avg / total       0.88      0.88      0.88      2500\n",
      "\n",
      "'[Random Forest]'\n",
      "Accuracy : 0.9028\n",
      "Confusion matrix: [[  17  223]\n",
      " [  20 2240]]\n",
      "Classification Report:              precision    recall  f1-score   support\n",
      "\n",
      "          0       0.46      0.07      0.12       240\n",
      "          1       0.91      0.99      0.95      2260\n",
      "\n",
      "avg / total       0.87      0.90      0.87      2500\n",
      "\n"
     ]
    }
   ],
   "source": [
    "from sklearn import model_selection\n",
    "from sklearn.linear_model import LogisticRegression\n",
    "from sklearn.ensemble import RandomForestClassifier\n",
    "from sklearn.svm import SVC\n",
    "\n",
    "clf1 = SVC(kernel = 'linear')\n",
    "clf2 = RandomForestClassifier(random_state=1)\n",
    "\n",
    "\n",
    "labels = ['Linear SVM', 'Random Forest']\n",
    "for clf, label in zip([clf1, clf2], labels):\n",
    "    clf.fit(cv_train_ne, y_train_ne)\n",
    "    y_pred_clf = clf.predict(cv_test_ne)\n",
    "    cm = confusion_matrix(y_test_ne, y_pred_clf)\n",
    "    \n",
    "    print(\"'[{}]'\\nAccuracy : {}\\nConfusion matrix: {}\\nClassification Report: {}\".format\n",
    "          (label, metrics.accuracy_score(y_test_ne, y_pred_clf), cm, classification_report(y_test_ne, y_pred_clf)))"
   ]
  },
  {
   "cell_type": "code",
   "execution_count": 54,
   "metadata": {},
   "outputs": [
    {
     "data": {
      "image/png": "[encoded data removed]",
      "text/plain": [
       "<IPython.core.display.Image object>"
      ]
     },
     "execution_count": 54,
     "metadata": {},
     "output_type": "execute_result"
    }
   ],
   "source": [
    "from IPython.display import Image\n",
    "img = 'nonenglish_effect.png'\n",
    "Image(filename=img)"
   ]
  },
  {
   "cell_type": "markdown",
   "metadata": {},
   "source": [
    "### Most common words removal"
   ]
  },
  {
   "cell_type": "code",
   "execution_count": 67,
   "metadata": {},
   "outputs": [
    {
     "name": "stdout",
     "output_type": "stream",
     "text": [
      "Match-up ration 0.79: \n"
     ]
    }
   ],
   "source": [
    "    freq3=[]\n",
    "    freq1 = pd.Series(' '.join(df_train['clean_text'][df_train['rating_class']==1]).split()).value_counts()[:100]\n",
    "    freq1=list(freq1.index)\n",
    "    freq2 = pd.Series(' '.join(df_train['clean_text'][df_train['rating_class']==0]).split()).value_counts()[:100]\n",
    "    freq2=list(freq2.index)\n",
    "    for w in freq2:\n",
    "        if w in freq1:\n",
    "            freq3.append(w)\n",
    "\n",
    "            \n",
    "    print('Match-up ration {}: '.format(len(freq3)/len(freq1)))\n",
    "    "
   ]
  },
  {
   "cell_type": "code",
   "execution_count": 68,
   "metadata": {},
   "outputs": [
    {
     "data": {
      "text/plain": [
       "79"
      ]
     },
     "execution_count": 68,
     "metadata": {},
     "output_type": "execute_result"
    }
   ],
   "source": [
    "len(freq3)"
   ]
  },
  {
   "cell_type": "code",
   "execution_count": 69,
   "metadata": {},
   "outputs": [
    {
     "name": "stderr",
     "output_type": "stream",
     "text": [
      "/Users/onlyone/anaconda3/lib/python3.6/site-packages/ipykernel_launcher.py:9: SettingWithCopyWarning: \n",
      "A value is trying to be set on a copy of a slice from a DataFrame.\n",
      "Try using .loc[row_indexer,col_indexer] = value instead\n",
      "\n",
      "See the caveats in the documentation: http://pandas.pydata.org/pandas-docs/stable/indexing.html#indexing-view-versus-copy\n",
      "  if __name__ == '__main__':\n"
     ]
    }
   ],
   "source": [
    "most_common_words = freq3\n",
    "most_common_words.remove('no')\n",
    "most_common_words.remove('not')\n",
    "\n",
    "def remove_most_comman(text, stop_words=most_common_words):\n",
    "    tokens = [w for w in nltk.word_tokenize(text) if w not in stop_words]\n",
    "    return ' '.join(tokens)\n",
    "\n",
    "df_train['clean_text_mc'] = df_train['clean_text'].map(lambda text: remove_most_comman(text))"
   ]
  },
  {
   "cell_type": "code",
   "execution_count": 70,
   "metadata": {},
   "outputs": [
    {
     "name": "stdout",
     "output_type": "stream",
     "text": [
      "Number of clean tokens: 595097\n",
      "\n",
      "Percentage of removed tokens: 0.26\n"
     ]
    }
   ],
   "source": [
    "# Let's put aside number of raw tokens in order to measure of cleaned tokens\n",
    "from nltk.tokenize import word_tokenize\n",
    "tokens1=len([w for t in (df_train[\"clean_text\"].apply(word_tokenize)) for w in t])\n",
    "tokens2=len([w for t in (df_train[\"clean_text_mc\"].apply(word_tokenize)) for w in t])\n",
    "print('Number of clean tokens: {}\\n'.format(tokens2))\n",
    "print('Percentage of removed tokens: {0:.2f}'.format(1-(tokens2/tokens1)))"
   ]
  },
  {
   "cell_type": "code",
   "execution_count": 72,
   "metadata": {},
   "outputs": [],
   "source": [
    "X_2 = df_train['clean_text_mc']\n",
    "y_2 = df_train['rating_class']\n",
    "X_train2, X_test2, y_train2, y_test2 = train_test_split(X_2, y_2, test_size=0.25, random_state=5)\n",
    "\n",
    "cv2 = CountVectorizer(ngram_range=(1,1))\n",
    "cv_train2 = cv2.fit_transform(X_train2)\n",
    "cv_train2 = cv_train2.toarray()\n",
    "cv_test2 = cv2.transform(X_test2)\n",
    "cv_test2 = cv_test2.toarray()"
   ]
  },
  {
   "cell_type": "code",
   "execution_count": 73,
   "metadata": {},
   "outputs": [
    {
     "name": "stdout",
     "output_type": "stream",
     "text": [
      "'[Linear SVM]'\n",
      "Accuracy : 0.8836\n",
      "Confusion matrix: [[  87  150]\n",
      " [ 141 2122]]\n",
      "Cls_Rpr:              precision    recall  f1-score   support\n",
      "\n",
      "          0       0.38      0.37      0.37       237\n",
      "          1       0.93      0.94      0.94      2263\n",
      "\n",
      "avg / total       0.88      0.88      0.88      2500\n",
      "\n",
      "'[Random Forest]'\n",
      "Accuracy : 0.9028\n",
      "Confusion matrix: [[  23  214]\n",
      " [  29 2234]]\n",
      "Cls_Rpr:              precision    recall  f1-score   support\n",
      "\n",
      "          0       0.44      0.10      0.16       237\n",
      "          1       0.91      0.99      0.95      2263\n",
      "\n",
      "avg / total       0.87      0.90      0.87      2500\n",
      "\n"
     ]
    }
   ],
   "source": [
    "from sklearn import model_selection\n",
    "from sklearn.linear_model import LogisticRegression\n",
    "from sklearn.ensemble import RandomForestClassifier\n",
    "from sklearn.svm import SVC\n",
    "\n",
    "clf1 = SVC(kernel = 'linear')\n",
    "clf2 = RandomForestClassifier(random_state=1)\n",
    "\n",
    "\n",
    "labels = ['Linear SVM', 'Random Forest']\n",
    "for clf, label in zip([clf1, clf2], labels):\n",
    "    clf.fit(cv_train2, y_train2)\n",
    "    y_pred_clf = clf.predict(cv_test2)\n",
    "    cm = confusion_matrix(y_test2, y_pred_clf)\n",
    "    \n",
    "    print(\"'[{}]'\\nAccuracy : {}\\nConfusion matrix: {}\\nCls_Rpr: {}\".format\n",
    "          (label, metrics.accuracy_score(y_test2, y_pred_clf), cm, classification_report(y_test2, y_pred_clf)))"
   ]
  },
  {
   "cell_type": "code",
   "execution_count": 77,
   "metadata": {},
   "outputs": [
    {
     "name": "stdout",
     "output_type": "stream",
     "text": [
      "Match-up ration 0.0439: \n"
     ]
    }
   ],
   "source": [
    "freq6=[]\n",
    "freq4 = pd.Series(' '.join(df_train['clean_text'][df_train['rating_class']==1]).split()).value_counts()[-10000:]\n",
    "freq4=list(freq4.index)\n",
    "freq5 = pd.Series(' '.join(df_train['clean_text'][df_train['rating_class']==0]).split()).value_counts()[-10000:]\n",
    "freq5=list(freq5.index)\n",
    "for w in freq5:\n",
    "    if w in freq4:\n",
    "            freq6.append(w)\n",
    "\n",
    "print('Match-up ration {}: '.format(len(freq6)/len(freq4)))"
   ]
  },
  {
   "cell_type": "code",
   "execution_count": 78,
   "metadata": {},
   "outputs": [
    {
     "name": "stderr",
     "output_type": "stream",
     "text": [
      "/Users/onlyone/anaconda3/lib/python3.6/site-packages/ipykernel_launcher.py:7: SettingWithCopyWarning: \n",
      "A value is trying to be set on a copy of a slice from a DataFrame.\n",
      "Try using .loc[row_indexer,col_indexer] = value instead\n",
      "\n",
      "See the caveats in the documentation: http://pandas.pydata.org/pandas-docs/stable/indexing.html#indexing-view-versus-copy\n",
      "  import sys\n"
     ]
    }
   ],
   "source": [
    "least_common_words = freq3\n",
    "\n",
    "def remove_least_comman(text, stop_words=least_common_words):\n",
    "    tokens = [w for w in nltk.word_tokenize(text) if w not in stop_words]\n",
    "    return ' '.join(tokens)\n",
    "\n",
    "df_train['clean_text_lc'] = df_train['clean_text'].map(lambda text: remove_least_comman(text))"
   ]
  },
  {
   "cell_type": "code",
   "execution_count": 79,
   "metadata": {},
   "outputs": [],
   "source": [
    "X_3 = df_train['clean_text_lc']\n",
    "y_3 = df_train['rating_class']\n",
    "X_train3, X_test3, y_train3, y_test3 = train_test_split(X_3, y_3, test_size=0.25, random_state=5)\n",
    "\n",
    "cv3 = CountVectorizer(ngram_range=(1,1))\n",
    "cv_train3 = cv3.fit_transform(X_train3)\n",
    "cv_train3 = cv_train3.toarray()\n",
    "cv_test3 = cv3.transform(X_test3)\n",
    "cv_test3 = cv_test3.toarray()"
   ]
  },
  {
   "cell_type": "code",
   "execution_count": 80,
   "metadata": {},
   "outputs": [
    {
     "name": "stdout",
     "output_type": "stream",
     "text": [
      "'[Linear SVM]'\n",
      "Accuracy : 0.8836\n",
      "Confusion matrix: [[  87  150]\n",
      " [ 141 2122]]\n",
      "Cls_Rpr:              precision    recall  f1-score   support\n",
      "\n",
      "          0       0.38      0.37      0.37       237\n",
      "          1       0.93      0.94      0.94      2263\n",
      "\n",
      "avg / total       0.88      0.88      0.88      2500\n",
      "\n",
      "'[Random Forest]'\n",
      "Accuracy : 0.9028\n",
      "Confusion matrix: [[  23  214]\n",
      " [  29 2234]]\n",
      "Cls_Rpr:              precision    recall  f1-score   support\n",
      "\n",
      "          0       0.44      0.10      0.16       237\n",
      "          1       0.91      0.99      0.95      2263\n",
      "\n",
      "avg / total       0.87      0.90      0.87      2500\n",
      "\n"
     ]
    }
   ],
   "source": [
    "from sklearn import model_selection\n",
    "from sklearn.linear_model import LogisticRegression\n",
    "from sklearn.ensemble import RandomForestClassifier\n",
    "from sklearn.svm import SVC\n",
    "\n",
    "clf1 = SVC(kernel = 'linear')\n",
    "clf2 = RandomForestClassifier(random_state=1)\n",
    "\n",
    "\n",
    "labels = ['Linear SVM', 'Random Forest']\n",
    "for clf, label in zip([clf1, clf2], labels):\n",
    "    clf.fit(cv_train3, y_train3)\n",
    "    y_pred_clf = clf.predict(cv_test3)\n",
    "    cm = confusion_matrix(y_test3, y_pred_clf)\n",
    "    \n",
    "    print(\"'[{}]'\\nAccuracy : {}\\nConfusion matrix: {}\\nCls_Rpr: {}\".format\n",
    "          (label, metrics.accuracy_score(y_test3, y_pred_clf), cm, classification_report(y_test3, y_pred_clf)))"
   ]
  },
  {
   "cell_type": "code",
   "execution_count": null,
   "metadata": {},
   "outputs": [],
   "source": []
  },
  {
   "cell_type": "code",
   "execution_count": null,
   "metadata": {},
   "outputs": [],
   "source": []
  },
  {
   "cell_type": "code",
   "execution_count": null,
   "metadata": {},
   "outputs": [],
   "source": []
  },
  {
   "cell_type": "code",
   "execution_count": null,
   "metadata": {},
   "outputs": [],
   "source": [
    "df5 = pd.DataFrame(columns=range(100,150))\n",
    "df6 = pd.DataFrame(columns=range(100,150))\n",
    "df7 = pd.DataFrame(columns=range(100,150))\n",
    "for i in range(100,150):\n",
    "    freq3=[]\n",
    "    df5[i] = pd.Series(' '.join(df['clean_text'][df['rating_class']==1]).split()).value_counts()[:i]\n",
    "    freq1=list(df5[i].index)\n",
    "    df6[i] = pd.Series(' '.join(df['clean_text'][df['rating_class']==0]).split()).value_counts()[:i]\n",
    "    freq2=list(df6[i].index)\n",
    "    for w in freq2:\n",
    "        if w in freq1:\n",
    "            freq3.append(w)\n",
    "\n",
    "            \n",
    "    print('Match-up ration for {}: {}'.format(i, (len(freq3)/len(freq1))))"
   ]
  }
 ],
 "metadata": {
  "kernelspec": {
   "display_name": "Python 3",
   "language": "python",
   "name": "python3"
  },
  "language_info": {
   "codemirror_mode": {
    "name": "ipython",
    "version": 3
   },
   "file_extension": ".py",
   "mimetype": "text/x-python",
   "name": "python",
   "nbconvert_exporter": "python",
   "pygments_lexer": "ipython3",
   "version": "3.6.5"
  }
 },
 "nbformat": 4,
 "nbformat_minor": 2
}
