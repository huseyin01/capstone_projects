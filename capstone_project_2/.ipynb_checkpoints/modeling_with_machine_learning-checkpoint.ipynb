{
 "cells": [
  {
   "cell_type": "code",
   "execution_count": 1,
   "metadata": {},
   "outputs": [],
   "source": [
    "import itertools\n",
    "## Regular Expression\n",
    "import re\n",
    "\n",
    "## Arrays\n",
    "import numpy as np\n",
    "\n",
    "## DataFrames\n",
    "import pandas as pd\n",
    "\n",
    "## Visualizations\n",
    "import matplotlib.pyplot as plt\n",
    "from matplotlib.colors import ListedColormap\n",
    "import seaborn as sns\n",
    "import matplotlib.colors as colors\n",
    "%matplotlib inline\n",
    "\n",
    "## Modeling\n",
    "from sklearn.model_selection import cross_validate\n",
    "from sklearn.model_selection import train_test_split\n",
    "from sklearn.model_selection import StratifiedKFold\n",
    "from sklearn.model_selection import GridSearchCV\n",
    "from sklearn.model_selection import cross_val_predict\n",
    "from sklearn.model_selection import cross_val_score\n",
    "from sklearn.linear_model import LogisticRegression\n",
    "from sklearn.model_selection import learning_curve\n",
    "from sklearn.ensemble import ExtraTreesClassifier\n",
    "from sklearn.decomposition import TruncatedSVD\n",
    "from sklearn.feature_extraction.text import TfidfVectorizer, CountVectorizer, HashingVectorizer\n",
    "from sklearn.pipeline import Pipeline\n",
    "from sklearn.naive_bayes import MultinomialNB\n",
    "from sklearn.ensemble import GradientBoostingClassifier\n",
    "from sklearn.neighbors import KNeighborsClassifier\n",
    "from sklearn.naive_bayes import GaussianNB \n",
    "from sklearn.svm import SVC\n",
    "from sklearn import metrics\n",
    "from sklearn.metrics import classification_report\n",
    "from sklearn.metrics import confusion_matrix\n",
    "from  sklearn.metrics import precision_recall_fscore_support\n",
    "from sklearn.ensemble import RandomForestClassifier\n",
    "from sklearn.svm import LinearSVC\n",
    "from sklearn.ensemble import AdaBoostClassifier\n",
    "from sklearn.tree import DecisionTreeClassifier\n",
    "from sklearn.metrics import f1_score\n",
    "from sklearn.metrics import recall_score\n",
    "\n",
    "import contractions\n",
    "import nltk\n",
    "from nltk.corpus import stopwords\n",
    "from nltk import word_tokenize\n",
    "from nltk.stem import PorterStemmer, WordNetLemmatizer\n",
    "\n",
    "## Warnings\n",
    "import warnings\n",
    "from scipy import stats\n",
    "warnings.filterwarnings('ignore')"
   ]
  },
  {
   "cell_type": "markdown",
   "metadata": {},
   "source": [
    "# Reading the data and Preparation"
   ]
  },
  {
   "cell_type": "code",
   "execution_count": 2,
   "metadata": {},
   "outputs": [
    {
     "name": "stdout",
     "output_type": "stream",
     "text": [
      "1    12080\n",
      "0     1192\n",
      "Name: rating_class, dtype: int64\n"
     ]
    }
   ],
   "source": [
    "#reading the data\n",
    "df=pd.read_csv('data_capstone_2/nlp_reviews_cleaned.csv', delimiter=',')\n",
    "\n",
    "#creating the classes\n",
    "df['rating_class'] = df['rating'].apply(lambda x: 0 if x <= 2 else 1)\n",
    "\n",
    "#train data set reduced due to capacity of computing\n",
    "print(df.rating_class.value_counts())\n",
    "\n",
    "#splitting data set into train and test sets\n",
    "X = df['clean_text']\n",
    "y = df['rating_class']\n",
    "X_train, X_test, y_train, y_test = train_test_split(X, y, test_size=1/3, random_state=5)"
   ]
  },
  {
   "cell_type": "markdown",
   "metadata": {},
   "source": [
    "### Confusion Matrix Function"
   ]
  },
  {
   "cell_type": "code",
   "execution_count": 3,
   "metadata": {},
   "outputs": [],
   "source": [
    "def confusion_matrix_plot(y_test, y_pred, title, color):\n",
    "    cm = confusion_matrix(y_test, y_pred)\n",
    "    fig = plt.figure(figsize=(6, 6))\n",
    "    plt.clf()\n",
    "    plt.imshow(cm, interpolation='nearest', cmap=color)\n",
    "    classNames = ['Bad','Not bad']\n",
    "    plt.title(title, fontsize=20)\n",
    "    plt.ylabel('True label', fontsize=20)\n",
    "    plt.xlabel('Predicted label', fontsize=20)\n",
    "    tick_marks = np.arange(len(classNames))\n",
    "    plt.xticks(tick_marks, classNames, rotation=45, fontsize=15)\n",
    "    plt.yticks(tick_marks, classNames, fontsize=15)\n",
    "    s = [['TN','FP'], ['FN', 'TP']]\n",
    "    for i in range(2):\n",
    "        for j in range(2):\n",
    "            plt.text(j,i, str(s[i][j])+\" = \"+str(cm[i][j]), fontsize=15, \n",
    "                 fontweight='bold', horizontalalignment=\"center\")\n",
    "    return plt.show()"
   ]
  },
  {
   "cell_type": "markdown",
   "metadata": {},
   "source": [
    "# 1. CountVectorizer (Vectorizing the Text)"
   ]
  },
  {
   "cell_type": "code",
   "execution_count": 4,
   "metadata": {},
   "outputs": [],
   "source": [
    "# Create the word vector with CountVectorizer\n",
    "\n",
    "count_vect = CountVectorizer(ngram_range=(1,1))\n",
    "count_vect_train = count_vect.fit_transform(X_train)\n",
    "count_vect_train = count_vect_train.toarray()\n",
    "count_vect_test = count_vect.transform(X_test)\n",
    "count_vect_test = count_vect_test.toarray()"
   ]
  },
  {
   "cell_type": "code",
   "execution_count": 5,
   "metadata": {},
   "outputs": [
    {
     "name": "stdout",
     "output_type": "stream",
     "text": [
      "Vocabulary len : 24998\n"
     ]
    }
   ],
   "source": [
    "# Getting the vocabulary length\n",
    "print('Vocabulary len :', len(count_vect.get_feature_names()))"
   ]
  },
  {
   "cell_type": "code",
   "execution_count": 6,
   "metadata": {},
   "outputs": [],
   "source": [
    "vocab = count_vect.get_feature_names()"
   ]
  },
  {
   "cell_type": "markdown",
   "metadata": {},
   "source": [
    "## 1.1. Logistic Regression with CountVectorizing"
   ]
  },
  {
   "cell_type": "code",
   "execution_count": 51,
   "metadata": {},
   "outputs": [
    {
     "name": "stdout",
     "output_type": "stream",
     "text": [
      "Accuarcy: 0.8890144665461122\n",
      "\n"
     ]
    }
   ],
   "source": [
    "# Instantiate the classifier: logreg\n",
    "logreg_cv = LogisticRegression(multi_class='multinomial', solver='newton-cg',class_weight='balanced',\n",
    "                              C=0.1, n_jobs=-1, random_state=5)\n",
    "# Fit it to the traning set;\n",
    "logreg_cv.fit(count_vect_train, y_train)\n",
    "# Predict on the test set;\n",
    "y_pred_logreg_cv = logreg_cv.predict(count_vect_test)\n",
    "\n",
    "# Compute and print the accuracy;\n",
    "print('Accuarcy: {}\\n'.format(metrics.accuracy_score(y_test, y_pred_logreg_cv)))"
   ]
  },
  {
   "cell_type": "markdown",
   "metadata": {},
   "source": [
    "### Classification Report"
   ]
  },
  {
   "cell_type": "code",
   "execution_count": 69,
   "metadata": {},
   "outputs": [
    {
     "name": "stdout",
     "output_type": "stream",
     "text": [
      "              precision    recall  f1-score   support\n",
      "\n",
      "           0       0.41      0.57      0.48       394\n",
      "           1       0.96      0.92      0.94      4030\n",
      "\n",
      "   micro avg       0.89      0.89      0.89      4424\n",
      "   macro avg       0.68      0.74      0.71      4424\n",
      "weighted avg       0.91      0.89      0.90      4424\n",
      "\n"
     ]
    }
   ],
   "source": [
    "# Compute and print the classification report\n",
    "print (classification_report(y_test, y_pred_logreg_cv))"
   ]
  },
  {
   "cell_type": "markdown",
   "metadata": {},
   "source": [
    "### Confusion Matrix"
   ]
  },
  {
   "cell_type": "code",
   "execution_count": 70,
   "metadata": {
    "scrolled": true
   },
   "outputs": [
    {
     "data": {
      "image/png": "[encoded data removed]",
      "text/plain": [
       "<Figure size 432x432 with 1 Axes>"
      ]
     },
     "metadata": {},
     "output_type": "display_data"
    }
   ],
   "source": [
    "# Plotting the confusion matrix with \"confusion_matrix_plot\" function\n",
    "confusion_matrix_plot(y_test, y_pred_logreg_cv, \n",
    "                      title = 'Logistic Regression with CountVectorizing', color=plt.cm.cool)"
   ]
  },
  {
   "cell_type": "markdown",
   "metadata": {},
   "source": [
    "## 1.2. Linear SVM with CountVectorizing"
   ]
  },
  {
   "cell_type": "code",
   "execution_count": 11,
   "metadata": {},
   "outputs": [
    {
     "name": "stdout",
     "output_type": "stream",
     "text": [
      "Accuarcy: 0.8946654611211573\n",
      "\n"
     ]
    }
   ],
   "source": [
    "# Instantiate the classifier;\n",
    "svm_cv=SVC(kernel='linear')\n",
    "# Fit to the training set\n",
    "svm_cv.fit(count_vect_train, y_train)\n",
    "# Predict on the test set;\n",
    "y_pred_svm_cv = svm_cv.predict(count_vect_test)\n",
    "\n",
    "# Compute and print the accuracy;\n",
    "print('Accuarcy: {}\\n'.format(metrics.accuracy_score(y_test, y_pred_svm_cv)))"
   ]
  },
  {
   "cell_type": "markdown",
   "metadata": {},
   "source": [
    "### Classification Report"
   ]
  },
  {
   "cell_type": "code",
   "execution_count": 12,
   "metadata": {},
   "outputs": [
    {
     "name": "stdout",
     "output_type": "stream",
     "text": [
      "              precision    recall  f1-score   support\n",
      "\n",
      "           0       0.41      0.41      0.41       394\n",
      "           1       0.94      0.94      0.94      4030\n",
      "\n",
      "   micro avg       0.89      0.89      0.89      4424\n",
      "   macro avg       0.68      0.68      0.68      4424\n",
      "weighted avg       0.89      0.89      0.89      4424\n",
      "\n"
     ]
    }
   ],
   "source": [
    "# Compute and print the classification report\n",
    "print (classification_report(y_test, y_pred_svm_cv))"
   ]
  },
  {
   "cell_type": "markdown",
   "metadata": {},
   "source": [
    "### Confusion Matrix"
   ]
  },
  {
   "cell_type": "code",
   "execution_count": 13,
   "metadata": {
    "scrolled": true
   },
   "outputs": [
    {
     "data": {
      "image/png": "[encoded data removed]",
      "text/plain": [
       "<Figure size 432x432 with 1 Axes>"
      ]
     },
     "metadata": {},
     "output_type": "display_data"
    }
   ],
   "source": [
    "# Plotting the confusion matrix with \"confusion_matrix_plot\" function\n",
    "confusion_matrix_plot(y_test, y_pred_svm_cv, title = 'Linear SVM with CountVectorizer', color=plt.cm.cool)"
   ]
  },
  {
   "cell_type": "markdown",
   "metadata": {},
   "source": [
    "## 1.3. Naive Bayes with CountVectorizing"
   ]
  },
  {
   "cell_type": "code",
   "execution_count": 24,
   "metadata": {},
   "outputs": [
    {
     "name": "stdout",
     "output_type": "stream",
     "text": [
      "Accuarcy: 0.9100361663652803\n",
      "\n"
     ]
    }
   ],
   "source": [
    "# Instantiate the classifier;\n",
    "nb_cv = MultinomialNB()\n",
    "\n",
    "# Fit to the training set;\n",
    "nb_cv.fit(count_vect_train, y_train)\n",
    "\n",
    "# Predict on the test set;\n",
    "y_pred_nb_cv = nb_cv.predict(count_vect_test)\n",
    "\n",
    "# Compute and print the accuracy\n",
    "print('Accuarcy: {}\\n'.format(metrics.accuracy_score(y_test, y_pred_nb_cv)))"
   ]
  },
  {
   "cell_type": "markdown",
   "metadata": {},
   "source": [
    "### Classification Report"
   ]
  },
  {
   "cell_type": "code",
   "execution_count": 25,
   "metadata": {
    "scrolled": false
   },
   "outputs": [
    {
     "name": "stdout",
     "output_type": "stream",
     "text": [
      "              precision    recall  f1-score   support\n",
      "\n",
      "           0       0.48      0.15      0.23       394\n",
      "           1       0.92      0.98      0.95      4030\n",
      "\n",
      "   micro avg       0.91      0.91      0.91      4424\n",
      "   macro avg       0.70      0.57      0.59      4424\n",
      "weighted avg       0.88      0.91      0.89      4424\n",
      "\n"
     ]
    }
   ],
   "source": [
    "# Compute and print the classification report\n",
    "print (classification_report(y_test, y_pred_nb_cv))"
   ]
  },
  {
   "cell_type": "markdown",
   "metadata": {},
   "source": [
    "### Confusion Matrix"
   ]
  },
  {
   "cell_type": "code",
   "execution_count": 26,
   "metadata": {},
   "outputs": [
    {
     "data": {
      "image/png": "[encoded data removed]",
      "text/plain": [
       "<Figure size 432x432 with 1 Axes>"
      ]
     },
     "metadata": {},
     "output_type": "display_data"
    }
   ],
   "source": [
    "#Plotting the confusion matriz with \"confusion_matrix_plot\" function\n",
    "confusion_matrix_plot(y_test, y_pred_nb_cv, title = 'Naive Bayes with CountVectorizing', color=plt.cm.cool)"
   ]
  },
  {
   "cell_type": "markdown",
   "metadata": {},
   "source": [
    "## 1.4. Kernel SVM with CountVectorizing"
   ]
  },
  {
   "cell_type": "code",
   "execution_count": 27,
   "metadata": {},
   "outputs": [
    {
     "name": "stdout",
     "output_type": "stream",
     "text": [
      "Accuarcy: 0.9109403254972875\n",
      "\n"
     ]
    }
   ],
   "source": [
    "# Instantiate the classifier;\n",
    "ksvm_cv=SVC(kernel='rbf')\n",
    "\n",
    "# Fit to the training set\n",
    "ksvm_cv.fit(count_vect_train, y_train)\n",
    "\n",
    "# Predict the labels of the test set;\n",
    "y_pred_ksvm_cv = ksvm_cv.predict(count_vect_test)\n",
    "\n",
    "# Compute and print the accuracy;\n",
    "print('Accuarcy: {}\\n'.format(metrics.accuracy_score(y_test, y_pred_ksvm_cv)))"
   ]
  },
  {
   "cell_type": "markdown",
   "metadata": {},
   "source": [
    "### Classification Report"
   ]
  },
  {
   "cell_type": "code",
   "execution_count": 28,
   "metadata": {},
   "outputs": [
    {
     "name": "stdout",
     "output_type": "stream",
     "text": [
      "              precision    recall  f1-score   support\n",
      "\n",
      "           0       0.00      0.00      0.00       394\n",
      "           1       0.91      1.00      0.95      4030\n",
      "\n",
      "   micro avg       0.91      0.91      0.91      4424\n",
      "   macro avg       0.46      0.50      0.48      4424\n",
      "weighted avg       0.83      0.91      0.87      4424\n",
      "\n"
     ]
    }
   ],
   "source": [
    "# Compute and print the classification report\n",
    "print (classification_report(y_test, y_pred_ksvm_cv))"
   ]
  },
  {
   "cell_type": "markdown",
   "metadata": {},
   "source": [
    "### Confusion Matrix"
   ]
  },
  {
   "cell_type": "code",
   "execution_count": 29,
   "metadata": {
    "scrolled": true
   },
   "outputs": [
    {
     "data": {
      "image/png": "[encoded data removed]",
      "text/plain": [
       "<Figure size 432x432 with 1 Axes>"
      ]
     },
     "metadata": {},
     "output_type": "display_data"
    }
   ],
   "source": [
    "#Plotting the confusion matriz with \"confusion_matrix_plot\" function\n",
    "confusion_matrix_plot(y_test, y_pred_ksvm_cv, title = 'Kernel SVM with CountVectorizing', color=plt.cm.cool)"
   ]
  },
  {
   "cell_type": "markdown",
   "metadata": {},
   "source": [
    "## 1.5. KNeighbors with CountVectorizing"
   ]
  },
  {
   "cell_type": "code",
   "execution_count": 30,
   "metadata": {},
   "outputs": [
    {
     "name": "stdout",
     "output_type": "stream",
     "text": [
      "Accuarcy: 0.8998643761301989\n",
      "\n"
     ]
    }
   ],
   "source": [
    "# Instantiate the classifier;\n",
    "knn_cv = KNeighborsClassifier(n_neighbors=5)\n",
    "\n",
    "# Fit it to the training set;\n",
    "\n",
    "knn_cv.fit(count_vect_train, y_train)\n",
    "# Predict on the test set;\n",
    "y_pred_knn_cv = knn_cv.predict(count_vect_test)\n",
    "\n",
    "# Compute and print the accuracy;\n",
    "print('Accuarcy: {}\\n'.format(metrics.accuracy_score(y_test, y_pred_knn_cv)))"
   ]
  },
  {
   "cell_type": "markdown",
   "metadata": {},
   "source": [
    "### Classification Report"
   ]
  },
  {
   "cell_type": "code",
   "execution_count": 31,
   "metadata": {},
   "outputs": [
    {
     "name": "stdout",
     "output_type": "stream",
     "text": [
      "              precision    recall  f1-score   support\n",
      "\n",
      "           0       0.27      0.07      0.12       394\n",
      "           1       0.92      0.98      0.95      4030\n",
      "\n",
      "   micro avg       0.90      0.90      0.90      4424\n",
      "   macro avg       0.59      0.53      0.53      4424\n",
      "weighted avg       0.86      0.90      0.87      4424\n",
      "\n"
     ]
    }
   ],
   "source": [
    "#Compute and print the classification report\n",
    "print (classification_report(y_test, y_pred_knn_cv))"
   ]
  },
  {
   "cell_type": "markdown",
   "metadata": {},
   "source": [
    "### Confusion Matrix"
   ]
  },
  {
   "cell_type": "code",
   "execution_count": 32,
   "metadata": {},
   "outputs": [
    {
     "data": {
      "image/png": "[encoded data removed]",
      "text/plain": [
       "<Figure size 432x432 with 1 Axes>"
      ]
     },
     "metadata": {},
     "output_type": "display_data"
    }
   ],
   "source": [
    "#Plotting the confusion matrix with \"confusion_matrix_plot\" function\n",
    "confusion_matrix_plot(y_test, y_pred_knn_cv, title = 'KNN with CountVectorizer', color=plt.cm.cool)"
   ]
  },
  {
   "cell_type": "markdown",
   "metadata": {},
   "source": [
    "## 1.6. Random Forest with CountVectorizing"
   ]
  },
  {
   "cell_type": "code",
   "execution_count": 33,
   "metadata": {},
   "outputs": [
    {
     "name": "stdout",
     "output_type": "stream",
     "text": [
      "Accuarcy: 0.9118444846292948\n",
      "\n"
     ]
    }
   ],
   "source": [
    "# Hyperparameter optimzation has not been done due to the limitations\n",
    "\n",
    "# Instantiate the classifier; \n",
    "rf_cv = RandomForestClassifier(n_estimators = 200, random_state=5)\n",
    "\n",
    "# Fit to the training set;\n",
    "rf_cv.fit(count_vect_train, y_train)\n",
    "\n",
    "# Predict on the test set;\n",
    "y_pred_rf_cv = rf_cv.predict(count_vect_test)\n",
    "\n",
    "# Compute and print the accuracy\n",
    "print('Accuarcy: {}\\n'.format(metrics.accuracy_score(y_test, y_pred_rf_cv)))"
   ]
  },
  {
   "cell_type": "markdown",
   "metadata": {},
   "source": [
    "### Classification Report"
   ]
  },
  {
   "cell_type": "code",
   "execution_count": 34,
   "metadata": {},
   "outputs": [
    {
     "name": "stdout",
     "output_type": "stream",
     "text": [
      "              precision    recall  f1-score   support\n",
      "\n",
      "           0       0.75      0.02      0.03       394\n",
      "           1       0.91      1.00      0.95      4030\n",
      "\n",
      "   micro avg       0.91      0.91      0.91      4424\n",
      "   macro avg       0.83      0.51      0.49      4424\n",
      "weighted avg       0.90      0.91      0.87      4424\n",
      "\n"
     ]
    }
   ],
   "source": [
    "print (classification_report(y_test, y_pred_rf_cv))"
   ]
  },
  {
   "cell_type": "markdown",
   "metadata": {},
   "source": [
    "### Confusion Matrix"
   ]
  },
  {
   "cell_type": "code",
   "execution_count": 35,
   "metadata": {},
   "outputs": [
    {
     "data": {
      "image/png": "[encoded data removed]",
      "text/plain": [
       "<Figure size 432x432 with 1 Axes>"
      ]
     },
     "metadata": {},
     "output_type": "display_data"
    }
   ],
   "source": [
    "#Plotting the confusion matriz with \"confusion_matrix_plot\" function\n",
    "confusion_matrix_plot(y_test, y_pred_rf_cv, title = 'Random Forest with CountVectorizing', color=plt.cm.cool)"
   ]
  },
  {
   "cell_type": "markdown",
   "metadata": {},
   "source": [
    "## 1.7. Gradient Boosting with CountVectorizing"
   ]
  },
  {
   "cell_type": "code",
   "execution_count": 36,
   "metadata": {},
   "outputs": [
    {
     "name": "stdout",
     "output_type": "stream",
     "text": [
      "Accuarcy: 0.9154611211573237\n",
      "\n"
     ]
    }
   ],
   "source": [
    "# Hyperparameter optimzation has not been done due to the limitations\n",
    "\n",
    "# Instantiate the classifier; \n",
    "gb_cv = GradientBoostingClassifier()\n",
    "\n",
    "# Fit to the training set\n",
    "gb_cv.fit(count_vect_train, y_train)\n",
    "\n",
    "# Predict on the test set;\n",
    "y_pred_gb_cv = gb_cv.predict(count_vect_test)\n",
    "\n",
    "# Compute and print the accuracy\n",
    "print('Accuarcy: {}\\n'.format(metrics.accuracy_score(y_test, y_pred_gb_cv)))"
   ]
  },
  {
   "cell_type": "markdown",
   "metadata": {},
   "source": [
    "### Classification Report"
   ]
  },
  {
   "cell_type": "code",
   "execution_count": 37,
   "metadata": {},
   "outputs": [
    {
     "name": "stdout",
     "output_type": "stream",
     "text": [
      "              precision    recall  f1-score   support\n",
      "\n",
      "           0       0.66      0.10      0.18       394\n",
      "           1       0.92      0.99      0.96      4030\n",
      "\n",
      "   micro avg       0.92      0.92      0.92      4424\n",
      "   macro avg       0.79      0.55      0.57      4424\n",
      "weighted avg       0.90      0.92      0.89      4424\n",
      "\n"
     ]
    }
   ],
   "source": [
    "print (classification_report(y_test, y_pred_gb_cv))"
   ]
  },
  {
   "cell_type": "markdown",
   "metadata": {},
   "source": [
    "### Confusion Matrix"
   ]
  },
  {
   "cell_type": "code",
   "execution_count": 38,
   "metadata": {},
   "outputs": [
    {
     "data": {
      "image/png": "[encoded data removed]",
      "text/plain": [
       "<Figure size 432x432 with 1 Axes>"
      ]
     },
     "metadata": {},
     "output_type": "display_data"
    }
   ],
   "source": [
    "#Plotting the confusion matriz with \"confusion_matrix_plot\" function\n",
    "confusion_matrix_plot(y_test, y_pred_gb_cv, title = 'Gradient Boosting with CountVectorizing', color=plt.cm.cool)"
   ]
  },
  {
   "cell_type": "markdown",
   "metadata": {},
   "source": [
    "## 1.8. Comparision of CountVectorizing"
   ]
  },
  {
   "cell_type": "markdown",
   "metadata": {},
   "source": [
    "### Functions for Comparision "
   ]
  },
  {
   "cell_type": "code",
   "execution_count": 39,
   "metadata": {},
   "outputs": [],
   "source": [
    "# Function for converting the \"classification report\" results to a dataframe\n",
    "def pandas_classification_report(y_true, y_pred):\n",
    "    metrics_summary = precision_recall_fscore_support(\n",
    "            y_true=y_true, \n",
    "            y_pred=y_pred)\n",
    "\n",
    "    avg = list(precision_recall_fscore_support(\n",
    "            y_true=y_true, \n",
    "            y_pred=y_pred,\n",
    "            average='weighted'))\n",
    "\n",
    "    metrics_sum_index = ['precision', 'recall', 'f1-score', 'support']\n",
    "    class_report_df = pd.DataFrame(\n",
    "        list(metrics_summary),\n",
    "        index=metrics_sum_index)\n",
    "\n",
    "    support = class_report_df.loc['support']\n",
    "    total = support.sum() \n",
    "    avg[-1] = total\n",
    "\n",
    "    class_report_df['weighted avg'] = avg\n",
    "\n",
    "    return class_report_df.T\n",
    "\n",
    "# Function for adding explanatory columns and organizing all dataframe\n",
    "def comparison_matrix(y_test, y_pred, label, vector):\n",
    "    df = pandas_classification_report(y_test, y_pred)\n",
    "    df['class']=['bad', 'not bad', 'average']\n",
    "    df['accuracy']= metrics.accuracy_score(y_test, y_pred)\n",
    "    df['model'] = label\n",
    "    df['vectorizer'] = vector\n",
    "    df = df[['vectorizer', 'model', 'accuracy', 'class', 'precision', 'recall', 'f1-score', 'support']]\n",
    "    return df"
   ]
  },
  {
   "cell_type": "code",
   "execution_count": 71,
   "metadata": {
    "scrolled": true
   },
   "outputs": [],
   "source": [
    "#For loop for using \"comparison functions\" on \"CountVectorizing\" results\n",
    "\n",
    "frames_cv = [] # empty list for collecting dataframes\n",
    "y_preds_cv = [y_pred_logreg_cv, y_pred_svm_cv, y_pred_ksvm_cv, \n",
    "           y_pred_nb_cv, y_pred_knn_cv, y_pred_rf_cv, y_pred_gb_cv] #list for y_preds\n",
    "labels_cv = ['LogReg', 'SVM', 'Kernel SVM', 'Naive Bayes', 'KNN', 'RForest', 'GBoost'] # list for labels\n",
    "vector_cv = 'CountVect'\n",
    "for y_pred, label in zip(y_preds_cv, labels_cv):\n",
    "    df = comparison_matrix(y_test, y_pred, label, vector_cv)\n",
    "    frames_cv.append(df)\n",
    "\n",
    "# concatenating all dataframes\n",
    "df_cv = pd.concat(frames_cv)\n",
    "\n",
    "df_cv2 = df_cv.set_index(['vectorizer', 'model', 'accuracy', 'class'])"
   ]
  },
  {
   "cell_type": "markdown",
   "metadata": {},
   "source": [
    "### Comparison Table - CountVectorizing"
   ]
  },
  {
   "cell_type": "code",
   "execution_count": 72,
   "metadata": {},
   "outputs": [
    {
     "data": {
      "text/html": [
       "<div>\n",
       "<style scoped>\n",
       "    .dataframe tbody tr th:only-of-type {\n",
       "        vertical-align: middle;\n",
       "    }\n",
       "\n",
       "    .dataframe tbody tr th {\n",
       "        vertical-align: top;\n",
       "    }\n",
       "\n",
       "    .dataframe thead th {\n",
       "        text-align: right;\n",
       "    }\n",
       "</style>\n",
       "<table border=\"1\" class=\"dataframe\">\n",
       "  <thead>\n",
       "    <tr style=\"text-align: right;\">\n",
       "      <th></th>\n",
       "      <th></th>\n",
       "      <th></th>\n",
       "      <th></th>\n",
       "      <th>precision</th>\n",
       "      <th>recall</th>\n",
       "      <th>f1-score</th>\n",
       "      <th>support</th>\n",
       "    </tr>\n",
       "    <tr>\n",
       "      <th>vectorizer</th>\n",
       "      <th>model</th>\n",
       "      <th>accuracy</th>\n",
       "      <th>class</th>\n",
       "      <th></th>\n",
       "      <th></th>\n",
       "      <th></th>\n",
       "      <th></th>\n",
       "    </tr>\n",
       "  </thead>\n",
       "  <tbody>\n",
       "    <tr>\n",
       "      <th rowspan=\"21\" valign=\"top\">CountVect</th>\n",
       "      <th rowspan=\"3\" valign=\"top\">LogReg</th>\n",
       "      <th rowspan=\"3\" valign=\"top\">0.889014</th>\n",
       "      <th>bad</th>\n",
       "      <td>0.411009</td>\n",
       "      <td>0.568528</td>\n",
       "      <td>0.477103</td>\n",
       "      <td>394.0</td>\n",
       "    </tr>\n",
       "    <tr>\n",
       "      <th>not bad</th>\n",
       "      <td>0.956174</td>\n",
       "      <td>0.920347</td>\n",
       "      <td>0.937919</td>\n",
       "      <td>4030.0</td>\n",
       "    </tr>\n",
       "    <tr>\n",
       "      <th>average</th>\n",
       "      <td>0.907622</td>\n",
       "      <td>0.889014</td>\n",
       "      <td>0.896879</td>\n",
       "      <td>4424.0</td>\n",
       "    </tr>\n",
       "    <tr>\n",
       "      <th rowspan=\"3\" valign=\"top\">SVM</th>\n",
       "      <th rowspan=\"3\" valign=\"top\">0.894665</th>\n",
       "      <th>bad</th>\n",
       "      <td>0.409091</td>\n",
       "      <td>0.411168</td>\n",
       "      <td>0.410127</td>\n",
       "      <td>394.0</td>\n",
       "    </tr>\n",
       "    <tr>\n",
       "      <th>not bad</th>\n",
       "      <td>0.942403</td>\n",
       "      <td>0.941935</td>\n",
       "      <td>0.942169</td>\n",
       "      <td>4030.0</td>\n",
       "    </tr>\n",
       "    <tr>\n",
       "      <th>average</th>\n",
       "      <td>0.894907</td>\n",
       "      <td>0.894665</td>\n",
       "      <td>0.894786</td>\n",
       "      <td>4424.0</td>\n",
       "    </tr>\n",
       "    <tr>\n",
       "      <th rowspan=\"3\" valign=\"top\">Kernel SVM</th>\n",
       "      <th rowspan=\"3\" valign=\"top\">0.910940</th>\n",
       "      <th>bad</th>\n",
       "      <td>0.000000</td>\n",
       "      <td>0.000000</td>\n",
       "      <td>0.000000</td>\n",
       "      <td>394.0</td>\n",
       "    </tr>\n",
       "    <tr>\n",
       "      <th>not bad</th>\n",
       "      <td>0.910940</td>\n",
       "      <td>1.000000</td>\n",
       "      <td>0.953395</td>\n",
       "      <td>4030.0</td>\n",
       "    </tr>\n",
       "    <tr>\n",
       "      <th>average</th>\n",
       "      <td>0.829812</td>\n",
       "      <td>0.910940</td>\n",
       "      <td>0.868486</td>\n",
       "      <td>4424.0</td>\n",
       "    </tr>\n",
       "    <tr>\n",
       "      <th rowspan=\"3\" valign=\"top\">Naive Bayes</th>\n",
       "      <th rowspan=\"3\" valign=\"top\">0.910036</th>\n",
       "      <th>bad</th>\n",
       "      <td>0.483871</td>\n",
       "      <td>0.152284</td>\n",
       "      <td>0.231660</td>\n",
       "      <td>394.0</td>\n",
       "    </tr>\n",
       "    <tr>\n",
       "      <th>not bad</th>\n",
       "      <td>0.922326</td>\n",
       "      <td>0.984119</td>\n",
       "      <td>0.952221</td>\n",
       "      <td>4030.0</td>\n",
       "    </tr>\n",
       "    <tr>\n",
       "      <th>average</th>\n",
       "      <td>0.883277</td>\n",
       "      <td>0.910036</td>\n",
       "      <td>0.888048</td>\n",
       "      <td>4424.0</td>\n",
       "    </tr>\n",
       "    <tr>\n",
       "      <th rowspan=\"3\" valign=\"top\">KNN</th>\n",
       "      <th rowspan=\"3\" valign=\"top\">0.899864</th>\n",
       "      <th>bad</th>\n",
       "      <td>0.271028</td>\n",
       "      <td>0.073604</td>\n",
       "      <td>0.115768</td>\n",
       "      <td>394.0</td>\n",
       "    </tr>\n",
       "    <tr>\n",
       "      <th>not bad</th>\n",
       "      <td>0.915451</td>\n",
       "      <td>0.980645</td>\n",
       "      <td>0.946927</td>\n",
       "      <td>4030.0</td>\n",
       "    </tr>\n",
       "    <tr>\n",
       "      <th>average</th>\n",
       "      <td>0.858058</td>\n",
       "      <td>0.899864</td>\n",
       "      <td>0.872904</td>\n",
       "      <td>4424.0</td>\n",
       "    </tr>\n",
       "    <tr>\n",
       "      <th rowspan=\"3\" valign=\"top\">RForest</th>\n",
       "      <th rowspan=\"3\" valign=\"top\">0.911844</th>\n",
       "      <th>bad</th>\n",
       "      <td>0.750000</td>\n",
       "      <td>0.015228</td>\n",
       "      <td>0.029851</td>\n",
       "      <td>394.0</td>\n",
       "    </tr>\n",
       "    <tr>\n",
       "      <th>not bad</th>\n",
       "      <td>0.912138</td>\n",
       "      <td>0.999504</td>\n",
       "      <td>0.953824</td>\n",
       "      <td>4030.0</td>\n",
       "    </tr>\n",
       "    <tr>\n",
       "      <th>average</th>\n",
       "      <td>0.897698</td>\n",
       "      <td>0.911844</td>\n",
       "      <td>0.871536</td>\n",
       "      <td>4424.0</td>\n",
       "    </tr>\n",
       "    <tr>\n",
       "      <th rowspan=\"3\" valign=\"top\">GBoost</th>\n",
       "      <th rowspan=\"3\" valign=\"top\">0.915461</th>\n",
       "      <th>bad</th>\n",
       "      <td>0.661290</td>\n",
       "      <td>0.104061</td>\n",
       "      <td>0.179825</td>\n",
       "      <td>394.0</td>\n",
       "    </tr>\n",
       "    <tr>\n",
       "      <th>not bad</th>\n",
       "      <td>0.919074</td>\n",
       "      <td>0.994789</td>\n",
       "      <td>0.955434</td>\n",
       "      <td>4030.0</td>\n",
       "    </tr>\n",
       "    <tr>\n",
       "      <th>average</th>\n",
       "      <td>0.896116</td>\n",
       "      <td>0.915461</td>\n",
       "      <td>0.886358</td>\n",
       "      <td>4424.0</td>\n",
       "    </tr>\n",
       "  </tbody>\n",
       "</table>\n",
       "</div>"
      ],
      "text/plain": [
       "                                         precision    recall  f1-score  \\\n",
       "vectorizer model       accuracy class                                    \n",
       "CountVect  LogReg      0.889014 bad       0.411009  0.568528  0.477103   \n",
       "                                not bad   0.956174  0.920347  0.937919   \n",
       "                                average   0.907622  0.889014  0.896879   \n",
       "           SVM         0.894665 bad       0.409091  0.411168  0.410127   \n",
       "                                not bad   0.942403  0.941935  0.942169   \n",
       "                                average   0.894907  0.894665  0.894786   \n",
       "           Kernel SVM  0.910940 bad       0.000000  0.000000  0.000000   \n",
       "                                not bad   0.910940  1.000000  0.953395   \n",
       "                                average   0.829812  0.910940  0.868486   \n",
       "           Naive Bayes 0.910036 bad       0.483871  0.152284  0.231660   \n",
       "                                not bad   0.922326  0.984119  0.952221   \n",
       "                                average   0.883277  0.910036  0.888048   \n",
       "           KNN         0.899864 bad       0.271028  0.073604  0.115768   \n",
       "                                not bad   0.915451  0.980645  0.946927   \n",
       "                                average   0.858058  0.899864  0.872904   \n",
       "           RForest     0.911844 bad       0.750000  0.015228  0.029851   \n",
       "                                not bad   0.912138  0.999504  0.953824   \n",
       "                                average   0.897698  0.911844  0.871536   \n",
       "           GBoost      0.915461 bad       0.661290  0.104061  0.179825   \n",
       "                                not bad   0.919074  0.994789  0.955434   \n",
       "                                average   0.896116  0.915461  0.886358   \n",
       "\n",
       "                                         support  \n",
       "vectorizer model       accuracy class             \n",
       "CountVect  LogReg      0.889014 bad        394.0  \n",
       "                                not bad   4030.0  \n",
       "                                average   4424.0  \n",
       "           SVM         0.894665 bad        394.0  \n",
       "                                not bad   4030.0  \n",
       "                                average   4424.0  \n",
       "           Kernel SVM  0.910940 bad        394.0  \n",
       "                                not bad   4030.0  \n",
       "                                average   4424.0  \n",
       "           Naive Bayes 0.910036 bad        394.0  \n",
       "                                not bad   4030.0  \n",
       "                                average   4424.0  \n",
       "           KNN         0.899864 bad        394.0  \n",
       "                                not bad   4030.0  \n",
       "                                average   4424.0  \n",
       "           RForest     0.911844 bad        394.0  \n",
       "                                not bad   4030.0  \n",
       "                                average   4424.0  \n",
       "           GBoost      0.915461 bad        394.0  \n",
       "                                not bad   4030.0  \n",
       "                                average   4424.0  "
      ]
     },
     "execution_count": 72,
     "metadata": {},
     "output_type": "execute_result"
    }
   ],
   "source": [
    "df_cv2"
   ]
  },
  {
   "cell_type": "markdown",
   "metadata": {},
   "source": [
    "# 2. TfidfVectorizer"
   ]
  },
  {
   "cell_type": "code",
   "execution_count": 46,
   "metadata": {},
   "outputs": [],
   "source": [
    "tfidf_vect = TfidfVectorizer(ngram_range=(1, 1))\n",
    "tfidf_vect_train = tfidf_vect.fit_transform(X_train)\n",
    "tfidf_vect_train = tfidf_vect_train.toarray()\n",
    "tfidf_vect_test = tfidf_vect.transform(X_test)\n",
    "tfidf_vect_test = tfidf_vect_test.toarray()"
   ]
  },
  {
   "cell_type": "markdown",
   "metadata": {},
   "source": [
    "## 2.1. Logistic Regression with TfidfVectorizing"
   ]
  },
  {
   "cell_type": "code",
   "execution_count": 49,
   "metadata": {},
   "outputs": [
    {
     "name": "stdout",
     "output_type": "stream",
     "text": [
      "Accuarcy: 0.825497287522604\n",
      "\n"
     ]
    }
   ],
   "source": [
    "# Instantiate a logistic regression classifier: with already defined best parameters\n",
    "logreg_tv = LogisticRegression(multi_class='multinomial', solver='newton-cg',class_weight='balanced',\n",
    "                              C=0.1, n_jobs=-1, random_state=5)\n",
    "# Fit it to the data\n",
    "logreg_tv.fit(tfidf_vect_train, y_train)\n",
    "# Predict on the test data\n",
    "y_pred_logreg_tv = logreg_tv.predict(tfidf_vect_test)\n",
    "\n",
    "# Compute and print the accuracy\n",
    "print('Accuarcy: {}\\n'.format(metrics.accuracy_score(y_test, y_pred_logreg_tv)))"
   ]
  },
  {
   "cell_type": "markdown",
   "metadata": {},
   "source": [
    "### Classification_report"
   ]
  },
  {
   "cell_type": "code",
   "execution_count": 50,
   "metadata": {},
   "outputs": [
    {
     "name": "stdout",
     "output_type": "stream",
     "text": [
      "              precision    recall  f1-score   support\n",
      "\n",
      "           0       0.29      0.66      0.40       394\n",
      "           1       0.96      0.84      0.90      4030\n",
      "\n",
      "   micro avg       0.83      0.83      0.83      4424\n",
      "   macro avg       0.63      0.75      0.65      4424\n",
      "weighted avg       0.90      0.83      0.85      4424\n",
      "\n"
     ]
    }
   ],
   "source": [
    "#Compute and print the classification report\n",
    "print (classification_report(y_test, y_pred_logreg_tv))"
   ]
  },
  {
   "cell_type": "markdown",
   "metadata": {},
   "source": [
    "### Confusion Matrix"
   ]
  },
  {
   "cell_type": "code",
   "execution_count": 73,
   "metadata": {},
   "outputs": [
    {
     "data": {
      "image/png": "[encoded data removed]",
      "text/plain": [
       "<Figure size 432x432 with 1 Axes>"
      ]
     },
     "metadata": {},
     "output_type": "display_data"
    }
   ],
   "source": [
    "#Plotting the confusion matrix with \"confusion_matrix_plot\" function\n",
    "confusion_matrix_plot(y_test, y_pred_logreg_tv, \n",
    "                      title = 'Logistic Regression with TfidfVectorizing', color=plt.cm.Wistia)"
   ]
  },
  {
   "cell_type": "markdown",
   "metadata": {},
   "source": [
    "## 2.2. Linear SVM with TfidfVectorizing"
   ]
  },
  {
   "cell_type": "code",
   "execution_count": 52,
   "metadata": {},
   "outputs": [
    {
     "name": "stdout",
     "output_type": "stream",
     "text": [
      "Accuarcy: 0.9204339963833634\n",
      "\n"
     ]
    }
   ],
   "source": [
    "# Instantiate a SVC classifier;\n",
    "svm_tv=SVC(kernel='linear')\n",
    "# Fit to the training set\n",
    "svm_tv.fit(tfidf_vect_train, y_train)\n",
    "# Predict on the test data\n",
    "y_pred_svm_tv = svm_tv.predict(tfidf_vect_test)\n",
    "\n",
    "# Compute and print the accuracy\n",
    "print('Accuarcy: {}\\n'.format(metrics.accuracy_score(y_test, y_pred_svm_tv)))"
   ]
  },
  {
   "cell_type": "markdown",
   "metadata": {},
   "source": [
    "### Classification Report"
   ]
  },
  {
   "cell_type": "code",
   "execution_count": 60,
   "metadata": {},
   "outputs": [
    {
     "name": "stdout",
     "output_type": "stream",
     "text": [
      "              precision    recall  f1-score   support\n",
      "\n",
      "           0       0.78      0.15      0.25       394\n",
      "           1       0.92      1.00      0.96      4030\n",
      "\n",
      "   micro avg       0.92      0.92      0.92      4424\n",
      "   macro avg       0.85      0.57      0.60      4424\n",
      "weighted avg       0.91      0.92      0.89      4424\n",
      "\n"
     ]
    }
   ],
   "source": [
    "#Compute and print the classification report\n",
    "print (classification_report(y_test, y_pred_svm_tv))"
   ]
  },
  {
   "cell_type": "markdown",
   "metadata": {},
   "source": [
    "### Confusion Matrix"
   ]
  },
  {
   "cell_type": "code",
   "execution_count": 61,
   "metadata": {},
   "outputs": [
    {
     "data": {
      "image/png": "[encoded data removed]",
      "text/plain": [
       "<Figure size 432x432 with 1 Axes>"
      ]
     },
     "metadata": {},
     "output_type": "display_data"
    }
   ],
   "source": [
    "#Plotting the confusion matrix with \"confusion_matrix_plot\" function\n",
    "confusion_matrix_plot(y_test, y_pred_svm_tv, \n",
    "                      title = 'Linear SVM with TfidfVectorizing', color=plt.cm.Wistia)"
   ]
  },
  {
   "cell_type": "markdown",
   "metadata": {},
   "source": [
    "## 2.3. Naive Bayes with TfidfVectorizing"
   ]
  },
  {
   "cell_type": "code",
   "execution_count": 65,
   "metadata": {},
   "outputs": [
    {
     "name": "stdout",
     "output_type": "stream",
     "text": [
      "Accuarcy: 0.9109403254972875\n",
      "\n"
     ]
    }
   ],
   "source": [
    "# Instantiate a naive bayes classifier:\n",
    "nb_tv = MultinomialNB(alpha=100)\n",
    "# Fit to the training set\n",
    "nb_tv.fit(tfidf_vect_train, y_train)\n",
    "# Predict the labels of the test set: y_pred\n",
    "y_pred_nb_tv = nb_tv.predict(tfidf_vect_test)\n",
    "\n",
    "# Compute and print the accuracy\n",
    "print('Accuarcy: {}\\n'.format(metrics.accuracy_score(y_test, y_pred_nb_tv)))"
   ]
  },
  {
   "cell_type": "markdown",
   "metadata": {},
   "source": [
    "### Classification Report"
   ]
  },
  {
   "cell_type": "code",
   "execution_count": 76,
   "metadata": {},
   "outputs": [
    {
     "name": "stdout",
     "output_type": "stream",
     "text": [
      "              precision    recall  f1-score   support\n",
      "\n",
      "           0       0.00      0.00      0.00       394\n",
      "           1       0.91      1.00      0.95      4030\n",
      "\n",
      "   micro avg       0.91      0.91      0.91      4424\n",
      "   macro avg       0.46      0.50      0.48      4424\n",
      "weighted avg       0.83      0.91      0.87      4424\n",
      "\n"
     ]
    }
   ],
   "source": [
    "#Compute and print the classification report\n",
    "print (classification_report(y_test, y_pred_nb_tv))"
   ]
  },
  {
   "cell_type": "markdown",
   "metadata": {},
   "source": [
    "### Confusion Matrix"
   ]
  },
  {
   "cell_type": "code",
   "execution_count": 64,
   "metadata": {},
   "outputs": [
    {
     "data": {
      "image/png": "[encoded data removed]",
      "text/plain": [
       "<Figure size 432x432 with 1 Axes>"
      ]
     },
     "metadata": {},
     "output_type": "display_data"
    }
   ],
   "source": [
    "#Plotting the confusion matrix with \"confusion_matrix_plot\" function\n",
    "confusion_matrix_plot(y_test, y_pred_nb_tv, \n",
    "                      title = 'Naive Bayes with TfidfVectorizing', color=plt.cm.Wistia)"
   ]
  },
  {
   "cell_type": "markdown",
   "metadata": {},
   "source": [
    "## 2.4. Kernel SVM with TfidfVectorizing"
   ]
  },
  {
   "cell_type": "code",
   "execution_count": 77,
   "metadata": {},
   "outputs": [
    {
     "name": "stdout",
     "output_type": "stream",
     "text": [
      "Accuarcy: 0.9109403254972875\n",
      "\n"
     ]
    }
   ],
   "source": [
    "# Instantiate a naive bayes classifier:\n",
    "ksvm_tv = SVC(kernel='rbf')\n",
    "# Fit to the training set\n",
    "ksvm_tv.fit(tfidf_vect_train, y_train)\n",
    "# Predict the labels of the test set: y_pred\n",
    "y_pred_ksvm_tv = ksvm_tv.predict(tfidf_vect_test)\n",
    "\n",
    "# Compute and print the accuracy\n",
    "print('Accuarcy: {}\\n'.format(metrics.accuracy_score(y_test, y_pred_ksvm_tv)))"
   ]
  },
  {
   "cell_type": "markdown",
   "metadata": {},
   "source": [
    "### Classification report"
   ]
  },
  {
   "cell_type": "code",
   "execution_count": 78,
   "metadata": {},
   "outputs": [
    {
     "name": "stdout",
     "output_type": "stream",
     "text": [
      "              precision    recall  f1-score   support\n",
      "\n",
      "           0       0.00      0.00      0.00       394\n",
      "           1       0.91      1.00      0.95      4030\n",
      "\n",
      "   micro avg       0.91      0.91      0.91      4424\n",
      "   macro avg       0.46      0.50      0.48      4424\n",
      "weighted avg       0.83      0.91      0.87      4424\n",
      "\n"
     ]
    }
   ],
   "source": [
    "#Compute and print the classification report\n",
    "print (classification_report(y_test, y_pred_ksvm_tv))"
   ]
  },
  {
   "cell_type": "markdown",
   "metadata": {},
   "source": [
    "### Confusion Matrix"
   ]
  },
  {
   "cell_type": "code",
   "execution_count": 79,
   "metadata": {},
   "outputs": [
    {
     "data": {
      "image/png": "[encoded data removed]",
      "text/plain": [
       "<Figure size 432x432 with 1 Axes>"
      ]
     },
     "metadata": {},
     "output_type": "display_data"
    }
   ],
   "source": [
    "#Plotting the confusion matrix with \"confusion_matrix_plot\" function\n",
    "confusion_matrix_plot(y_test, y_pred_ksvm_tv, \n",
    "                      title = 'Kernel SVM with TfidfVectorizing', color=plt.cm.Wistia)"
   ]
  },
  {
   "cell_type": "markdown",
   "metadata": {},
   "source": [
    "## 2.5. KNN Classifier with TfidfVectorizing"
   ]
  },
  {
   "cell_type": "code",
   "execution_count": 55,
   "metadata": {},
   "outputs": [
    {
     "name": "stdout",
     "output_type": "stream",
     "text": [
      "Accuarcy: 0.8998643761301989\n",
      "\n"
     ]
    }
   ],
   "source": [
    "# Instantiate the classifier: \n",
    "knn_tv = KNeighborsClassifier(n_neighbors=5)\n",
    "# Fit it to the data\n",
    "knn_tv.fit(tfidf_vect_train, y_train)\n",
    "# Predict on the test data\n",
    "y_pred_knn_tv = knn_tv.predict(tfidf_vect_test)\n",
    "\n",
    "# Compute and print the scores\n",
    "print('Accuarcy: {}\\n'.format(metrics.accuracy_score(y_test, y_pred_knn_tv)))"
   ]
  },
  {
   "cell_type": "markdown",
   "metadata": {},
   "source": [
    "### Classification report"
   ]
  },
  {
   "cell_type": "code",
   "execution_count": 68,
   "metadata": {},
   "outputs": [
    {
     "name": "stdout",
     "output_type": "stream",
     "text": [
      "              precision    recall  f1-score   support\n",
      "\n",
      "           0       0.28      0.08      0.13       394\n",
      "           1       0.92      0.98      0.95      4030\n",
      "\n",
      "   micro avg       0.90      0.90      0.90      4424\n",
      "   macro avg       0.60      0.53      0.54      4424\n",
      "weighted avg       0.86      0.90      0.87      4424\n",
      "\n"
     ]
    }
   ],
   "source": [
    "#Compute and print the classification report\n",
    "print (classification_report(y_test, y_pred_knn_tv))"
   ]
  },
  {
   "cell_type": "markdown",
   "metadata": {},
   "source": [
    "### Confusion Matrix"
   ]
  },
  {
   "cell_type": "code",
   "execution_count": 80,
   "metadata": {},
   "outputs": [
    {
     "data": {
      "image/png": "[encoded data removed]",
      "text/plain": [
       "<Figure size 432x432 with 1 Axes>"
      ]
     },
     "metadata": {},
     "output_type": "display_data"
    }
   ],
   "source": [
    "#Plotting the confusion matrix with \"confusion_matrix_plot\" function\n",
    "confusion_matrix_plot(y_test, y_pred_knn_tv, \n",
    "                      title = 'KNN with TfidfVectorizing', color=plt.cm.Wistia)"
   ]
  },
  {
   "cell_type": "markdown",
   "metadata": {},
   "source": [
    "## 2.6. Random Forest with TfidfVectorizing"
   ]
  },
  {
   "cell_type": "code",
   "execution_count": 56,
   "metadata": {},
   "outputs": [
    {
     "name": "stdout",
     "output_type": "stream",
     "text": [
      "Accuarcy: 0.9120705244122965\n",
      "\n"
     ]
    }
   ],
   "source": [
    "# Instantiate the classifier: \n",
    "rf_tv = RandomForestClassifier(n_estimators = 200, random_state=5)\n",
    "# Fit to the training set\n",
    "rf_tv.fit(tfidf_vect_train, y_train)\n",
    "# Predict the labels of the test set: y_pred\n",
    "y_pred_rf_tv = rf_tv.predict(tfidf_vect_test)\n",
    "\n",
    "# Compute and print the accuracy\n",
    "print('Accuarcy: {}\\n'.format(metrics.accuracy_score(y_test, y_pred_rf_tv)))"
   ]
  },
  {
   "cell_type": "markdown",
   "metadata": {},
   "source": [
    "### Classification report"
   ]
  },
  {
   "cell_type": "code",
   "execution_count": 81,
   "metadata": {},
   "outputs": [
    {
     "name": "stdout",
     "output_type": "stream",
     "text": [
      "              precision    recall  f1-score   support\n",
      "\n",
      "           0       0.69      0.02      0.04       394\n",
      "           1       0.91      1.00      0.95      4030\n",
      "\n",
      "   micro avg       0.91      0.91      0.91      4424\n",
      "   macro avg       0.80      0.51      0.50      4424\n",
      "weighted avg       0.89      0.91      0.87      4424\n",
      "\n"
     ]
    }
   ],
   "source": [
    "#Compute and print the classification report\n",
    "print (classification_report(y_test, y_pred_rf_tv))"
   ]
  },
  {
   "cell_type": "markdown",
   "metadata": {},
   "source": [
    "### Confusion Matrix"
   ]
  },
  {
   "cell_type": "code",
   "execution_count": 82,
   "metadata": {},
   "outputs": [
    {
     "data": {
      "image/png": "[encoded data removed]",
      "text/plain": [
       "<Figure size 432x432 with 1 Axes>"
      ]
     },
     "metadata": {},
     "output_type": "display_data"
    }
   ],
   "source": [
    "#Plotting the confusion matrix with \"confusion_matrix_plot\" function\n",
    "confusion_matrix_plot(y_test, y_pred_rf_tv, \n",
    "                      title = 'KNN with TfidfVectorizing', color=plt.cm.Wistia)"
   ]
  },
  {
   "cell_type": "markdown",
   "metadata": {},
   "source": [
    "## 2.7. GradientBoosting with TfidfVectorizing"
   ]
  },
  {
   "cell_type": "code",
   "execution_count": 57,
   "metadata": {},
   "outputs": [
    {
     "name": "stdout",
     "output_type": "stream",
     "text": [
      "Accuarcy: 0.9136528028933092\n",
      "\n"
     ]
    }
   ],
   "source": [
    "# Instantiate the classifier; \n",
    "gb_tv = GradientBoostingClassifier()\n",
    "\n",
    "# Fit to the training set\n",
    "gb_tv.fit(tfidf_vect_train, y_train)\n",
    "\n",
    "# Predict on the test set;\n",
    "y_pred_gb_tv = gb_tv.predict(tfidf_vect_test)\n",
    "\n",
    "# Compute and print the accuracy\n",
    "print('Accuarcy: {}\\n'.format(metrics.accuracy_score(y_test, y_pred_gb_tv)))"
   ]
  },
  {
   "cell_type": "markdown",
   "metadata": {},
   "source": [
    "### Classification report"
   ]
  },
  {
   "cell_type": "code",
   "execution_count": 83,
   "metadata": {},
   "outputs": [
    {
     "name": "stdout",
     "output_type": "stream",
     "text": [
      "              precision    recall  f1-score   support\n",
      "\n",
      "           0       0.59      0.10      0.17       394\n",
      "           1       0.92      0.99      0.95      4030\n",
      "\n",
      "   micro avg       0.91      0.91      0.91      4424\n",
      "   macro avg       0.75      0.55      0.56      4424\n",
      "weighted avg       0.89      0.91      0.88      4424\n",
      "\n"
     ]
    }
   ],
   "source": [
    "#Compute and print the classification report\n",
    "print (classification_report(y_test, y_pred_gb_tv))"
   ]
  },
  {
   "cell_type": "markdown",
   "metadata": {},
   "source": [
    "### Confusion Matrix"
   ]
  },
  {
   "cell_type": "code",
   "execution_count": 84,
   "metadata": {},
   "outputs": [
    {
     "data": {
      "image/png": "[encoded data removed]",
      "text/plain": [
       "<Figure size 432x432 with 1 Axes>"
      ]
     },
     "metadata": {},
     "output_type": "display_data"
    }
   ],
   "source": [
    "#Plotting the confusion matrix with \"confusion_matrix_plot\" function\n",
    "confusion_matrix_plot(y_test, y_pred_gb_tv, \n",
    "                      title = 'KNN with TfidfVectorizing', color=plt.cm.Wistia)"
   ]
  },
  {
   "cell_type": "markdown",
   "metadata": {},
   "source": [
    "## 2.8. Comparision of TfidfVectorizing"
   ]
  },
  {
   "cell_type": "code",
   "execution_count": 85,
   "metadata": {},
   "outputs": [],
   "source": [
    "#For loop for using \"comparison functions\" on \"TfidfVectorizing\" results\n",
    "\n",
    "frames_tv = [] # empty list for collecting dataframes\n",
    "y_preds_tv = [y_pred_logreg_tv, y_pred_svm_tv, y_pred_ksvm_tv, \n",
    "           y_pred_nb_tv, y_pred_knn_tv, y_pred_rf_tv, y_pred_gb_tv] #list for y_preds\n",
    "labels_tv = ['LogReg', 'SVM', 'Kernel SVM', 'Naive Bayes', 'KNN', 'RForest', 'GBoost'] # list for labels\n",
    "vector_tv = 'TfidfVect'\n",
    "for y_pred, label in zip(y_preds_tv, labels_tv):\n",
    "    df = comparison_matrix(y_test, y_pred, label, vector_tv)\n",
    "    frames_tv.append(df)\n",
    "\n",
    "# concatenating all dataframes\n",
    "df_tv = pd.concat(frames_tv)\n",
    "\n",
    "df_tv2 = df_tv.set_index(['vectorizer', 'model', 'accuracy', 'class'])"
   ]
  },
  {
   "cell_type": "markdown",
   "metadata": {},
   "source": [
    "### Comparison table - TfidfVectorizing"
   ]
  },
  {
   "cell_type": "code",
   "execution_count": 86,
   "metadata": {
    "scrolled": true
   },
   "outputs": [
    {
     "name": "stdout",
     "output_type": "stream",
     "text": [
      "\n",
      "Comparision Matrix of Modeling with TfidfVectorizing\n",
      "\n"
     ]
    },
    {
     "data": {
      "text/html": [
       "<div>\n",
       "<style scoped>\n",
       "    .dataframe tbody tr th:only-of-type {\n",
       "        vertical-align: middle;\n",
       "    }\n",
       "\n",
       "    .dataframe tbody tr th {\n",
       "        vertical-align: top;\n",
       "    }\n",
       "\n",
       "    .dataframe thead th {\n",
       "        text-align: right;\n",
       "    }\n",
       "</style>\n",
       "<table border=\"1\" class=\"dataframe\">\n",
       "  <thead>\n",
       "    <tr style=\"text-align: right;\">\n",
       "      <th></th>\n",
       "      <th></th>\n",
       "      <th></th>\n",
       "      <th></th>\n",
       "      <th>precision</th>\n",
       "      <th>recall</th>\n",
       "      <th>f1-score</th>\n",
       "      <th>support</th>\n",
       "    </tr>\n",
       "    <tr>\n",
       "      <th>vectorizer</th>\n",
       "      <th>model</th>\n",
       "      <th>accuracy</th>\n",
       "      <th>class</th>\n",
       "      <th></th>\n",
       "      <th></th>\n",
       "      <th></th>\n",
       "      <th></th>\n",
       "    </tr>\n",
       "  </thead>\n",
       "  <tbody>\n",
       "    <tr>\n",
       "      <th rowspan=\"21\" valign=\"top\">TfidfVect</th>\n",
       "      <th rowspan=\"3\" valign=\"top\">LogReg</th>\n",
       "      <th rowspan=\"3\" valign=\"top\">0.825497</th>\n",
       "      <th>bad</th>\n",
       "      <td>0.290000</td>\n",
       "      <td>0.662437</td>\n",
       "      <td>0.403400</td>\n",
       "      <td>394.0</td>\n",
       "    </tr>\n",
       "    <tr>\n",
       "      <th>not bad</th>\n",
       "      <td>0.962259</td>\n",
       "      <td>0.841439</td>\n",
       "      <td>0.897802</td>\n",
       "      <td>4030.0</td>\n",
       "    </tr>\n",
       "    <tr>\n",
       "      <th>average</th>\n",
       "      <td>0.902388</td>\n",
       "      <td>0.825497</td>\n",
       "      <td>0.853771</td>\n",
       "      <td>4424.0</td>\n",
       "    </tr>\n",
       "    <tr>\n",
       "      <th rowspan=\"3\" valign=\"top\">SVM</th>\n",
       "      <th rowspan=\"3\" valign=\"top\">0.920434</th>\n",
       "      <th>bad</th>\n",
       "      <td>0.783784</td>\n",
       "      <td>0.147208</td>\n",
       "      <td>0.247863</td>\n",
       "      <td>394.0</td>\n",
       "    </tr>\n",
       "    <tr>\n",
       "      <th>not bad</th>\n",
       "      <td>0.922759</td>\n",
       "      <td>0.996030</td>\n",
       "      <td>0.957995</td>\n",
       "      <td>4030.0</td>\n",
       "    </tr>\n",
       "    <tr>\n",
       "      <th>average</th>\n",
       "      <td>0.910382</td>\n",
       "      <td>0.920434</td>\n",
       "      <td>0.894751</td>\n",
       "      <td>4424.0</td>\n",
       "    </tr>\n",
       "    <tr>\n",
       "      <th rowspan=\"3\" valign=\"top\">Kernel SVM</th>\n",
       "      <th rowspan=\"3\" valign=\"top\">0.910940</th>\n",
       "      <th>bad</th>\n",
       "      <td>0.000000</td>\n",
       "      <td>0.000000</td>\n",
       "      <td>0.000000</td>\n",
       "      <td>394.0</td>\n",
       "    </tr>\n",
       "    <tr>\n",
       "      <th>not bad</th>\n",
       "      <td>0.910940</td>\n",
       "      <td>1.000000</td>\n",
       "      <td>0.953395</td>\n",
       "      <td>4030.0</td>\n",
       "    </tr>\n",
       "    <tr>\n",
       "      <th>average</th>\n",
       "      <td>0.829812</td>\n",
       "      <td>0.910940</td>\n",
       "      <td>0.868486</td>\n",
       "      <td>4424.0</td>\n",
       "    </tr>\n",
       "    <tr>\n",
       "      <th rowspan=\"3\" valign=\"top\">Naive Bayes</th>\n",
       "      <th rowspan=\"3\" valign=\"top\">0.910940</th>\n",
       "      <th>bad</th>\n",
       "      <td>0.000000</td>\n",
       "      <td>0.000000</td>\n",
       "      <td>0.000000</td>\n",
       "      <td>394.0</td>\n",
       "    </tr>\n",
       "    <tr>\n",
       "      <th>not bad</th>\n",
       "      <td>0.910940</td>\n",
       "      <td>1.000000</td>\n",
       "      <td>0.953395</td>\n",
       "      <td>4030.0</td>\n",
       "    </tr>\n",
       "    <tr>\n",
       "      <th>average</th>\n",
       "      <td>0.829812</td>\n",
       "      <td>0.910940</td>\n",
       "      <td>0.868486</td>\n",
       "      <td>4424.0</td>\n",
       "    </tr>\n",
       "    <tr>\n",
       "      <th rowspan=\"3\" valign=\"top\">KNN</th>\n",
       "      <th rowspan=\"3\" valign=\"top\">0.899864</th>\n",
       "      <th>bad</th>\n",
       "      <td>0.283186</td>\n",
       "      <td>0.081218</td>\n",
       "      <td>0.126233</td>\n",
       "      <td>394.0</td>\n",
       "    </tr>\n",
       "    <tr>\n",
       "      <th>not bad</th>\n",
       "      <td>0.916029</td>\n",
       "      <td>0.979901</td>\n",
       "      <td>0.946889</td>\n",
       "      <td>4030.0</td>\n",
       "    </tr>\n",
       "    <tr>\n",
       "      <th>average</th>\n",
       "      <td>0.859668</td>\n",
       "      <td>0.899864</td>\n",
       "      <td>0.873801</td>\n",
       "      <td>4424.0</td>\n",
       "    </tr>\n",
       "    <tr>\n",
       "      <th rowspan=\"3\" valign=\"top\">RForest</th>\n",
       "      <th rowspan=\"3\" valign=\"top\">0.912071</th>\n",
       "      <th>bad</th>\n",
       "      <td>0.692308</td>\n",
       "      <td>0.022843</td>\n",
       "      <td>0.044226</td>\n",
       "      <td>394.0</td>\n",
       "    </tr>\n",
       "    <tr>\n",
       "      <th>not bad</th>\n",
       "      <td>0.912718</td>\n",
       "      <td>0.999007</td>\n",
       "      <td>0.953915</td>\n",
       "      <td>4030.0</td>\n",
       "    </tr>\n",
       "    <tr>\n",
       "      <th>average</th>\n",
       "      <td>0.893089</td>\n",
       "      <td>0.912071</td>\n",
       "      <td>0.872899</td>\n",
       "      <td>4424.0</td>\n",
       "    </tr>\n",
       "    <tr>\n",
       "      <th rowspan=\"3\" valign=\"top\">GBoost</th>\n",
       "      <th rowspan=\"3\" valign=\"top\">0.913653</th>\n",
       "      <th>bad</th>\n",
       "      <td>0.590909</td>\n",
       "      <td>0.098985</td>\n",
       "      <td>0.169565</td>\n",
       "      <td>394.0</td>\n",
       "    </tr>\n",
       "    <tr>\n",
       "      <th>not bad</th>\n",
       "      <td>0.918541</td>\n",
       "      <td>0.993300</td>\n",
       "      <td>0.954459</td>\n",
       "      <td>4030.0</td>\n",
       "    </tr>\n",
       "    <tr>\n",
       "      <th>average</th>\n",
       "      <td>0.889362</td>\n",
       "      <td>0.913653</td>\n",
       "      <td>0.884556</td>\n",
       "      <td>4424.0</td>\n",
       "    </tr>\n",
       "  </tbody>\n",
       "</table>\n",
       "</div>"
      ],
      "text/plain": [
       "                                         precision    recall  f1-score  \\\n",
       "vectorizer model       accuracy class                                    \n",
       "TfidfVect  LogReg      0.825497 bad       0.290000  0.662437  0.403400   \n",
       "                                not bad   0.962259  0.841439  0.897802   \n",
       "                                average   0.902388  0.825497  0.853771   \n",
       "           SVM         0.920434 bad       0.783784  0.147208  0.247863   \n",
       "                                not bad   0.922759  0.996030  0.957995   \n",
       "                                average   0.910382  0.920434  0.894751   \n",
       "           Kernel SVM  0.910940 bad       0.000000  0.000000  0.000000   \n",
       "                                not bad   0.910940  1.000000  0.953395   \n",
       "                                average   0.829812  0.910940  0.868486   \n",
       "           Naive Bayes 0.910940 bad       0.000000  0.000000  0.000000   \n",
       "                                not bad   0.910940  1.000000  0.953395   \n",
       "                                average   0.829812  0.910940  0.868486   \n",
       "           KNN         0.899864 bad       0.283186  0.081218  0.126233   \n",
       "                                not bad   0.916029  0.979901  0.946889   \n",
       "                                average   0.859668  0.899864  0.873801   \n",
       "           RForest     0.912071 bad       0.692308  0.022843  0.044226   \n",
       "                                not bad   0.912718  0.999007  0.953915   \n",
       "                                average   0.893089  0.912071  0.872899   \n",
       "           GBoost      0.913653 bad       0.590909  0.098985  0.169565   \n",
       "                                not bad   0.918541  0.993300  0.954459   \n",
       "                                average   0.889362  0.913653  0.884556   \n",
       "\n",
       "                                         support  \n",
       "vectorizer model       accuracy class             \n",
       "TfidfVect  LogReg      0.825497 bad        394.0  \n",
       "                                not bad   4030.0  \n",
       "                                average   4424.0  \n",
       "           SVM         0.920434 bad        394.0  \n",
       "                                not bad   4030.0  \n",
       "                                average   4424.0  \n",
       "           Kernel SVM  0.910940 bad        394.0  \n",
       "                                not bad   4030.0  \n",
       "                                average   4424.0  \n",
       "           Naive Bayes 0.910940 bad        394.0  \n",
       "                                not bad   4030.0  \n",
       "                                average   4424.0  \n",
       "           KNN         0.899864 bad        394.0  \n",
       "                                not bad   4030.0  \n",
       "                                average   4424.0  \n",
       "           RForest     0.912071 bad        394.0  \n",
       "                                not bad   4030.0  \n",
       "                                average   4424.0  \n",
       "           GBoost      0.913653 bad        394.0  \n",
       "                                not bad   4030.0  \n",
       "                                average   4424.0  "
      ]
     },
     "execution_count": 86,
     "metadata": {},
     "output_type": "execute_result"
    }
   ],
   "source": [
    "# Print the comparision matrix\n",
    "print('\\nComparision Matrix of Modeling with TfidfVectorizing\\n')\n",
    "df_tv2"
   ]
  },
  {
   "cell_type": "markdown",
   "metadata": {},
   "source": [
    "# 3. HashingVectorizer"
   ]
  },
  {
   "cell_type": "code",
   "execution_count": 87,
   "metadata": {},
   "outputs": [],
   "source": [
    "hash_vect = HashingVectorizer(n_features=2000, ngram_range=(1,1))\n",
    "hash_vect_train = hash_vect.fit_transform(X_train)\n",
    "hash_vect_train = hash_vect_train.toarray()\n",
    "hash_vect_test = hash_vect.transform(X_test)\n",
    "hash_vect_test = hash_vect_test.toarray()"
   ]
  },
  {
   "cell_type": "markdown",
   "metadata": {},
   "source": [
    "## 3.1. Logistic Regression with HashingVectorizing"
   ]
  },
  {
   "cell_type": "code",
   "execution_count": 88,
   "metadata": {},
   "outputs": [
    {
     "name": "stdout",
     "output_type": "stream",
     "text": [
      "Accuarcy: 0.7750904159132007\n",
      "\n"
     ]
    }
   ],
   "source": [
    "# Instantiate a logistic regression classifier;\n",
    "logreg_hv = LogisticRegression(multi_class='multinomial', solver='newton-cg',class_weight='balanced',\n",
    "                              C=0.1, n_jobs=-1, random_state=5)\n",
    "# Fit it to the training set;\n",
    "logreg_hv.fit(hash_vect_train, y_train)\n",
    "# Predict on the test set;\n",
    "y_pred_logreg_hv = logreg_hv.predict(hash_vect_test)\n",
    "\n",
    "# Compute and print the accuracy\n",
    "print('Accuarcy: {}\\n'.format(metrics.accuracy_score(y_test, y_pred_logreg_hv)))"
   ]
  },
  {
   "cell_type": "markdown",
   "metadata": {},
   "source": [
    "### Classification report"
   ]
  },
  {
   "cell_type": "code",
   "execution_count": 89,
   "metadata": {},
   "outputs": [
    {
     "name": "stdout",
     "output_type": "stream",
     "text": [
      "              precision    recall  f1-score   support\n",
      "\n",
      "           0       0.24      0.68      0.35       394\n",
      "           1       0.96      0.78      0.86      4030\n",
      "\n",
      "   micro avg       0.78      0.78      0.78      4424\n",
      "   macro avg       0.60      0.73      0.61      4424\n",
      "weighted avg       0.90      0.78      0.82      4424\n",
      "\n"
     ]
    }
   ],
   "source": [
    "#Compute and print the classification report\n",
    "print (classification_report(y_test, y_pred_logreg_hv))"
   ]
  },
  {
   "cell_type": "markdown",
   "metadata": {},
   "source": [
    "### Confusion Matrix"
   ]
  },
  {
   "cell_type": "code",
   "execution_count": 90,
   "metadata": {},
   "outputs": [
    {
     "data": {
      "image/png": "[encoded data removed]",
      "text/plain": [
       "<Figure size 432x432 with 1 Axes>"
      ]
     },
     "metadata": {},
     "output_type": "display_data"
    }
   ],
   "source": [
    "#Plotting the confusion matrix with \"confusion_matrix_plot\" function\n",
    "confusion_matrix_plot(y_test, y_pred_logreg_hv, \n",
    "                      title = 'Logistic Regression with HashingVectorizing', color=plt.cm.spring)"
   ]
  },
  {
   "cell_type": "markdown",
   "metadata": {},
   "source": [
    "## 3.2. Linear SVM with HashingVectorizing"
   ]
  },
  {
   "cell_type": "code",
   "execution_count": 91,
   "metadata": {},
   "outputs": [
    {
     "name": "stdout",
     "output_type": "stream",
     "text": [
      "Accuarcy: 0.9134267631103075\n",
      "\n"
     ]
    }
   ],
   "source": [
    "# Instantiate a SVC classifier: with already defined best parameters\n",
    "svm_hv=SVC(kernel='linear')\n",
    "# Fit to the training set\n",
    "svm_hv.fit(hash_vect_train, y_train)\n",
    "# Predict on the test data\n",
    "y_pred_svm_hv = svm_hv.predict(hash_vect_test)\n",
    "\n",
    "# Compute and print the accuracy\n",
    "print('Accuarcy: {}\\n'.format(metrics.accuracy_score(y_test, y_pred_svm_hv)))"
   ]
  },
  {
   "cell_type": "markdown",
   "metadata": {},
   "source": [
    "### Classification report"
   ]
  },
  {
   "cell_type": "code",
   "execution_count": 92,
   "metadata": {},
   "outputs": [
    {
     "name": "stdout",
     "output_type": "stream",
     "text": [
      "              precision    recall  f1-score   support\n",
      "\n",
      "           0       0.76      0.04      0.08       394\n",
      "           1       0.91      1.00      0.95      4030\n",
      "\n",
      "   micro avg       0.91      0.91      0.91      4424\n",
      "   macro avg       0.84      0.52      0.52      4424\n",
      "weighted avg       0.90      0.91      0.88      4424\n",
      "\n"
     ]
    }
   ],
   "source": [
    "#Compute and print the classification report\n",
    "print (classification_report(y_test, y_pred_svm_hv))"
   ]
  },
  {
   "cell_type": "markdown",
   "metadata": {},
   "source": [
    "### Confusion Matrix"
   ]
  },
  {
   "cell_type": "code",
   "execution_count": 93,
   "metadata": {},
   "outputs": [
    {
     "data": {
      "image/png": "[encoded data removed]",
      "text/plain": [
       "<Figure size 432x432 with 1 Axes>"
      ]
     },
     "metadata": {},
     "output_type": "display_data"
    }
   ],
   "source": [
    "#Plotting the confusion matrix with \"confusion_matrix_plot\" function\n",
    "confusion_matrix_plot(y_test, y_pred_svm_hv, \n",
    "                      title = 'Linear SVM with HashingVectorizing', color=plt.cm.spring)"
   ]
  },
  {
   "cell_type": "markdown",
   "metadata": {},
   "source": [
    "## 3.3. Kernel SVM with HashVectorizing"
   ]
  },
  {
   "cell_type": "code",
   "execution_count": 94,
   "metadata": {},
   "outputs": [
    {
     "name": "stdout",
     "output_type": "stream",
     "text": [
      "Accuarcy: 0.9109403254972875\n",
      "\n"
     ]
    }
   ],
   "source": [
    "# Instantiate a naive bayes classifier:\n",
    "ksvm_hv = SVC(kernel='rbf')\n",
    "# Fit to the training set\n",
    "ksvm_hv.fit(hash_vect_train, y_train)\n",
    "# Predict the labels of the test set: y_pred\n",
    "y_pred_ksvm_hv = ksvm_hv.predict(hash_vect_test)\n",
    "\n",
    "# Compute and print the accuracy\n",
    "print('Accuarcy: {}\\n'.format(metrics.accuracy_score(y_test, y_pred_ksvm_hv)))"
   ]
  },
  {
   "cell_type": "markdown",
   "metadata": {},
   "source": [
    "### Classification report"
   ]
  },
  {
   "cell_type": "code",
   "execution_count": 98,
   "metadata": {},
   "outputs": [
    {
     "name": "stdout",
     "output_type": "stream",
     "text": [
      "              precision    recall  f1-score   support\n",
      "\n",
      "           0       0.00      0.00      0.00       394\n",
      "           1       0.91      1.00      0.95      4030\n",
      "\n",
      "   micro avg       0.91      0.91      0.91      4424\n",
      "   macro avg       0.46      0.50      0.48      4424\n",
      "weighted avg       0.83      0.91      0.87      4424\n",
      "\n"
     ]
    }
   ],
   "source": [
    "#Compute and print the classification report\n",
    "print (classification_report(y_test, y_pred_ksvm_hv))"
   ]
  },
  {
   "cell_type": "markdown",
   "metadata": {},
   "source": [
    "### Confusion Matrix"
   ]
  },
  {
   "cell_type": "code",
   "execution_count": 99,
   "metadata": {},
   "outputs": [
    {
     "data": {
      "image/png": "[encoded data removed]",
      "text/plain": [
       "<Figure size 432x432 with 1 Axes>"
      ]
     },
     "metadata": {},
     "output_type": "display_data"
    }
   ],
   "source": [
    "#Plotting the confusion matrix with \"confusion_matrix_plot\" function\n",
    "confusion_matrix_plot(y_test, y_pred_ksvm_hv, \n",
    "                      title = 'Kernel SVM with HashingVectorizing', color=plt.cm.spring)"
   ]
  },
  {
   "cell_type": "markdown",
   "metadata": {},
   "source": [
    "## 3.4. KNN Classifier with HashVectorizing"
   ]
  },
  {
   "cell_type": "code",
   "execution_count": 100,
   "metadata": {},
   "outputs": [
    {
     "name": "stdout",
     "output_type": "stream",
     "text": [
      "Accuarcy: 0.8930831826401446\n",
      "\n"
     ]
    }
   ],
   "source": [
    "# Instantiate the classifier: \n",
    "knn_hv = KNeighborsClassifier(n_neighbors=5)\n",
    "# Fit it to the data\n",
    "knn_hv.fit(hash_vect_train, y_train)\n",
    "# Predict on the test data\n",
    "y_pred_knn_hv = knn_hv.predict(hash_vect_test)\n",
    "\n",
    "# Compute and print the scores\n",
    "print('Accuarcy: {}\\n'.format(metrics.accuracy_score(y_test, y_pred_knn_hv)))"
   ]
  },
  {
   "cell_type": "markdown",
   "metadata": {},
   "source": [
    "### Classification report"
   ]
  },
  {
   "cell_type": "code",
   "execution_count": 102,
   "metadata": {},
   "outputs": [
    {
     "name": "stdout",
     "output_type": "stream",
     "text": [
      "              precision    recall  f1-score   support\n",
      "\n",
      "           0       0.28      0.13      0.18       394\n",
      "           1       0.92      0.97      0.94      4030\n",
      "\n",
      "   micro avg       0.89      0.89      0.89      4424\n",
      "   macro avg       0.60      0.55      0.56      4424\n",
      "weighted avg       0.86      0.89      0.87      4424\n",
      "\n"
     ]
    }
   ],
   "source": [
    "#Compute and print the classification report\n",
    "print (classification_report(y_test, y_pred_knn_hv))"
   ]
  },
  {
   "cell_type": "markdown",
   "metadata": {},
   "source": [
    "### Confusion Matrix"
   ]
  },
  {
   "cell_type": "code",
   "execution_count": 103,
   "metadata": {},
   "outputs": [
    {
     "data": {
      "image/png": "[encoded data removed]",
      "text/plain": [
       "<Figure size 432x432 with 1 Axes>"
      ]
     },
     "metadata": {},
     "output_type": "display_data"
    }
   ],
   "source": [
    "#Plotting the confusion matrix with \"confusion_matrix_plot\" function\n",
    "confusion_matrix_plot(y_test, y_pred_knn_hv, \n",
    "                      title = 'KNN with HashingVectorizing', color=plt.cm.spring)"
   ]
  },
  {
   "cell_type": "markdown",
   "metadata": {},
   "source": [
    "## 3.5. Random Forest with HasVectorizing"
   ]
  },
  {
   "cell_type": "code",
   "execution_count": 96,
   "metadata": {},
   "outputs": [
    {
     "name": "stdout",
     "output_type": "stream",
     "text": [
      "Accuarcy: 0.9120705244122965\n",
      "\n"
     ]
    }
   ],
   "source": [
    "# Instantiate the classifier: \n",
    "rf_hv = RandomForestClassifier(n_estimators = 200, random_state=5)\n",
    "# Fit to the training set\n",
    "rf_hv.fit(hash_vect_train, y_train)\n",
    "# Predict the labels of the test set: y_pred\n",
    "y_pred_rf_hv = rf_hv.predict(hash_vect_test)\n",
    "\n",
    "# Compute and print the accuracy\n",
    "print('Accuarcy: {}\\n'.format(metrics.accuracy_score(y_test, y_pred_rf_hv)))"
   ]
  },
  {
   "cell_type": "markdown",
   "metadata": {},
   "source": [
    "### Classification report"
   ]
  },
  {
   "cell_type": "code",
   "execution_count": 101,
   "metadata": {},
   "outputs": [
    {
     "name": "stdout",
     "output_type": "stream",
     "text": [
      "              precision    recall  f1-score   support\n",
      "\n",
      "           0       0.69      0.02      0.04       394\n",
      "           1       0.91      1.00      0.95      4030\n",
      "\n",
      "   micro avg       0.91      0.91      0.91      4424\n",
      "   macro avg       0.80      0.51      0.50      4424\n",
      "weighted avg       0.89      0.91      0.87      4424\n",
      "\n"
     ]
    }
   ],
   "source": [
    "# Compute and print the classification report\n",
    "print (classification_report(y_test, y_pred_rf_hv))"
   ]
  },
  {
   "cell_type": "markdown",
   "metadata": {},
   "source": [
    "### Confusion Matrix"
   ]
  },
  {
   "cell_type": "code",
   "execution_count": 104,
   "metadata": {},
   "outputs": [
    {
     "data": {
      "image/png": "[encoded data removed]",
      "text/plain": [
       "<Figure size 432x432 with 1 Axes>"
      ]
     },
     "metadata": {},
     "output_type": "display_data"
    }
   ],
   "source": [
    "#Plotting the confusion matrix with \"confusion_matrix_plot\" function\n",
    "confusion_matrix_plot(y_test, y_pred_rf_hv, \n",
    "                      title = 'Random Forest with HashingVectorizing', color=plt.cm.spring)"
   ]
  },
  {
   "cell_type": "markdown",
   "metadata": {},
   "source": [
    "## 3.6. GradientBoosting with HashVectorizing"
   ]
  },
  {
   "cell_type": "code",
   "execution_count": 97,
   "metadata": {},
   "outputs": [
    {
     "name": "stdout",
     "output_type": "stream",
     "text": [
      "Accuarcy: 0.9136528028933092\n",
      "\n"
     ]
    }
   ],
   "source": [
    "# Instantiate the classifier; \n",
    "gb_hv = GradientBoostingClassifier()\n",
    "\n",
    "# Fit to the training set\n",
    "gb_hv.fit(hash_vect_train, y_train)\n",
    "\n",
    "# Predict on the test set;\n",
    "y_pred_gb_hv = gb_hv.predict(hash_vect_test)\n",
    "\n",
    "# Compute and print the accuracy\n",
    "print('Accuarcy: {}\\n'.format(metrics.accuracy_score(y_test, y_pred_gb_hv)))"
   ]
  },
  {
   "cell_type": "markdown",
   "metadata": {},
   "source": [
    "### Classification report"
   ]
  },
  {
   "cell_type": "code",
   "execution_count": 105,
   "metadata": {},
   "outputs": [
    {
     "name": "stdout",
     "output_type": "stream",
     "text": [
      "              precision    recall  f1-score   support\n",
      "\n",
      "           0       0.64      0.07      0.13       394\n",
      "           1       0.92      1.00      0.95      4030\n",
      "\n",
      "   micro avg       0.91      0.91      0.91      4424\n",
      "   macro avg       0.78      0.53      0.54      4424\n",
      "weighted avg       0.89      0.91      0.88      4424\n",
      "\n"
     ]
    }
   ],
   "source": [
    "# Compute and print the classification report\n",
    "print (classification_report(y_test, y_pred_gb_hv))"
   ]
  },
  {
   "cell_type": "markdown",
   "metadata": {},
   "source": [
    "### Confusion Matrix"
   ]
  },
  {
   "cell_type": "code",
   "execution_count": 106,
   "metadata": {},
   "outputs": [
    {
     "data": {
      "image/png": "[encoded data removed]",
      "text/plain": [
       "<Figure size 432x432 with 1 Axes>"
      ]
     },
     "metadata": {},
     "output_type": "display_data"
    }
   ],
   "source": [
    "#Plotting the confusion matrix with \"confusion_matrix_plot\" function\n",
    "confusion_matrix_plot(y_test, y_pred_gb_hv, \n",
    "                      title = 'GradientBoosting with HashingVectorizing', color=plt.cm.spring)"
   ]
  },
  {
   "cell_type": "markdown",
   "metadata": {},
   "source": [
    "## 3.7. Comparison of HashingVectorizing"
   ]
  },
  {
   "cell_type": "code",
   "execution_count": 107,
   "metadata": {},
   "outputs": [],
   "source": [
    "#For loop for using \"comparison functions\" on \"HashingVectorizing\" results\n",
    "\n",
    "frames_hv = [] # empty list for collecting dataframes\n",
    "y_preds_hv = [y_pred_logreg_hv, y_pred_svm_hv, y_pred_ksvm_hv,\n",
    "           y_pred_knn_hv, y_pred_rf_hv, y_pred_gb_hv] #list for y_preds\n",
    "labels_hv = ['LogReg', 'SVM', 'Kernel SVM', 'KNN', 'RForest', 'GBoost'] # list for labels\n",
    "vector_hv = 'HashVect'\n",
    "for y_pred, label in zip(y_preds_hv, labels_hv):\n",
    "    df = comparison_matrix(y_test, y_pred, label, vector_hv)\n",
    "    frames_hv.append(df)\n",
    "\n",
    "# concatenating all dataframes\n",
    "df_hv = pd.concat(frames_hv)\n",
    "\n",
    "df_hv2 = df_hv.set_index(['vectorizer', 'model', 'accuracy', 'class'])"
   ]
  },
  {
   "cell_type": "markdown",
   "metadata": {},
   "source": [
    "### Comparision Table"
   ]
  },
  {
   "cell_type": "code",
   "execution_count": 108,
   "metadata": {},
   "outputs": [
    {
     "name": "stdout",
     "output_type": "stream",
     "text": [
      "\n",
      "Comparision Matrix of Modeling with HashingVectorizing\n",
      "\n"
     ]
    },
    {
     "data": {
      "text/html": [
       "<div>\n",
       "<style scoped>\n",
       "    .dataframe tbody tr th:only-of-type {\n",
       "        vertical-align: middle;\n",
       "    }\n",
       "\n",
       "    .dataframe tbody tr th {\n",
       "        vertical-align: top;\n",
       "    }\n",
       "\n",
       "    .dataframe thead th {\n",
       "        text-align: right;\n",
       "    }\n",
       "</style>\n",
       "<table border=\"1\" class=\"dataframe\">\n",
       "  <thead>\n",
       "    <tr style=\"text-align: right;\">\n",
       "      <th></th>\n",
       "      <th></th>\n",
       "      <th></th>\n",
       "      <th></th>\n",
       "      <th>precision</th>\n",
       "      <th>recall</th>\n",
       "      <th>f1-score</th>\n",
       "      <th>support</th>\n",
       "    </tr>\n",
       "    <tr>\n",
       "      <th>vectorizer</th>\n",
       "      <th>model</th>\n",
       "      <th>accuracy</th>\n",
       "      <th>class</th>\n",
       "      <th></th>\n",
       "      <th></th>\n",
       "      <th></th>\n",
       "      <th></th>\n",
       "    </tr>\n",
       "  </thead>\n",
       "  <tbody>\n",
       "    <tr>\n",
       "      <th rowspan=\"18\" valign=\"top\">HashVect</th>\n",
       "      <th rowspan=\"3\" valign=\"top\">LogReg</th>\n",
       "      <th rowspan=\"3\" valign=\"top\">0.775090</th>\n",
       "      <th>bad</th>\n",
       "      <td>0.235708</td>\n",
       "      <td>0.680203</td>\n",
       "      <td>0.350098</td>\n",
       "      <td>394.0</td>\n",
       "    </tr>\n",
       "    <tr>\n",
       "      <th>not bad</th>\n",
       "      <td>0.961667</td>\n",
       "      <td>0.784367</td>\n",
       "      <td>0.864015</td>\n",
       "      <td>4030.0</td>\n",
       "    </tr>\n",
       "    <tr>\n",
       "      <th>average</th>\n",
       "      <td>0.897013</td>\n",
       "      <td>0.775090</td>\n",
       "      <td>0.818246</td>\n",
       "      <td>4424.0</td>\n",
       "    </tr>\n",
       "    <tr>\n",
       "      <th rowspan=\"3\" valign=\"top\">SVM</th>\n",
       "      <th rowspan=\"3\" valign=\"top\">0.913427</th>\n",
       "      <th>bad</th>\n",
       "      <td>0.761905</td>\n",
       "      <td>0.040609</td>\n",
       "      <td>0.077108</td>\n",
       "      <td>394.0</td>\n",
       "    </tr>\n",
       "    <tr>\n",
       "      <th>not bad</th>\n",
       "      <td>0.914149</td>\n",
       "      <td>0.998759</td>\n",
       "      <td>0.954583</td>\n",
       "      <td>4030.0</td>\n",
       "    </tr>\n",
       "    <tr>\n",
       "      <th>average</th>\n",
       "      <td>0.900591</td>\n",
       "      <td>0.913427</td>\n",
       "      <td>0.876436</td>\n",
       "      <td>4424.0</td>\n",
       "    </tr>\n",
       "    <tr>\n",
       "      <th rowspan=\"3\" valign=\"top\">Kernel SVM</th>\n",
       "      <th rowspan=\"3\" valign=\"top\">0.910940</th>\n",
       "      <th>bad</th>\n",
       "      <td>0.000000</td>\n",
       "      <td>0.000000</td>\n",
       "      <td>0.000000</td>\n",
       "      <td>394.0</td>\n",
       "    </tr>\n",
       "    <tr>\n",
       "      <th>not bad</th>\n",
       "      <td>0.910940</td>\n",
       "      <td>1.000000</td>\n",
       "      <td>0.953395</td>\n",
       "      <td>4030.0</td>\n",
       "    </tr>\n",
       "    <tr>\n",
       "      <th>average</th>\n",
       "      <td>0.829812</td>\n",
       "      <td>0.910940</td>\n",
       "      <td>0.868486</td>\n",
       "      <td>4424.0</td>\n",
       "    </tr>\n",
       "    <tr>\n",
       "      <th rowspan=\"3\" valign=\"top\">KNN</th>\n",
       "      <th rowspan=\"3\" valign=\"top\">0.893083</th>\n",
       "      <th>bad</th>\n",
       "      <td>0.284153</td>\n",
       "      <td>0.131980</td>\n",
       "      <td>0.180243</td>\n",
       "      <td>394.0</td>\n",
       "    </tr>\n",
       "    <tr>\n",
       "      <th>not bad</th>\n",
       "      <td>0.919359</td>\n",
       "      <td>0.967494</td>\n",
       "      <td>0.942812</td>\n",
       "      <td>4030.0</td>\n",
       "    </tr>\n",
       "    <tr>\n",
       "      <th>average</th>\n",
       "      <td>0.862787</td>\n",
       "      <td>0.893083</td>\n",
       "      <td>0.874898</td>\n",
       "      <td>4424.0</td>\n",
       "    </tr>\n",
       "    <tr>\n",
       "      <th rowspan=\"3\" valign=\"top\">RForest</th>\n",
       "      <th rowspan=\"3\" valign=\"top\">0.912071</th>\n",
       "      <th>bad</th>\n",
       "      <td>0.692308</td>\n",
       "      <td>0.022843</td>\n",
       "      <td>0.044226</td>\n",
       "      <td>394.0</td>\n",
       "    </tr>\n",
       "    <tr>\n",
       "      <th>not bad</th>\n",
       "      <td>0.912718</td>\n",
       "      <td>0.999007</td>\n",
       "      <td>0.953915</td>\n",
       "      <td>4030.0</td>\n",
       "    </tr>\n",
       "    <tr>\n",
       "      <th>average</th>\n",
       "      <td>0.893089</td>\n",
       "      <td>0.912071</td>\n",
       "      <td>0.872899</td>\n",
       "      <td>4424.0</td>\n",
       "    </tr>\n",
       "    <tr>\n",
       "      <th rowspan=\"3\" valign=\"top\">GBoost</th>\n",
       "      <th rowspan=\"3\" valign=\"top\">0.913653</th>\n",
       "      <th>bad</th>\n",
       "      <td>0.636364</td>\n",
       "      <td>0.071066</td>\n",
       "      <td>0.127854</td>\n",
       "      <td>394.0</td>\n",
       "    </tr>\n",
       "    <tr>\n",
       "      <th>not bad</th>\n",
       "      <td>0.916438</td>\n",
       "      <td>0.996030</td>\n",
       "      <td>0.954578</td>\n",
       "      <td>4030.0</td>\n",
       "    </tr>\n",
       "    <tr>\n",
       "      <th>average</th>\n",
       "      <td>0.891495</td>\n",
       "      <td>0.913653</td>\n",
       "      <td>0.880950</td>\n",
       "      <td>4424.0</td>\n",
       "    </tr>\n",
       "  </tbody>\n",
       "</table>\n",
       "</div>"
      ],
      "text/plain": [
       "                                        precision    recall  f1-score  support\n",
       "vectorizer model      accuracy class                                          \n",
       "HashVect   LogReg     0.775090 bad       0.235708  0.680203  0.350098    394.0\n",
       "                               not bad   0.961667  0.784367  0.864015   4030.0\n",
       "                               average   0.897013  0.775090  0.818246   4424.0\n",
       "           SVM        0.913427 bad       0.761905  0.040609  0.077108    394.0\n",
       "                               not bad   0.914149  0.998759  0.954583   4030.0\n",
       "                               average   0.900591  0.913427  0.876436   4424.0\n",
       "           Kernel SVM 0.910940 bad       0.000000  0.000000  0.000000    394.0\n",
       "                               not bad   0.910940  1.000000  0.953395   4030.0\n",
       "                               average   0.829812  0.910940  0.868486   4424.0\n",
       "           KNN        0.893083 bad       0.284153  0.131980  0.180243    394.0\n",
       "                               not bad   0.919359  0.967494  0.942812   4030.0\n",
       "                               average   0.862787  0.893083  0.874898   4424.0\n",
       "           RForest    0.912071 bad       0.692308  0.022843  0.044226    394.0\n",
       "                               not bad   0.912718  0.999007  0.953915   4030.0\n",
       "                               average   0.893089  0.912071  0.872899   4424.0\n",
       "           GBoost     0.913653 bad       0.636364  0.071066  0.127854    394.0\n",
       "                               not bad   0.916438  0.996030  0.954578   4030.0\n",
       "                               average   0.891495  0.913653  0.880950   4424.0"
      ]
     },
     "execution_count": 108,
     "metadata": {},
     "output_type": "execute_result"
    }
   ],
   "source": [
    "# Print the comparision matrix\n",
    "print('\\nComparision Matrix of Modeling with HashingVectorizing\\n')\n",
    "df_hv2"
   ]
  },
  {
   "cell_type": "markdown",
   "metadata": {},
   "source": [
    "# 4. PCA - SMOTE Combination"
   ]
  },
  {
   "cell_type": "markdown",
   "metadata": {},
   "source": [
    "### First Step - PCA Application"
   ]
  },
  {
   "cell_type": "code",
   "execution_count": 126,
   "metadata": {},
   "outputs": [],
   "source": [
    "from sklearn.decomposition import PCA\n",
    "\n",
    "pca = PCA(n_components=None)\n",
    "pca_X_train = pca.fit_transform(count_vect_train)\n",
    "pca_X_test = pca.transform(count_vect_test)"
   ]
  },
  {
   "cell_type": "markdown",
   "metadata": {},
   "source": [
    "### Second Step - SMOTE Application"
   ]
  },
  {
   "cell_type": "code",
   "execution_count": null,
   "metadata": {},
   "outputs": [],
   "source": [
    "from imblearn.over_sampling import SMOTE \n",
    "\n",
    "sm = SMOTE(random_state=5)\n",
    "df_text1, df_target1 = sm.fit_sample(pca_X_train, y_train)\n",
    "#print (count_vect_train.value_counts(), np.bincount(df_target))\n",
    "print (df_text1.shape)\n",
    "print (df_target1.shape)"
   ]
  },
  {
   "cell_type": "code",
   "execution_count": 112,
   "metadata": {},
   "outputs": [
    {
     "data": {
      "text/plain": [
       "Counter({0: 8050, 1: 8050})"
      ]
     },
     "execution_count": 112,
     "metadata": {},
     "output_type": "execute_result"
    }
   ],
   "source": [
    "from collections import Counter\n",
    "Counter(df_target1)"
   ]
  },
  {
   "cell_type": "code",
   "execution_count": 116,
   "metadata": {},
   "outputs": [
    {
     "data": {
      "text/plain": [
       "(4424,)"
      ]
     },
     "execution_count": 116,
     "metadata": {},
     "output_type": "execute_result"
    }
   ],
   "source": [
    "y_test.shape"
   ]
  },
  {
   "cell_type": "markdown",
   "metadata": {},
   "source": [
    "## 4.1. Logistic Regression with PCA-SMOTE"
   ]
  },
  {
   "cell_type": "code",
   "execution_count": 113,
   "metadata": {},
   "outputs": [
    {
     "ename": "ValueError",
     "evalue": "X has 4424 features per sample; expecting 8848",
     "output_type": "error",
     "traceback": [
      "\u001b[0;31m---------------------------------------\u001b[0m",
      "\u001b[0;31mValueError\u001b[0mTraceback (most recent call last)",
      "\u001b[0;32m<ipython-input-113-6a66b0599cf0>\u001b[0m in \u001b[0;36m<module>\u001b[0;34m()\u001b[0m\n\u001b[1;32m      5\u001b[0m \u001b[0mlogreg_pca\u001b[0m\u001b[0;34m.\u001b[0m\u001b[0mfit\u001b[0m\u001b[0;34m(\u001b[0m\u001b[0mdf_text1\u001b[0m\u001b[0;34m,\u001b[0m \u001b[0mdf_target1\u001b[0m\u001b[0;34m)\u001b[0m\u001b[0;34m\u001b[0m\u001b[0m\n\u001b[1;32m      6\u001b[0m \u001b[0;31m# Predict on the test set;\u001b[0m\u001b[0;34m\u001b[0m\u001b[0;34m\u001b[0m\u001b[0m\n\u001b[0;32m----> 7\u001b[0;31m \u001b[0my_pred_logreg_pca\u001b[0m \u001b[0;34m=\u001b[0m \u001b[0mlogreg_pca\u001b[0m\u001b[0;34m.\u001b[0m\u001b[0mpredict\u001b[0m\u001b[0;34m(\u001b[0m\u001b[0mpca_X_test\u001b[0m\u001b[0;34m)\u001b[0m\u001b[0;34m\u001b[0m\u001b[0m\n\u001b[0m\u001b[1;32m      8\u001b[0m \u001b[0;34m\u001b[0m\u001b[0m\n\u001b[1;32m      9\u001b[0m \u001b[0;31m# Compute and print the accuracy\u001b[0m\u001b[0;34m\u001b[0m\u001b[0;34m\u001b[0m\u001b[0m\n",
      "\u001b[0;32m~/anaconda3/lib/python3.6/site-packages/sklearn/linear_model/base.py\u001b[0m in \u001b[0;36mpredict\u001b[0;34m(self, X)\u001b[0m\n\u001b[1;32m    279\u001b[0m             \u001b[0mPredicted\u001b[0m \u001b[0;32mclass\u001b[0m \u001b[0mlabel\u001b[0m \u001b[0mper\u001b[0m \u001b[0msample\u001b[0m\u001b[0;34m.\u001b[0m\u001b[0;34m\u001b[0m\u001b[0m\n\u001b[1;32m    280\u001b[0m         \"\"\"\n\u001b[0;32m--> 281\u001b[0;31m         \u001b[0mscores\u001b[0m \u001b[0;34m=\u001b[0m \u001b[0mself\u001b[0m\u001b[0;34m.\u001b[0m\u001b[0mdecision_function\u001b[0m\u001b[0;34m(\u001b[0m\u001b[0mX\u001b[0m\u001b[0;34m)\u001b[0m\u001b[0;34m\u001b[0m\u001b[0m\n\u001b[0m\u001b[1;32m    282\u001b[0m         \u001b[0;32mif\u001b[0m \u001b[0mlen\u001b[0m\u001b[0;34m(\u001b[0m\u001b[0mscores\u001b[0m\u001b[0;34m.\u001b[0m\u001b[0mshape\u001b[0m\u001b[0;34m)\u001b[0m \u001b[0;34m==\u001b[0m \u001b[0;36m1\u001b[0m\u001b[0;34m:\u001b[0m\u001b[0;34m\u001b[0m\u001b[0m\n\u001b[1;32m    283\u001b[0m             \u001b[0mindices\u001b[0m \u001b[0;34m=\u001b[0m \u001b[0;34m(\u001b[0m\u001b[0mscores\u001b[0m \u001b[0;34m>\u001b[0m \u001b[0;36m0\u001b[0m\u001b[0;34m)\u001b[0m\u001b[0;34m.\u001b[0m\u001b[0mastype\u001b[0m\u001b[0;34m(\u001b[0m\u001b[0mnp\u001b[0m\u001b[0;34m.\u001b[0m\u001b[0mint\u001b[0m\u001b[0;34m)\u001b[0m\u001b[0;34m\u001b[0m\u001b[0m\n",
      "\u001b[0;32m~/anaconda3/lib/python3.6/site-packages/sklearn/linear_model/base.py\u001b[0m in \u001b[0;36mdecision_function\u001b[0;34m(self, X)\u001b[0m\n\u001b[1;32m    260\u001b[0m         \u001b[0;32mif\u001b[0m \u001b[0mX\u001b[0m\u001b[0;34m.\u001b[0m\u001b[0mshape\u001b[0m\u001b[0;34m[\u001b[0m\u001b[0;36m1\u001b[0m\u001b[0;34m]\u001b[0m \u001b[0;34m!=\u001b[0m \u001b[0mn_features\u001b[0m\u001b[0;34m:\u001b[0m\u001b[0;34m\u001b[0m\u001b[0m\n\u001b[1;32m    261\u001b[0m             raise ValueError(\"X has %d features per sample; expecting %d\"\n\u001b[0;32m--> 262\u001b[0;31m                              % (X.shape[1], n_features))\n\u001b[0m\u001b[1;32m    263\u001b[0m \u001b[0;34m\u001b[0m\u001b[0m\n\u001b[1;32m    264\u001b[0m         scores = safe_sparse_dot(X, self.coef_.T,\n",
      "\u001b[0;31mValueError\u001b[0m: X has 4424 features per sample; expecting 8848"
     ]
    }
   ],
   "source": [
    "# Instantiate a logistic regression classifier;\n",
    "logreg_pca = LogisticRegression(multi_class='multinomial', solver='newton-cg',class_weight='balanced',\n",
    "                              C=0.1, n_jobs=-1, random_state=5)\n",
    "# Fit it to the training set;\n",
    "logreg_pca.fit(df_text1, df_target1)\n",
    "# Predict on the test set;\n",
    "y_pred_logreg_pca = logreg_pca.predict(pca_X_test)\n",
    "\n",
    "# Compute and print the accuracy\n",
    "print('Accuarcy: {}\\n'.format(metrics.accuracy_score(y_test, y_pred_logreg_pca)))"
   ]
  },
  {
   "cell_type": "markdown",
   "metadata": {},
   "source": [
    "### Classification report"
   ]
  },
  {
   "cell_type": "code",
   "execution_count": null,
   "metadata": {},
   "outputs": [],
   "source": [
    "# Compute and print the classification report\n",
    "print (classification_report(y_test, y_pred_logreg_pca))"
   ]
  },
  {
   "cell_type": "markdown",
   "metadata": {},
   "source": [
    "### Confusion Matrix"
   ]
  },
  {
   "cell_type": "code",
   "execution_count": null,
   "metadata": {},
   "outputs": [],
   "source": [
    "#Plotting the confusion matrix with \"confusion_matrix_plot\" function\n",
    "confusion_matrix_plot(y_test, y_pred_logreg_pca, \n",
    "                      title = 'Logistic Regression with PCA-SMOTE', color=plt.cm.cool)"
   ]
  },
  {
   "cell_type": "markdown",
   "metadata": {},
   "source": [
    "## 4.2. Linear SVM with PCA-SMOTE"
   ]
  },
  {
   "cell_type": "code",
   "execution_count": null,
   "metadata": {},
   "outputs": [],
   "source": [
    "# Instantiate a SVC classifier;\n",
    "svm_pca=SVC(kernel='linear')\n",
    "# Fit to the training set\n",
    "svm_pca.fit(df_text1, df_target1)\n",
    "# Predict on the test data\n",
    "y_pred_svm_pca = svm_pca.predict(pca_X_test)\n",
    "\n",
    "# Compute and print the accuracy\n",
    "print('Accuarcy: {}\\n'.format(metrics.accuracy_score(y_test, y_pred_svm_pca)))"
   ]
  },
  {
   "cell_type": "markdown",
   "metadata": {},
   "source": [
    "### Classification report"
   ]
  },
  {
   "cell_type": "code",
   "execution_count": null,
   "metadata": {},
   "outputs": [],
   "source": [
    "# Compute and print the classification report\n",
    "print (classification_report(y_test, y_pred_svm_pca))"
   ]
  },
  {
   "cell_type": "markdown",
   "metadata": {},
   "source": [
    "### Confusion Matrix"
   ]
  },
  {
   "cell_type": "code",
   "execution_count": null,
   "metadata": {},
   "outputs": [],
   "source": [
    "#Plotting the confusion matrix with \"confusion_matrix_plot\" function\n",
    "confusion_matrix_plot(y_test, y_pred_svm_pca, \n",
    "                      title = 'Linear SVM with PCA-SMOTE', color=plt.cm.cool)"
   ]
  },
  {
   "cell_type": "markdown",
   "metadata": {},
   "source": [
    "## 4.3. Naive Bayes with PCA-SMOTE"
   ]
  },
  {
   "cell_type": "code",
   "execution_count": null,
   "metadata": {},
   "outputs": [],
   "source": [
    "# Instantiate a naive bayes classifier:\n",
    "nb_pca = MultinomialNB()\n",
    "# Fit to the training set\n",
    "nb_pca.fit(df_text1, df_target1)\n",
    "# Predict the labels of the test set: y_pred\n",
    "y_pred_nb_pca = nb_pca.predict(pca_X_test)\n",
    "\n",
    "# Compute and print the accuracy\n",
    "print('Accuarcy: {}\\n'.format(metrics.accuracy_score(y_test, y_pred_nb_pca)))"
   ]
  },
  {
   "cell_type": "markdown",
   "metadata": {},
   "source": [
    "### Classification report"
   ]
  },
  {
   "cell_type": "code",
   "execution_count": null,
   "metadata": {},
   "outputs": [],
   "source": [
    "# Compute and print the classification report\n",
    "print (classification_report(y_test, y_pred_nb_pca))"
   ]
  },
  {
   "cell_type": "markdown",
   "metadata": {},
   "source": [
    "### Confusion Matrix"
   ]
  },
  {
   "cell_type": "code",
   "execution_count": null,
   "metadata": {},
   "outputs": [],
   "source": [
    "#Plotting the confusion matrix with \"confusion_matrix_plot\" function\n",
    "confusion_matrix_plot(y_test, y_pred_nb_pca, \n",
    "                      title = 'Naive Bayes with PCA-SMOTE', color=plt.cm.cool)"
   ]
  },
  {
   "cell_type": "markdown",
   "metadata": {},
   "source": [
    "## 4.4. Kernel SVM with PCA-SMOTE "
   ]
  },
  {
   "cell_type": "code",
   "execution_count": null,
   "metadata": {},
   "outputs": [],
   "source": [
    "# Instantiate a naive bayes classifier:\n",
    "ksvm_pca = SVC(kernel='rbf')\n",
    "# Fit to the training set\n",
    "ksvm_pca.fit(df_text1, df_target1)\n",
    "# Predict the labels of the test set: y_pred\n",
    "y_pred_ksvm_pca = ksvm_pca.predict(pca_X_test)\n",
    "\n",
    "# Compute and print the accuracy\n",
    "print('Accuarcy: {}\\n'.format(metrics.accuracy_score(y_test, y_pred_ksvm_pca)))"
   ]
  },
  {
   "cell_type": "markdown",
   "metadata": {},
   "source": [
    "### Classification report"
   ]
  },
  {
   "cell_type": "code",
   "execution_count": null,
   "metadata": {},
   "outputs": [],
   "source": [
    "# Compute and print the classification report\n",
    "print (classification_report(y_test, y_pred_ksvm_pca))"
   ]
  },
  {
   "cell_type": "markdown",
   "metadata": {},
   "source": [
    "### Confusion Matrix"
   ]
  },
  {
   "cell_type": "code",
   "execution_count": null,
   "metadata": {},
   "outputs": [],
   "source": [
    "#Plotting the confusion matrix with \"confusion_matrix_plot\" function\n",
    "confusion_matrix_plot(y_test, y_pred_ksvm_pca, \n",
    "                      title = 'Kernel SVM with PCA-SMOTE', color=plt.cm.cool)"
   ]
  },
  {
   "cell_type": "markdown",
   "metadata": {},
   "source": [
    "## 4.5. KNN with PCA-SMOTE Combination"
   ]
  },
  {
   "cell_type": "code",
   "execution_count": null,
   "metadata": {},
   "outputs": [],
   "source": [
    "# Instantiate the classifier: \n",
    "knn_pca = KNeighborsClassifier(n_neighbors=5)\n",
    "# Fit it to the data\n",
    "knn_pca.fit(df_text1, df_target1)\n",
    "# Predict on the test data\n",
    "y_pred_knn_pca = knn_pca.predict(pca_X_test)\n",
    "\n",
    "# Compute and print the scores\n",
    "print('Accuarcy: {}\\n'.format(metrics.accuracy_score(y_test, y_pred_knn_pca)))"
   ]
  },
  {
   "cell_type": "markdown",
   "metadata": {},
   "source": [
    "### Classification report"
   ]
  },
  {
   "cell_type": "code",
   "execution_count": null,
   "metadata": {},
   "outputs": [],
   "source": [
    "# Compute and print the classification report\n",
    "print (classification_report(y_test, y_pred_knn_pca))"
   ]
  },
  {
   "cell_type": "markdown",
   "metadata": {},
   "source": [
    "### Confusion Matrix"
   ]
  },
  {
   "cell_type": "code",
   "execution_count": null,
   "metadata": {},
   "outputs": [],
   "source": [
    "#Plotting the confusion matrix with \"confusion_matrix_plot\" function\n",
    "confusion_matrix_plot(y_test, y_pred_knn_pca, \n",
    "                      title = 'KNN with PCA-SMOTE', color=plt.cm.cool)"
   ]
  },
  {
   "cell_type": "markdown",
   "metadata": {},
   "source": [
    "# 4.6. Random Forest with PCA-SMOTE"
   ]
  },
  {
   "cell_type": "code",
   "execution_count": null,
   "metadata": {},
   "outputs": [],
   "source": [
    "# Instantiate the classifier: \n",
    "rf_pca = RandomForestClassifier(n_estimators = 200, random_state=5)\n",
    "# Fit to the training set\n",
    "rf_pca.fit(df_text1, df_target1)\n",
    "# Predict the labels of the test set: y_pred\n",
    "y_pred_rf_pca = rf_pca.predict(pca_X_test)\n",
    "\n",
    "# Compute and print the accuracy\n",
    "print('Accuarcy: {}\\n'.format(metrics.accuracy_score(y_test, y_pred_rf_pca)))"
   ]
  },
  {
   "cell_type": "markdown",
   "metadata": {},
   "source": [
    "### Classification report"
   ]
  },
  {
   "cell_type": "code",
   "execution_count": null,
   "metadata": {},
   "outputs": [],
   "source": [
    "# Compute and print the classification report\n",
    "print (classification_report(y_test, y_pred_rf_pca))"
   ]
  },
  {
   "cell_type": "markdown",
   "metadata": {},
   "source": [
    "### Confusion Matrix"
   ]
  },
  {
   "cell_type": "code",
   "execution_count": null,
   "metadata": {},
   "outputs": [],
   "source": [
    "#Plotting the confusion matrix with \"confusion_matrix_plot\" function\n",
    "confusion_matrix_plot(y_test, y_pred_rf_pca, \n",
    "                      title = 'Random Forest with PCA-SMOTE', color=plt.cm.cool)"
   ]
  },
  {
   "cell_type": "markdown",
   "metadata": {},
   "source": [
    "## 4.7. GradientBoosting with PCA-SMOTE"
   ]
  },
  {
   "cell_type": "code",
   "execution_count": null,
   "metadata": {},
   "outputs": [],
   "source": [
    "# Instantiate the classifier; \n",
    "gb_pca = GradientBoostingClassifier()\n",
    "\n",
    "# Fit to the training set\n",
    "gb_pca.fit(df_text1, df_target1)\n",
    "\n",
    "# Predict on the test set;\n",
    "y_pred_gb_pca = gb_pca.predict(pca_X_test)\n",
    "\n",
    "# Compute and print the accuracy\n",
    "print('Accuarcy: {}\\n'.format(metrics.accuracy_score(y_test, y_pred_gb_pca)))"
   ]
  },
  {
   "cell_type": "markdown",
   "metadata": {},
   "source": [
    "### Classification report"
   ]
  },
  {
   "cell_type": "code",
   "execution_count": null,
   "metadata": {},
   "outputs": [],
   "source": [
    "# Compute and print the classification report\n",
    "print (classification_report(y_test, y_pred_gb_pca))"
   ]
  },
  {
   "cell_type": "markdown",
   "metadata": {},
   "source": [
    "### Confusion Matrix"
   ]
  },
  {
   "cell_type": "code",
   "execution_count": null,
   "metadata": {},
   "outputs": [],
   "source": [
    "#Plotting the confusion matrix with \"confusion_matrix_plot\" function\n",
    "confusion_matrix_plot(y_test, y_pred_gb_pca, \n",
    "                      title = 'GradientBoosting with PCA-SMOTE', color=plt.cm.cool)"
   ]
  },
  {
   "cell_type": "markdown",
   "metadata": {},
   "source": [
    "## 4.8. Comparision of PCA-SMOTE Application"
   ]
  },
  {
   "cell_type": "code",
   "execution_count": null,
   "metadata": {},
   "outputs": [],
   "source": [
    "#For loop for using \"comparison functions\" on \"HashingVectorizing\" results\n",
    "\n",
    "frames_pca = [] # empty list for collecting dataframes\n",
    "y_preds_pca = [y_pred_logreg_pca, y_pred_svm_pca, y_pred_ksvm_pca,\n",
    "           y_pred_nb_pca, y_pred_knn_pca, y_pred_rf_pca, y_pred_gb_pca] #list for y_preds\n",
    "labels_pca = ['LogReg', 'SVM', 'Kernel SVM', 'Naive Bayes', 'KNN', 'RForest', 'GBoost'] # list for labels\n",
    "vector_pca = 'PCA-SMOTE'\n",
    "for y_pred, label in zip(y_preds_pca, labels_pca):\n",
    "    df = comparison_matrix(y_test, y_pred, label, vector_pca)\n",
    "    frames_hv.append(df)\n",
    "\n",
    "# concatenating all dataframes\n",
    "df_pca = pd.concat(frames_pca)\n",
    "\n",
    "df_pca2 = df_pca.set_index(['vectorizer', 'model', 'accuracy', 'class'])"
   ]
  },
  {
   "cell_type": "markdown",
   "metadata": {},
   "source": [
    "### Comparision Table"
   ]
  },
  {
   "cell_type": "code",
   "execution_count": null,
   "metadata": {},
   "outputs": [],
   "source": [
    "df_pca2"
   ]
  },
  {
   "cell_type": "markdown",
   "metadata": {},
   "source": [
    "# 5. Truncated SVD - SMOTE Combination "
   ]
  },
  {
   "cell_type": "markdown",
   "metadata": {},
   "source": [
    "### First Step - Truncated SVD Application "
   ]
  },
  {
   "cell_type": "code",
   "execution_count": null,
   "metadata": {},
   "outputs": [],
   "source": [
    "from sklearn.decomposition import TruncatedSVD\n",
    "\n",
    "svd = TruncatedSVD(random_state=5)\n",
    "svd_X_train = svd.fit_transform(count_vect_train)\n",
    "svd_X_test = svd.fit_transform(count_vect_test)"
   ]
  },
  {
   "cell_type": "markdown",
   "metadata": {},
   "source": [
    "### Second Step - SMOTE Application"
   ]
  },
  {
   "cell_type": "code",
   "execution_count": null,
   "metadata": {},
   "outputs": [],
   "source": [
    "sm = SMOTE(random_state=5)\n",
    "df_text2, df_target2 = sm.fit_sample(svd_X_train, y_train)\n",
    "#print (count_vect_train.value_counts(), np.bincount(df_target))\n",
    "print (df_text2.shape)\n",
    "print (df_target2.shape)"
   ]
  },
  {
   "cell_type": "code",
   "execution_count": null,
   "metadata": {},
   "outputs": [],
   "source": [
    "Counter(df_ttarget)"
   ]
  },
  {
   "cell_type": "markdown",
   "metadata": {},
   "source": [
    "## 5.1. Logistic Regression with Truncated SVD-SMOTE"
   ]
  },
  {
   "cell_type": "code",
   "execution_count": null,
   "metadata": {},
   "outputs": [],
   "source": [
    "# Instantiate a logistic regression classifier;\n",
    "logreg_svd = LogisticRegression(multi_class='multinomial', solver='newton-cg',class_weight='balanced',\n",
    "                              C=0.1, n_jobs=-1, random_state=5)\n",
    "# Fit it to the training set;\n",
    "logreg_svd.fit(df_text2, df_target2)\n",
    "# Predict on the test set;\n",
    "y_pred_logreg_svd = logreg_svd.predict(svd_X_test)\n",
    "\n",
    "# Compute and print the accuracy\n",
    "print('Accuarcy: {}\\n'.format(metrics.accuracy_score(y_test, y_pred_logreg_svd)))"
   ]
  },
  {
   "cell_type": "markdown",
   "metadata": {},
   "source": [
    "### Classification report"
   ]
  },
  {
   "cell_type": "code",
   "execution_count": null,
   "metadata": {},
   "outputs": [],
   "source": [
    "# Compute and print the classification report\n",
    "print (classification_report(y_test, y_pred_logreg_svd))"
   ]
  },
  {
   "cell_type": "markdown",
   "metadata": {},
   "source": [
    "### Confusion Matrix"
   ]
  },
  {
   "cell_type": "code",
   "execution_count": null,
   "metadata": {},
   "outputs": [],
   "source": [
    "#Plotting the confusion matrix with \"confusion_matrix_plot\" function\n",
    "confusion_matrix_plot(y_test, y_pred_logreg_svd, \n",
    "                      title = 'Logistic Regression with Truncated SVD-SMOTE', color=plt.cm.spring)"
   ]
  },
  {
   "cell_type": "markdown",
   "metadata": {},
   "source": [
    "## 5.2. Linear SVM with Truncated SVD - SMOTE"
   ]
  },
  {
   "cell_type": "code",
   "execution_count": null,
   "metadata": {},
   "outputs": [],
   "source": [
    "# Instantiate a SVC classifier;\n",
    "svm_svd = SVC(kernel='linear')\n",
    "# Fit to the training set\n",
    "svm_svd.fit(df_text2, df_target2)\n",
    "# Predict on the test data\n",
    "y_pred_svm_svd = svm_svd.predict(svd_X_test)\n",
    "\n",
    "# Compute and print the accuracy\n",
    "print('Accuarcy: {}\\n'.format(metrics.accuracy_score(y_test, y_pred_svm_svd)))"
   ]
  },
  {
   "cell_type": "markdown",
   "metadata": {},
   "source": [
    "### Classification report"
   ]
  },
  {
   "cell_type": "code",
   "execution_count": null,
   "metadata": {},
   "outputs": [],
   "source": [
    "# Compute and print the classification report\n",
    "print (classification_report(y_test, y_pred_svm_svd))"
   ]
  },
  {
   "cell_type": "markdown",
   "metadata": {},
   "source": [
    "### Confusion Matrix"
   ]
  },
  {
   "cell_type": "code",
   "execution_count": null,
   "metadata": {},
   "outputs": [],
   "source": [
    "#Plotting the confusion matrix with \"confusion_matrix_plot\" function\n",
    "confusion_matrix_plot(y_test, y_pred_svm_svd, \n",
    "                      title = 'Linear SVM with Truncated SVD-SMOTE', color=plt.cm.spring)"
   ]
  },
  {
   "cell_type": "markdown",
   "metadata": {},
   "source": [
    "## 5.3. Naive Bayes with Truncated SVD - SMOTE"
   ]
  },
  {
   "cell_type": "code",
   "execution_count": null,
   "metadata": {},
   "outputs": [],
   "source": [
    "# Instantiate a naive bayes classifier:\n",
    "nb_svd = MultinomialNB()\n",
    "# Fit to the training set\n",
    "nb_svd.fit(df_text2, df_target2)\n",
    "# Predict the labels of the test set: y_pred\n",
    "y_pred_nb_svd = nb_svd.predict(svd_X_test)\n",
    "\n",
    "# Compute and print the accuracy\n",
    "print('Accuarcy: {}\\n'.format(metrics.accuracy_score(y_test, y_pred_nb_svd)))"
   ]
  },
  {
   "cell_type": "markdown",
   "metadata": {},
   "source": [
    "### Classification report"
   ]
  },
  {
   "cell_type": "code",
   "execution_count": null,
   "metadata": {},
   "outputs": [],
   "source": [
    "# Compute and print the classification report\n",
    "print (classification_report(y_test, y_pred_nb_svd))"
   ]
  },
  {
   "cell_type": "markdown",
   "metadata": {},
   "source": [
    "### Confusion Matrix"
   ]
  },
  {
   "cell_type": "code",
   "execution_count": null,
   "metadata": {},
   "outputs": [],
   "source": [
    "#Plotting the confusion matrix with \"confusion_matrix_plot\" function\n",
    "confusion_matrix_plot(y_test, y_pred_nb_svd, \n",
    "                      title = 'Naive Bayes with Truncated SVD-SMOTE', color=plt.cm.spring)"
   ]
  },
  {
   "cell_type": "markdown",
   "metadata": {},
   "source": [
    "## 5.4. Kernel SVM with Truncated SVD - SMOTE"
   ]
  },
  {
   "cell_type": "code",
   "execution_count": null,
   "metadata": {},
   "outputs": [],
   "source": [
    "# Instantiate a naive bayes classifier:\n",
    "ksvm_svd = SVC(kernel='rbf')\n",
    "# Fit to the training set\n",
    "ksvm_svd.fit(df_text2, df_target2)\n",
    "# Predict the labels of the test set: y_pred\n",
    "y_pred_ksvm_svd = ksvm_svd.predict(svd_X_test)\n",
    "\n",
    "# Compute and print the accuracy\n",
    "print('Accuarcy: {}\\n'.format(metrics.accuracy_score(y_test, y_pred_ksvm_svd)))"
   ]
  },
  {
   "cell_type": "markdown",
   "metadata": {},
   "source": [
    "### Classification report"
   ]
  },
  {
   "cell_type": "code",
   "execution_count": null,
   "metadata": {},
   "outputs": [],
   "source": [
    "# Compute and print the classification report\n",
    "print (classification_report(y_test, y_pred_ksvm_svd))"
   ]
  },
  {
   "cell_type": "markdown",
   "metadata": {},
   "source": [
    "### Confusion Matrix"
   ]
  },
  {
   "cell_type": "code",
   "execution_count": null,
   "metadata": {},
   "outputs": [],
   "source": [
    "#Plotting the confusion matrix with \"confusion_matrix_plot\" function\n",
    "confusion_matrix_plot(y_test, y_pred_ksvm_svd, \n",
    "                      title = 'Kernel SVM with Truncated SVD-SMOTE', color=plt.cm.spring)"
   ]
  },
  {
   "cell_type": "markdown",
   "metadata": {},
   "source": [
    "## 5.5. KNN with Truncated SVD - SMOTE"
   ]
  },
  {
   "cell_type": "code",
   "execution_count": null,
   "metadata": {},
   "outputs": [],
   "source": [
    "# Instantiate the classifier: \n",
    "knn_svd = KNeighborsClassifier(n_neighbors=5)\n",
    "# Fit it to the data\n",
    "knn_svd.fit(df_text2, df_target2)\n",
    "# Predict on the test data\n",
    "y_pred_knn_svd = knn_svd.predict(svd_X_test)\n",
    "\n",
    "# Compute and print the scores\n",
    "print('Accuarcy: {}\\n'.format(metrics.accuracy_score(y_test, y_pred_knn_svd)))"
   ]
  },
  {
   "cell_type": "markdown",
   "metadata": {},
   "source": [
    "### Classification report"
   ]
  },
  {
   "cell_type": "code",
   "execution_count": null,
   "metadata": {},
   "outputs": [],
   "source": [
    "# Compute and print the classification report\n",
    "print (classification_report(y_test, y_pred_knn_svd))"
   ]
  },
  {
   "cell_type": "markdown",
   "metadata": {},
   "source": [
    "### Confusion Matrix"
   ]
  },
  {
   "cell_type": "code",
   "execution_count": null,
   "metadata": {},
   "outputs": [],
   "source": [
    "#Plotting the confusion matrix with \"confusion_matrix_plot\" function\n",
    "confusion_matrix_plot(y_test, y_pred_knn_svd, \n",
    "                      title = 'KNN with Truncated SVD-SMOTE', color=plt.cm.spring)"
   ]
  },
  {
   "cell_type": "markdown",
   "metadata": {},
   "source": [
    "## 5.6. Random Forest with Truncated SVD - SMOTE"
   ]
  },
  {
   "cell_type": "code",
   "execution_count": null,
   "metadata": {},
   "outputs": [],
   "source": [
    "# Instantiate the classifier: \n",
    "rf_svd = RandomForestClassifier(n_estimators = 200, random_state=5)\n",
    "# Fit to the training set\n",
    "rf_svd.fit(df_text2, df_target2)\n",
    "# Predict the labels of the test set: y_pred\n",
    "y_pred_rf_svd = rf_svd.predict(svd_X_test)\n",
    "\n",
    "# Compute and print the accuracy\n",
    "print('Accuarcy: {}\\n'.format(metrics.accuracy_score(y_test, y_pred_rf_svd)))"
   ]
  },
  {
   "cell_type": "markdown",
   "metadata": {},
   "source": [
    "### Classification report"
   ]
  },
  {
   "cell_type": "code",
   "execution_count": null,
   "metadata": {},
   "outputs": [],
   "source": [
    "# Compute and print the classification report\n",
    "print (classification_report(y_test, y_pred_rf_svd))"
   ]
  },
  {
   "cell_type": "markdown",
   "metadata": {},
   "source": [
    "### Confusion Matrix"
   ]
  },
  {
   "cell_type": "code",
   "execution_count": null,
   "metadata": {},
   "outputs": [],
   "source": [
    "#Plotting the confusion matrix with \"confusion_matrix_plot\" function\n",
    "confusion_matrix_plot(y_test, y_pred_rf_svd, \n",
    "                      title = 'Random Forest with Truncated SVD-SMOTE', color=plt.cm.spring)"
   ]
  },
  {
   "cell_type": "markdown",
   "metadata": {},
   "source": [
    "## 5.7. GradientBoosting with Truncated SVD - SMOTE"
   ]
  },
  {
   "cell_type": "code",
   "execution_count": null,
   "metadata": {},
   "outputs": [],
   "source": [
    "# Instantiate the classifier; \n",
    "gb_svd = GradientBoostingClassifier()\n",
    "\n",
    "# Fit to the training set\n",
    "gb_svd.fit(df_text2, df_target2)\n",
    "\n",
    "# Predict on the test set;\n",
    "y_pred_gb_svd = gb_svd.predict(svd_X_test)\n",
    "\n",
    "# Compute and print the accuracy\n",
    "print('Accuarcy: {}\\n'.format(metrics.accuracy_score(y_test, y_pred_gb_svd)))"
   ]
  },
  {
   "cell_type": "markdown",
   "metadata": {},
   "source": [
    "### Classification report"
   ]
  },
  {
   "cell_type": "code",
   "execution_count": null,
   "metadata": {},
   "outputs": [],
   "source": [
    "# Compute and print the classification report\n",
    "print (classification_report(y_test, y_pred_gb_svd))"
   ]
  },
  {
   "cell_type": "markdown",
   "metadata": {},
   "source": [
    "### Confusion Matrix"
   ]
  },
  {
   "cell_type": "code",
   "execution_count": null,
   "metadata": {},
   "outputs": [],
   "source": [
    "#Plotting the confusion matrix with \"confusion_matrix_plot\" function\n",
    "confusion_matrix_plot(y_test, y_pred_gb_svd, \n",
    "                      title = 'GradientBoosting with Truncated SVD - SMOTE', color=plt.cm.spring)"
   ]
  },
  {
   "cell_type": "markdown",
   "metadata": {},
   "source": [
    "## 4.8. Comparision of Truncated SVD - SMOTE Combination"
   ]
  },
  {
   "cell_type": "code",
   "execution_count": null,
   "metadata": {},
   "outputs": [],
   "source": [
    "#For loop for using \"comparison functions\" on \"HashingVectorizing\" results\n",
    "\n",
    "frames_svd = [] # empty list for collecting dataframes\n",
    "y_preds_svd = [y_pred_logreg_svd, y_pred_svm_svd, y_pred_ksvm_svd,\n",
    "           y_pred_nb_svd, y_pred_knn_svd, y_pred_rf_svd, y_pred_gb_svd] #list for y_preds\n",
    "labels_svd = ['LogReg', 'SVM', 'Kernel SVM', 'Naive Bayes', 'KNN', 'RForest', 'GBoost'] # list for labels\n",
    "vector_svd = 'SVD-SMOTE'\n",
    "for y_pred, label in zip(y_preds_svd, labels_svd):\n",
    "    df = comparison_matrix(y_test, y_pred, label, vector_svd)\n",
    "    frames_svd.append(df)\n",
    "\n",
    "# concatenating all dataframes\n",
    "df_svd = pd.concat(frames_svd)\n",
    "\n",
    "df_svd2 = df_svd.set_index(['vectorizer', 'model', 'accuracy', 'class'])"
   ]
  },
  {
   "cell_type": "markdown",
   "metadata": {},
   "source": [
    "### Comparision Table"
   ]
  },
  {
   "cell_type": "code",
   "execution_count": null,
   "metadata": {},
   "outputs": [],
   "source": [
    "df_svd2"
   ]
  },
  {
   "cell_type": "markdown",
   "metadata": {},
   "source": [
    "# All Together"
   ]
  },
  {
   "cell_type": "code",
   "execution_count": null,
   "metadata": {},
   "outputs": [],
   "source": [
    "frames_all = frames_cv + frames_tv + frames_hv + frames_pca + frames_svd\n",
    "df_all = pd.concat(frames_all)\n",
    "df_all2 = df_all.set_index(['vectorizer', 'model', 'accuracy', 'class'])\n",
    "print('\\nComparision Table of All BOW Vectorizers\\n\\n')"
   ]
  },
  {
   "cell_type": "markdown",
   "metadata": {},
   "source": [
    "### Comparision Table"
   ]
  },
  {
   "cell_type": "code",
   "execution_count": null,
   "metadata": {},
   "outputs": [],
   "source": [
    "df_all2"
   ]
  }
 ],
 "metadata": {
  "kernelspec": {
   "display_name": "Python 3",
   "language": "python",
   "name": "python3"
  },
  "language_info": {
   "codemirror_mode": {
    "name": "ipython",
    "version": 3
   },
   "file_extension": ".py",
   "mimetype": "text/x-python",
   "name": "python",
   "nbconvert_exporter": "python",
   "pygments_lexer": "ipython3",
   "version": "3.6.5"
  }
 },
 "nbformat": 4,
 "nbformat_minor": 2
}
