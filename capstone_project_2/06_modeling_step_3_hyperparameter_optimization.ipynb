{
 "cells": [
  {
   "cell_type": "code",
   "execution_count": 1,
   "metadata": {},
   "outputs": [],
   "source": [
    "import itertools\n",
    "## Regular Expression\n",
    "import re\n",
    "\n",
    "## Arrays\n",
    "import numpy as np\n",
    "\n",
    "## DataFrames\n",
    "import pandas as pd\n",
    "\n",
    "## Visualizations\n",
    "import matplotlib.pyplot as plt\n",
    "from matplotlib.colors import ListedColormap\n",
    "import seaborn as sns\n",
    "import matplotlib.colors as colors\n",
    "%matplotlib inline\n",
    "\n",
    "## Modeling\n",
    "from sklearn.model_selection import cross_validate\n",
    "from sklearn.model_selection import train_test_split\n",
    "from sklearn.model_selection import StratifiedKFold\n",
    "from sklearn.model_selection import GridSearchCV\n",
    "from sklearn.model_selection import cross_val_predict\n",
    "from sklearn.model_selection import cross_val_score\n",
    "from sklearn.linear_model import LogisticRegression\n",
    "from sklearn.model_selection import learning_curve\n",
    "from sklearn.ensemble import ExtraTreesClassifier\n",
    "from sklearn.decomposition import TruncatedSVD\n",
    "from sklearn.feature_extraction.text import TfidfVectorizer, CountVectorizer\n",
    "from sklearn.pipeline import Pipeline\n",
    "from sklearn.naive_bayes import MultinomialNB\n",
    "from sklearn.ensemble import GradientBoostingClassifier\n",
    "from sklearn.neighbors import KNeighborsClassifier\n",
    "from sklearn.naive_bayes import GaussianNB \n",
    "from sklearn.svm import SVC\n",
    "from sklearn import metrics\n",
    "from sklearn.metrics import classification_report\n",
    "from sklearn.metrics import confusion_matrix\n",
    "from sklearn.ensemble import RandomForestClassifier\n",
    "from sklearn.svm import LinearSVC\n",
    "from sklearn.ensemble import AdaBoostClassifier\n",
    "from sklearn.tree import DecisionTreeClassifier\n",
    "from sklearn.metrics import f1_score\n",
    "from sklearn.metrics import recall_score\n",
    "\n",
    "import contractions\n",
    "import spacy\n",
    "import nltk\n",
    "from nltk.corpus import stopwords\n",
    "from nltk import word_tokenize\n",
    "from nltk.stem import PorterStemmer, WordNetLemmatizer\n",
    "\n",
    "## Warnings\n",
    "import warnings\n",
    "from scipy import stats\n",
    "warnings.filterwarnings('ignore')"
   ]
  },
  {
   "cell_type": "markdown",
   "metadata": {},
   "source": [
    "# Reading the data and Preparation"
   ]
  },
  {
   "cell_type": "code",
   "execution_count": 2,
   "metadata": {},
   "outputs": [
    {
     "name": "stdout",
     "output_type": "stream",
     "text": [
      "1    10421\n",
      "0     2851\n",
      "Name: rating_class, dtype: int64\n"
     ]
    }
   ],
   "source": [
    "#reading the data\n",
    "df=pd.read_csv('data_capstone_2/nlp_reviews_cleaned.csv', delimiter=',')\n",
    "\n",
    "#creating the classes\n",
    "df['rating_class'] = df['rating'].apply(lambda x: 0 if x <= 3 else 1)\n",
    "print(df.rating_class.value_counts())\n",
    "\n",
    "#train data set reduced due to capacity of computing\n",
    "df_train = df[0:10000]\n",
    "\n",
    "#splitting data set into train and test sets\n",
    "X = df_train['clean_text']\n",
    "y = df_train['rating_class']\n",
    "X_train, X_test, y_train, y_test = train_test_split(X, y, test_size=0.25, random_state=5)"
   ]
  },
  {
   "cell_type": "markdown",
   "metadata": {},
   "source": [
    "## Inital Scores with best Vectorizer (CountVectorizer) and best n-gram (unigram) "
   ]
  },
  {
   "cell_type": "code",
   "execution_count": 3,
   "metadata": {},
   "outputs": [],
   "source": [
    "# Create the word vector with CountVectorizer\n",
    "\n",
    "count_vect1 = CountVectorizer(ngram_range=(1,1))\n",
    "count_vect_train1 = count_vect1.fit_transform(X_train)\n",
    "count_vect_train1 = count_vect_train1.toarray()\n",
    "count_vect_test1 = count_vect1.transform(X_test)\n",
    "count_vect_test1 = count_vect_test1.toarray()"
   ]
  },
  {
   "cell_type": "code",
   "execution_count": 4,
   "metadata": {
    "scrolled": true
   },
   "outputs": [
    {
     "name": "stdout",
     "output_type": "stream",
     "text": [
      "\n",
      "********** [Logistic Regression] **********\n",
      "\n",
      "1. Accuarcy: 0.824\n",
      "\n",
      "2. The F-1 score of the model 0.8162350712701556\n",
      "\n",
      "3. The recall score of the model 0.824\n",
      "\n",
      "4. Classification Report:\n",
      "              precision    recall  f1-score   support\n",
      "\n",
      "           0       0.64      0.51      0.57       567\n",
      "           1       0.86      0.92      0.89      1933\n",
      "\n",
      "   micro avg       0.82      0.82      0.82      2500\n",
      "   macro avg       0.75      0.71      0.73      2500\n",
      "weighted avg       0.81      0.82      0.82      2500\n",
      "\n",
      "5. Confusion matrix:\n",
      "[[ 287  280]\n",
      " [ 160 1773]]\n",
      "\n",
      "\n",
      "\n"
     ]
    }
   ],
   "source": [
    "# Get the scores with the best vector (according to step1 and step2)\n",
    "\n",
    "clf1 = LogisticRegression(random_state=1)\n",
    "\n",
    "labels = ['Logistic Regression']\n",
    "for clf, label in zip([clf1], labels):\n",
    "    clf.fit(count_vect_train1, y_train)\n",
    "    y_pred_clf = clf.predict(count_vect_test1)\n",
    "    cm = confusion_matrix(y_test, y_pred_clf)\n",
    "    \n",
    "    print('\\n********** [{}] **********\\n'.format(label))\n",
    "    print('1. Accuarcy: {}\\n'.format(metrics.accuracy_score(y_test, y_pred_clf)))\n",
    "    print('2. The F-1 score of the model {}\\n'.format(f1_score(y_test, y_pred_clf, average='weighted')))\n",
    "    print('3. The recall score of the model {}\\n'.format(recall_score(y_test, y_pred_clf, average='weighted')))\n",
    "    print('4. Classification Report:\\n{}\\n5. Confusion matrix:\\n{}\\n\\n\\n'.format(\n",
    "        classification_report(y_test, y_pred_clf), cm))"
   ]
  },
  {
   "cell_type": "code",
   "execution_count": 45,
   "metadata": {},
   "outputs": [
    {
     "name": "stdout",
     "output_type": "stream",
     "text": [
      "\n",
      "********** [Linear SVM] **********\n",
      "\n",
      "1. Accuarcy: 0.8084\n",
      "\n",
      "2. The F-1 score of the model 0.80554359794688\n",
      "\n",
      "3. The recall score of the model 0.8084\n",
      "\n",
      "4. Classification Report:\n",
      "              precision    recall  f1-score   support\n",
      "\n",
      "           0       0.58      0.54      0.56       567\n",
      "           1       0.87      0.89      0.88      1933\n",
      "\n",
      "   micro avg       0.81      0.81      0.81      2500\n",
      "   macro avg       0.73      0.71      0.72      2500\n",
      "weighted avg       0.80      0.81      0.81      2500\n",
      "\n",
      "5. Confusion matrix:\n",
      "[[ 305  262]\n",
      " [ 217 1716]]\n",
      "\n",
      "\n",
      "\n"
     ]
    }
   ],
   "source": [
    "clf2 = SVC(kernel = 'linear')\n",
    "\n",
    "labels = ['Linear SVM']\n",
    "for clf, label in zip([clf2], labels):\n",
    "    clf.fit(count_vect_train1, y_train)\n",
    "    y_pred_clf2 = clf.predict(count_vect_test1)\n",
    "    cm = confusion_matrix(y_test, y_pred_clf2)\n",
    "    \n",
    "    print('\\n********** [{}] **********\\n'.format(label))\n",
    "    print('1. Accuarcy: {}\\n'.format(metrics.accuracy_score(y_test, y_pred_clf2)))\n",
    "    print('2. The F-1 score of the model {}\\n'.format(f1_score(y_test, y_pred_clf2, average='weighted')))\n",
    "    print('3. The recall score of the model {}\\n'.format(recall_score(y_test, y_pred_clf2, average='weighted')))\n",
    "    print('4. Classification Report:\\n{}\\n5. Confusion matrix:\\n{}\\n\\n\\n'.format(\n",
    "        classification_report(y_test, y_pred_clf2), cm))"
   ]
  },
  {
   "cell_type": "code",
   "execution_count": 118,
   "metadata": {
    "scrolled": true
   },
   "outputs": [
    {
     "name": "stdout",
     "output_type": "stream",
     "text": [
      "  vectorizer   model  accuracy    class  precision    recall  f1-score  \\\n",
      "0  CountVect  LogReg    0.8240      bad   0.642058  0.506173  0.566075   \n",
      "1  CountVect  LogReg    0.8240  not bad   0.863614  0.917227  0.889614   \n",
      "0  CountVect     SVM    0.8084      bad   0.584291  0.537919  0.560147   \n",
      "1  CountVect     SVM    0.8084  not bad   0.867543  0.887739  0.877525   \n",
      "\n",
      "   support  \n",
      "0    567.0  \n",
      "1   1933.0  \n",
      "0    567.0  \n",
      "1   1933.0  \n"
     ]
    }
   ],
   "source": [
    "from sklearn.metrics import classification_report\n",
    "from  sklearn.metrics import precision_recall_fscore_support\n",
    "\n",
    "def pandas_classification_report(y_true, y_pred):\n",
    "    metrics_summary = precision_recall_fscore_support(\n",
    "            y_true=y_true, \n",
    "            y_pred=y_pred)\n",
    "\n",
    "    avg = list(precision_recall_fscore_support(\n",
    "            y_true=y_true, \n",
    "            y_pred=y_pred,\n",
    "            average='weighted'))\n",
    "\n",
    "    metrics_sum_index = ['precision', 'recall', 'f1-score', 'support']\n",
    "    class_report_df = pd.DataFrame(\n",
    "        list(metrics_summary),\n",
    "        index=metrics_sum_index)\n",
    "\n",
    "    support = class_report_df.loc['support']\n",
    "    total = support.sum() \n",
    "    avg[-1] = total\n",
    "\n",
    "    class_report_df['avg / total'] = avg\n",
    "\n",
    "    return class_report_df.T\n",
    "\n",
    "\n",
    "def comparison_matrix(y_test, y_pred, label, vector):\n",
    "    df = pandas_classification_report(y_test, y_pred)\n",
    "    df = df[:2]\n",
    "    df['class']=['bad', 'not bad']\n",
    "    df['accuracy']= metrics.accuracy_score(y_test, y_pred)\n",
    "    df['model'] = label\n",
    "    df['vectorizer'] = vector\n",
    "    df = df[['vectorizer', 'model', 'accuracy', 'class', 'precision', 'recall', 'f1-score', 'support']]\n",
    "    return df\n",
    "\n",
    "frames = []\n",
    "y_preds = [y_pred_clf, y_pred_clf2]\n",
    "labels = ['LogReg', 'SVM']\n",
    "vector = 'CountVect'\n",
    "for y_pred, label in zip(y_preds, labels):\n",
    "    df = comparison_matrix(y_test, y_pred, label, vector)\n",
    "    frames.append(df)\n",
    "\n",
    "result = pd.concat(frames)\n",
    "\n",
    "result1 = result.set_index(['vectorizer', 'model', 'accuracy', 'class'])\n",
    "print(result1)"
   ]
  },
  {
   "cell_type": "code",
   "execution_count": 120,
   "metadata": {},
   "outputs": [
    {
     "name": "stdout",
     "output_type": "stream",
     "text": [
      "                                    precision    recall  f1-score  support\n",
      "vectorizer model  accuracy class                                          \n",
      "CountVect  LogReg 0.8240   bad       0.642058  0.506173  0.566075    567.0\n",
      "                           not bad   0.863614  0.917227  0.889614   1933.0\n",
      "           SVM    0.8084   bad       0.584291  0.537919  0.560147    567.0\n",
      "                           not bad   0.867543  0.887739  0.877525   1933.0\n"
     ]
    }
   ],
   "source": [
    "print(result.set_index(['vectorizer', 'model', 'accuracy', 'class']))"
   ]
  },
  {
   "cell_type": "code",
   "execution_count": 124,
   "metadata": {},
   "outputs": [
    {
     "name": "stdout",
     "output_type": "stream",
     "text": [
      "                                    precision    recall  f1-score  support\n",
      "vectorizer model  accuracy class                                          \n",
      "CountVect  LogReg 0.8240   bad       0.642058  0.506173  0.566075    567.0\n",
      "                           not bad   0.863614  0.917227  0.889614   1933.0\n",
      "           SVM    0.8084   bad       0.584291  0.537919  0.560147    567.0\n",
      "                           not bad   0.867543  0.887739  0.877525   1933.0\n"
     ]
    }
   ],
   "source": [
    "result1 = result.set_index(['vectorizer', 'model', 'accuracy', 'class'])\n",
    "print(result1)"
   ]
  },
  {
   "cell_type": "code",
   "execution_count": null,
   "metadata": {},
   "outputs": [],
   "source": [
    "df_class_report_logreg_cv = df_class_report_logreg_cv[['class', 'precision', 'recall', 'f1-score', 'support']]"
   ]
  },
  {
   "cell_type": "code",
   "execution_count": 46,
   "metadata": {
    "scrolled": true
   },
   "outputs": [
    {
     "name": "stdout",
     "output_type": "stream",
     "text": [
      "   accuracy    class  precision    recall  f1-score  support\n",
      "0     0.824      Bad   0.642058  0.506173  0.566075    567.0\n",
      "1     0.824  Not bad   0.863614  0.917227  0.889614   1933.0\n"
     ]
    }
   ],
   "source": [
    "df_class_report_logreg_cv = pandas_classification_report(y_true=y_test, y_pred=y_pred_clf)\n",
    "df_class_report_logreg_cv = df_class_report_logreg_cv[:2]\n",
    "df_class_report_logreg_cv['class']=['Bad', 'Not bad']\n",
    "df_class_report_logreg_cv['accuracy']= metrics.accuracy_score(y_test, y_pred_clf)\n",
    "df_class_report_logreg_cv = df_class_report_logreg_cv[\n",
    "    ['accuracy', 'class', 'precision', 'recall', 'f1-score', 'support']]\n",
    "print(df_class_report_logreg_cv)"
   ]
  },
  {
   "cell_type": "code",
   "execution_count": 76,
   "metadata": {},
   "outputs": [],
   "source": []
  },
  {
   "cell_type": "code",
   "execution_count": 114,
   "metadata": {},
   "outputs": [
    {
     "name": "stdout",
     "output_type": "stream",
     "text": [
      "  vectorizer   model  accuracy    class  precision    recall  f1-score  \\\n",
      "0  CountVect  LogReg    0.8240      Bad   0.642058  0.506173  0.566075   \n",
      "1  CountVect  LogReg    0.8240  Not bad   0.863614  0.917227  0.889614   \n",
      "0  CountVect     SVM    0.8084      Bad   0.584291  0.537919  0.560147   \n",
      "1  CountVect     SVM    0.8084  Not bad   0.867543  0.887739  0.877525   \n",
      "\n",
      "   support  \n",
      "0    567.0  \n",
      "1   1933.0  \n",
      "0    567.0  \n",
      "1   1933.0  \n"
     ]
    },
    {
     "data": {
      "text/plain": [
       "\"for item in models:\\n    df = \\ndf_svm = comparison_matrix(y_test, y_pred_clf2, 'SVM', 'CountVect')\\ndf_log = comparison_matrix(y_test, y_pred_clf, 'LogReg', 'CountVect')\""
      ]
     },
     "execution_count": 114,
     "metadata": {},
     "output_type": "execute_result"
    }
   ],
   "source": [
    "frames = []\n",
    "y_preds = [y_pred_clf, y_pred_clf2]\n",
    "labels = ['LogReg', 'SVM']\n",
    "vector = 'CountVect'\n",
    "for y_pred, label in zip(y_preds, labels):\n",
    "    df = comparison_matrix(y_test, y_pred, label, vector)\n",
    "    frames.append(df)\n",
    "\n",
    "result = pd.concat(frames)\n",
    "print(result)\n",
    "'''for item in models:\n",
    "    df = \n",
    "df_svm = comparison_matrix(y_test, y_pred_clf2, 'SVM', 'CountVect')\n",
    "df_log = comparison_matrix(y_test, y_pred_clf, 'LogReg', 'CountVect')'''"
   ]
  },
  {
   "cell_type": "code",
   "execution_count": 78,
   "metadata": {},
   "outputs": [],
   "source": [
    "frames = [df_svm, df_log]\n",
    "result = pd.concat(frames)"
   ]
  },
  {
   "cell_type": "code",
   "execution_count": 85,
   "metadata": {
    "scrolled": true
   },
   "outputs": [
    {
     "name": "stdout",
     "output_type": "stream",
     "text": [
      "                   accuracy    class  precision    recall  f1-score  support\n",
      "vectorizer model                                                            \n",
      "CountVect  SVM       0.8084      Bad   0.584291  0.537919  0.560147    567.0\n",
      "           SVM       0.8084  Not bad   0.867543  0.887739  0.877525   1933.0\n",
      "           LogReg    0.8240      Bad   0.642058  0.506173  0.566075    567.0\n",
      "           LogReg    0.8240  Not bad   0.863614  0.917227  0.889614   1933.0\n"
     ]
    }
   ],
   "source": [
    "'''\n",
    "print(result.set_index(['vectorizer', 'model', 'accuracy']))\n",
    "df10 = result.groupby(['vectorizer', 'class'])['f1-score'].max()\n",
    "'''"
   ]
  },
  {
   "cell_type": "code",
   "execution_count": null,
   "metadata": {},
   "outputs": [],
   "source": [
    "import numpy as np\n",
    "import matplotlib.pyplot as plt\n",
    "from itertools import cycle\n",
    "\n",
    "from sklearn import svm, datasets\n",
    "from sklearn.metrics import roc_curve, auc\n",
    "from sklearn.model_selection import train_test_split\n",
    "from sklearn.preprocessing import label_binarize\n",
    "from sklearn.multiclass import OneVsRestClassifier\n",
    "from scipy import interp\n",
    "\n",
    "#X = iris.data\n",
    "#y = iris.target\n",
    "\n",
    "# Binarize the output\n",
    "y = label_binarize(y_test, classes=[0, 1])\n",
    "n_classes = y.shape[1]\n",
    "\n",
    "# Add noisy features to make the problem harder\n",
    "random_state = np.random.RandomState(0)\n",
    "n_samples, n_features = X.shape\n",
    "X = np.c_[X, random_state.randn(n_samples, 200 * n_features)]\n",
    "\n",
    "# shuffle and split training and test sets\n",
    "X_train, X_test, y_train, y_test = train_test_split(X, y, test_size=.5,\n",
    "                                                    random_state=0)\n",
    "\n",
    "# Learn to predict each class against the other\n",
    "classifier = OneVsRestClassifier(svm.SVC(kernel='linear', probability=True,\n",
    "                                 random_state=random_state))\n",
    "y_score = classifier.fit(X_train, y_train).decision_function(X_test)\n",
    "\n",
    "# Compute ROC curve and ROC area for each class\n",
    "fpr = dict()\n",
    "tpr = dict()\n",
    "roc_auc = dict()\n",
    "for i in range(n_classes):\n",
    "    fpr[i], tpr[i], _ = roc_curve(y_test[:, i], y_score[:, i])\n",
    "    roc_auc[i] = auc(fpr[i], tpr[i])\n",
    "\n",
    "# Compute micro-average ROC curve and ROC area\n",
    "fpr[\"micro\"], tpr[\"micro\"], _ = roc_curve(y_test.ravel(), y_score.ravel())\n",
    "roc_auc[\"micro\"] = auc(fpr[\"micro\"], tpr[\"micro\"])"
   ]
  },
  {
   "cell_type": "code",
   "execution_count": 8,
   "metadata": {},
   "outputs": [],
   "source": [
    "from matplotlib import pyplot\n",
    "from sklearn.metrics import auc\n",
    "from sklearn.metrics import roc_curve\n",
    "from sklearn.metrics import roc_auc_score"
   ]
  },
  {
   "cell_type": "code",
   "execution_count": 9,
   "metadata": {
    "scrolled": false
   },
   "outputs": [
    {
     "data": {
      "image/png": "[encoded data removed]",
      "text/plain": [
       "<Figure size 432x288 with 1 Axes>"
      ]
     },
     "metadata": {},
     "output_type": "display_data"
    },
    {
     "name": "stdout",
     "output_type": "stream",
     "text": [
      "AUC: 0.822\n"
     ]
    }
   ],
   "source": [
    "\n",
    "def roc_cur(X_test, y_test):\n",
    "    probs = clf.predict_proba(X_test)\n",
    "    probs = probs[:, 1]\n",
    "    fpr, tpr, thresholds = roc_curve(y_test, probs)\n",
    "    pyplot.plot([0, 1], [0, 1], linestyle='--')\n",
    "    pyplot.plot(fpr, tpr, marker='.')\n",
    "    pyplot.showauc_score = roc_auc_score(y_test, probs)\n",
    "    print('AUC: %.3f' % auc_score)"
   ]
  },
  {
   "cell_type": "code",
   "execution_count": 12,
   "metadata": {},
   "outputs": [
    {
     "ename": "ValueError",
     "evalue": "Can only tuple-index with a MultiIndex",
     "output_type": "error",
     "traceback": [
      "\u001b[0;31m---------------------------------------------------------------------------\u001b[0m",
      "\u001b[0;31mValueError\u001b[0m                                Traceback (most recent call last)",
      "\u001b[0;32m<ipython-input-12-157c0b773a62>\u001b[0m in \u001b[0;36m<module>\u001b[0;34m()\u001b[0m\n\u001b[1;32m      4\u001b[0m \u001b[0mroc_auc\u001b[0m \u001b[0;34m=\u001b[0m \u001b[0mdict\u001b[0m\u001b[0;34m(\u001b[0m\u001b[0;34m)\u001b[0m\u001b[0;34m\u001b[0m\u001b[0m\n\u001b[1;32m      5\u001b[0m \u001b[0;32mfor\u001b[0m \u001b[0mi\u001b[0m \u001b[0;32min\u001b[0m \u001b[0mrange\u001b[0m\u001b[0;34m(\u001b[0m\u001b[0;36m2\u001b[0m\u001b[0;34m)\u001b[0m\u001b[0;34m:\u001b[0m\u001b[0;34m\u001b[0m\u001b[0m\n\u001b[0;32m----> 6\u001b[0;31m     \u001b[0mfpr\u001b[0m\u001b[0;34m[\u001b[0m\u001b[0mi\u001b[0m\u001b[0;34m]\u001b[0m\u001b[0;34m,\u001b[0m \u001b[0mtpr\u001b[0m\u001b[0;34m[\u001b[0m\u001b[0mi\u001b[0m\u001b[0;34m]\u001b[0m\u001b[0;34m,\u001b[0m \u001b[0m_\u001b[0m \u001b[0;34m=\u001b[0m \u001b[0mroc_curve\u001b[0m\u001b[0;34m(\u001b[0m\u001b[0my_test\u001b[0m\u001b[0;34m[\u001b[0m\u001b[0;34m:\u001b[0m\u001b[0;34m,\u001b[0m \u001b[0mi\u001b[0m\u001b[0;34m]\u001b[0m\u001b[0;34m,\u001b[0m \u001b[0my_score\u001b[0m\u001b[0;34m[\u001b[0m\u001b[0;34m:\u001b[0m\u001b[0;34m,\u001b[0m \u001b[0mi\u001b[0m\u001b[0;34m]\u001b[0m\u001b[0;34m)\u001b[0m\u001b[0;34m\u001b[0m\u001b[0m\n\u001b[0m\u001b[1;32m      7\u001b[0m     \u001b[0mroc_auc\u001b[0m\u001b[0;34m[\u001b[0m\u001b[0mi\u001b[0m\u001b[0;34m]\u001b[0m \u001b[0;34m=\u001b[0m \u001b[0mauc\u001b[0m\u001b[0;34m(\u001b[0m\u001b[0mfpr\u001b[0m\u001b[0;34m[\u001b[0m\u001b[0mi\u001b[0m\u001b[0;34m]\u001b[0m\u001b[0;34m,\u001b[0m \u001b[0mtpr\u001b[0m\u001b[0;34m[\u001b[0m\u001b[0mi\u001b[0m\u001b[0;34m]\u001b[0m\u001b[0;34m)\u001b[0m\u001b[0;34m\u001b[0m\u001b[0m\n\u001b[1;32m      8\u001b[0m \u001b[0;34m\u001b[0m\u001b[0m\n",
      "\u001b[0;32m~/anaconda3/lib/python3.6/site-packages/pandas/core/series.py\u001b[0m in \u001b[0;36m__getitem__\u001b[0;34m(self, key)\u001b[0m\n\u001b[1;32m    909\u001b[0m             \u001b[0mkey\u001b[0m \u001b[0;34m=\u001b[0m \u001b[0mcheck_bool_indexer\u001b[0m\u001b[0;34m(\u001b[0m\u001b[0mself\u001b[0m\u001b[0;34m.\u001b[0m\u001b[0mindex\u001b[0m\u001b[0;34m,\u001b[0m \u001b[0mkey\u001b[0m\u001b[0;34m)\u001b[0m\u001b[0;34m\u001b[0m\u001b[0m\n\u001b[1;32m    910\u001b[0m \u001b[0;34m\u001b[0m\u001b[0m\n\u001b[0;32m--> 911\u001b[0;31m         \u001b[0;32mreturn\u001b[0m \u001b[0mself\u001b[0m\u001b[0;34m.\u001b[0m\u001b[0m_get_with\u001b[0m\u001b[0;34m(\u001b[0m\u001b[0mkey\u001b[0m\u001b[0;34m)\u001b[0m\u001b[0;34m\u001b[0m\u001b[0m\n\u001b[0m\u001b[1;32m    912\u001b[0m \u001b[0;34m\u001b[0m\u001b[0m\n\u001b[1;32m    913\u001b[0m     \u001b[0;32mdef\u001b[0m \u001b[0m_get_with\u001b[0m\u001b[0;34m(\u001b[0m\u001b[0mself\u001b[0m\u001b[0;34m,\u001b[0m \u001b[0mkey\u001b[0m\u001b[0;34m)\u001b[0m\u001b[0;34m:\u001b[0m\u001b[0;34m\u001b[0m\u001b[0m\n",
      "\u001b[0;32m~/anaconda3/lib/python3.6/site-packages/pandas/core/series.py\u001b[0m in \u001b[0;36m_get_with\u001b[0;34m(self, key)\u001b[0m\n\u001b[1;32m    921\u001b[0m         \u001b[0;32melif\u001b[0m \u001b[0misinstance\u001b[0m\u001b[0;34m(\u001b[0m\u001b[0mkey\u001b[0m\u001b[0;34m,\u001b[0m \u001b[0mtuple\u001b[0m\u001b[0;34m)\u001b[0m\u001b[0;34m:\u001b[0m\u001b[0;34m\u001b[0m\u001b[0m\n\u001b[1;32m    922\u001b[0m             \u001b[0;32mtry\u001b[0m\u001b[0;34m:\u001b[0m\u001b[0;34m\u001b[0m\u001b[0m\n\u001b[0;32m--> 923\u001b[0;31m                 \u001b[0;32mreturn\u001b[0m \u001b[0mself\u001b[0m\u001b[0;34m.\u001b[0m\u001b[0m_get_values_tuple\u001b[0m\u001b[0;34m(\u001b[0m\u001b[0mkey\u001b[0m\u001b[0;34m)\u001b[0m\u001b[0;34m\u001b[0m\u001b[0m\n\u001b[0m\u001b[1;32m    924\u001b[0m             \u001b[0;32mexcept\u001b[0m \u001b[0mException\u001b[0m\u001b[0;34m:\u001b[0m\u001b[0;34m\u001b[0m\u001b[0m\n\u001b[1;32m    925\u001b[0m                 \u001b[0;32mif\u001b[0m \u001b[0mlen\u001b[0m\u001b[0;34m(\u001b[0m\u001b[0mkey\u001b[0m\u001b[0;34m)\u001b[0m \u001b[0;34m==\u001b[0m \u001b[0;36m1\u001b[0m\u001b[0;34m:\u001b[0m\u001b[0;34m\u001b[0m\u001b[0m\n",
      "\u001b[0;32m~/anaconda3/lib/python3.6/site-packages/pandas/core/series.py\u001b[0m in \u001b[0;36m_get_values_tuple\u001b[0;34m(self, key)\u001b[0m\n\u001b[1;32m    966\u001b[0m \u001b[0;34m\u001b[0m\u001b[0m\n\u001b[1;32m    967\u001b[0m         \u001b[0;32mif\u001b[0m \u001b[0;32mnot\u001b[0m \u001b[0misinstance\u001b[0m\u001b[0;34m(\u001b[0m\u001b[0mself\u001b[0m\u001b[0;34m.\u001b[0m\u001b[0mindex\u001b[0m\u001b[0;34m,\u001b[0m \u001b[0mMultiIndex\u001b[0m\u001b[0;34m)\u001b[0m\u001b[0;34m:\u001b[0m\u001b[0;34m\u001b[0m\u001b[0m\n\u001b[0;32m--> 968\u001b[0;31m             \u001b[0;32mraise\u001b[0m \u001b[0mValueError\u001b[0m\u001b[0;34m(\u001b[0m\u001b[0;34m'Can only tuple-index with a MultiIndex'\u001b[0m\u001b[0;34m)\u001b[0m\u001b[0;34m\u001b[0m\u001b[0m\n\u001b[0m\u001b[1;32m    969\u001b[0m \u001b[0;34m\u001b[0m\u001b[0m\n\u001b[1;32m    970\u001b[0m         \u001b[0;31m# If key is contained, would have returned by now\u001b[0m\u001b[0;34m\u001b[0m\u001b[0;34m\u001b[0m\u001b[0m\n",
      "\u001b[0;31mValueError\u001b[0m: Can only tuple-index with a MultiIndex"
     ]
    }
   ],
   "source": [
    "y_score = clf.fit(count_vect_train1, y_train).decision_function(count_vect_test1)\n",
    "fpr = dict()\n",
    "tpr = dict()\n",
    "roc_auc = dict()\n",
    "for i in range(2):\n",
    "    fpr[i], tpr[i], _ = roc_curve(y_test[:, i], y_score[:, i])\n",
    "    roc_auc[i] = auc(fpr[i], tpr[i])\n",
    "\n",
    "# Compute micro-average ROC curve and ROC area\n",
    "fpr[\"micro\"], tpr[\"micro\"], _ = roc_curve(y_test.ravel(), y_score.ravel())\n",
    "roc_auc[\"micro\"] = auc(fpr[\"micro\"], tpr[\"micro\"])"
   ]
  },
  {
   "cell_type": "code",
   "execution_count": 5,
   "metadata": {
    "scrolled": true
   },
   "outputs": [
    {
     "data": {
      "image/png": "[encoded data removed]",
      "text/plain": [
       "<Figure size 432x288 with 1 Axes>"
      ]
     },
     "metadata": {},
     "output_type": "display_data"
    }
   ],
   "source": [
    "fpr, tpr, _ = metrics.roc_curve(y_test,  y_pred_clf)\n",
    "auc = metrics.roc_auc_score(y_test, y_pred_clf)\n",
    "plt.plot(fpr,tpr,label=\"data 1, auc=\"+str(auc))\n",
    "plt.legend(loc=4)\n",
    "plt.show()"
   ]
  },
  {
   "cell_type": "code",
   "execution_count": null,
   "metadata": {},
   "outputs": [],
   "source": [
    "plot_ROC(y_train, y_train_prob, y_test, y_test_prob)"
   ]
  },
  {
   "cell_type": "code",
   "execution_count": 28,
   "metadata": {},
   "outputs": [
    {
     "name": "stdout",
     "output_type": "stream",
     "text": [
      "\n",
      "********** [Logistic Regression] **********\n",
      "\n",
      "1. Accuarcy: 0.9\n",
      "\n",
      "2. The F-1 score of the model 0.8866628460110704\n",
      "\n",
      "3. The recall score of the model 0.9\n",
      "\n",
      "4. Classification Report:\n",
      "              precision    recall  f1-score   support\n",
      "\n",
      "           0       0.45      0.25      0.32       118\n",
      "           1       0.92      0.97      0.95      1132\n",
      "\n",
      "   micro avg       0.90      0.90      0.90      1250\n",
      "   macro avg       0.69      0.61      0.63      1250\n",
      "weighted avg       0.88      0.90      0.89      1250\n",
      "\n",
      "5. Confusion matrix:\n",
      "[[  29   89]\n",
      " [  36 1096]]\n",
      "\n",
      "\n",
      "\n",
      "\n",
      "********** [Linear SVM] **********\n",
      "\n",
      "1. Accuarcy: 0.8928\n",
      "\n",
      "2. The F-1 score of the model 0.8883063890510475\n",
      "\n",
      "3. The recall score of the model 0.8928\n",
      "\n",
      "4. Classification Report:\n",
      "              precision    recall  f1-score   support\n",
      "\n",
      "           0       0.42      0.35      0.38       118\n",
      "           1       0.93      0.95      0.94      1132\n",
      "\n",
      "   micro avg       0.89      0.89      0.89      1250\n",
      "   macro avg       0.68      0.65      0.66      1250\n",
      "weighted avg       0.88      0.89      0.89      1250\n",
      "\n",
      "5. Confusion matrix:\n",
      "[[  41   77]\n",
      " [  57 1075]]\n",
      "\n",
      "\n",
      "\n",
      "\n",
      "********** [Naive Bayes] **********\n",
      "\n",
      "1. Accuarcy: 0.8048\n",
      "\n",
      "2. The F-1 score of the model 0.8166696388402489\n",
      "\n",
      "3. The recall score of the model 0.8048\n",
      "\n",
      "4. Classification Report:\n",
      "              precision    recall  f1-score   support\n",
      "\n",
      "           0       0.10      0.13      0.11       118\n",
      "           1       0.91      0.88      0.89      1132\n",
      "\n",
      "   micro avg       0.80      0.80      0.80      1250\n",
      "   macro avg       0.50      0.50      0.50      1250\n",
      "weighted avg       0.83      0.80      0.82      1250\n",
      "\n",
      "5. Confusion matrix:\n",
      "[[ 15 103]\n",
      " [141 991]]\n",
      "\n",
      "\n",
      "\n",
      "\n",
      "********** [KNN] **********\n",
      "\n",
      "1. Accuarcy: 0.8824\n",
      "\n",
      "2. The F-1 score of the model 0.8537033028406354\n",
      "\n",
      "3. The recall score of the model 0.8824\n",
      "\n",
      "4. Classification Report:\n",
      "              precision    recall  f1-score   support\n",
      "\n",
      "           0       0.11      0.03      0.05       118\n",
      "           1       0.91      0.97      0.94      1132\n",
      "\n",
      "   micro avg       0.88      0.88      0.88      1250\n",
      "   macro avg       0.51      0.50      0.49      1250\n",
      "weighted avg       0.83      0.88      0.85      1250\n",
      "\n",
      "5. Confusion matrix:\n",
      "[[   4  114]\n",
      " [  33 1099]]\n",
      "\n",
      "\n",
      "\n",
      "\n",
      "********** [Random Forest] **********\n",
      "\n",
      "1. Accuarcy: 0.904\n",
      "\n",
      "2. The F-1 score of the model 0.8695320018672488\n",
      "\n",
      "3. The recall score of the model 0.904\n",
      "\n",
      "4. Classification Report:\n",
      "              precision    recall  f1-score   support\n",
      "\n",
      "           0       0.44      0.06      0.10       118\n",
      "           1       0.91      0.99      0.95      1132\n",
      "\n",
      "   micro avg       0.90      0.90      0.90      1250\n",
      "   macro avg       0.67      0.53      0.53      1250\n",
      "weighted avg       0.87      0.90      0.87      1250\n",
      "\n",
      "5. Confusion matrix:\n",
      "[[   7  111]\n",
      " [   9 1123]]\n",
      "\n",
      "\n",
      "\n",
      "\n",
      "********** [GradientBoosting] **********\n",
      "\n",
      "1. Accuarcy: 0.9048\n",
      "\n",
      "2. The F-1 score of the model 0.873538345841751\n",
      "\n",
      "3. The recall score of the model 0.9048\n",
      "\n",
      "4. Classification Report:\n",
      "              precision    recall  f1-score   support\n",
      "\n",
      "           0       0.48      0.08      0.14       118\n",
      "           1       0.91      0.99      0.95      1132\n",
      "\n",
      "   micro avg       0.90      0.90      0.90      1250\n",
      "   macro avg       0.69      0.54      0.55      1250\n",
      "weighted avg       0.87      0.90      0.87      1250\n",
      "\n",
      "5. Confusion matrix:\n",
      "[[  10  108]\n",
      " [  11 1121]]\n",
      "\n",
      "\n",
      "\n"
     ]
    }
   ],
   "source": [
    "# Get the scores with the best vector (according to step1 and step2)\n",
    "\n",
    "clf1 = LogisticRegression(random_state=1)\n",
    "clf2 = SVC(kernel = 'linear') \n",
    "clf3 = GaussianNB()\n",
    "clf4 = KNeighborsClassifier()\n",
    "clf5 = RandomForestClassifier(random_state=1)\n",
    "clf6 = GradientBoostingClassifier()\n",
    "\n",
    "labels = ['Logistic Regression', 'Linear SVM', 'Naive Bayes', 'KNN', 'Random Forest', 'GradientBoosting', ]\n",
    "for clf, label in zip([clf1, clf2, clf3, clf4, clf5, clf6], labels):\n",
    "    clf.fit(count_vect_train1, y_train)\n",
    "    y_pred_clf = clf.predict(count_vect_test1)\n",
    "    cm = confusion_matrix(y_test, y_pred_clf)\n",
    "    \n",
    "    print('\\n********** [{}] **********\\n'.format(label))\n",
    "    print('1. Accuarcy: {}\\n'.format(metrics.accuracy_score(y_test, y_pred_clf)))\n",
    "    print('2. The F-1 score of the model {}\\n'.format(f1_score(y_test, y_pred_clf, average='weighted')))\n",
    "    print('3. The recall score of the model {}\\n'.format(recall_score(y_test, y_pred_clf, average='weighted')))\n",
    "    print('4. Classification Report:\\n{}\\n5. Confusion matrix:\\n{}\\n\\n\\n'.format(\n",
    "        classification_report(y_test, y_pred_clf), cm))"
   ]
  },
  {
   "cell_type": "markdown",
   "metadata": {},
   "source": [
    "# 1. Logistic Regression"
   ]
  },
  {
   "cell_type": "markdown",
   "metadata": {},
   "source": [
    "## 1.1 Logisric Regression - Hyperparameter Tuning"
   ]
  },
  {
   "cell_type": "code",
   "execution_count": 84,
   "metadata": {},
   "outputs": [
    {
     "name": "stdout",
     "output_type": "stream",
     "text": [
      "\n",
      "********** Logistic Regression **********\n",
      "\n",
      "Tuned Logistic Regression Parameters: {'C': 0.1, 'penalty': 'l2'}\n",
      "Best score is 0.9189333333333334\n"
     ]
    },
    {
     "ename": "ValueError",
     "evalue": "Found input variables with inconsistent numbers of samples: [2500, 1250]",
     "output_type": "error",
     "traceback": [
      "\u001b[0;31m---------------------------------------------------------------------------\u001b[0m",
      "\u001b[0;31mValueError\u001b[0m                                Traceback (most recent call last)",
      "\u001b[0;32m<ipython-input-84-9018467e90c8>\u001b[0m in \u001b[0;36m<module>\u001b[0;34m()\u001b[0m\n\u001b[1;32m     12\u001b[0m \u001b[0mprint\u001b[0m\u001b[0;34m(\u001b[0m\u001b[0;34m\"Tuned Logistic Regression Parameters: {}\"\u001b[0m\u001b[0;34m.\u001b[0m\u001b[0mformat\u001b[0m\u001b[0;34m(\u001b[0m\u001b[0mlogreg_cv\u001b[0m\u001b[0;34m.\u001b[0m\u001b[0mbest_params_\u001b[0m\u001b[0;34m)\u001b[0m\u001b[0;34m)\u001b[0m\u001b[0;34m\u001b[0m\u001b[0m\n\u001b[1;32m     13\u001b[0m \u001b[0mprint\u001b[0m\u001b[0;34m(\u001b[0m\u001b[0;34m\"Best score is {}\"\u001b[0m\u001b[0;34m.\u001b[0m\u001b[0mformat\u001b[0m\u001b[0;34m(\u001b[0m\u001b[0mlogreg_cv\u001b[0m\u001b[0;34m.\u001b[0m\u001b[0mbest_score_\u001b[0m\u001b[0;34m)\u001b[0m\u001b[0;34m)\u001b[0m\u001b[0;34m\u001b[0m\u001b[0m\n\u001b[0;32m---> 14\u001b[0;31m \u001b[0mprint\u001b[0m\u001b[0;34m(\u001b[0m\u001b[0;34m'1. Accuarcy: {}\\n'\u001b[0m\u001b[0;34m.\u001b[0m\u001b[0mformat\u001b[0m\u001b[0;34m(\u001b[0m\u001b[0mmetrics\u001b[0m\u001b[0;34m.\u001b[0m\u001b[0maccuracy_score\u001b[0m\u001b[0;34m(\u001b[0m\u001b[0my_test\u001b[0m\u001b[0;34m,\u001b[0m \u001b[0my_pred_clf\u001b[0m\u001b[0;34m)\u001b[0m\u001b[0;34m)\u001b[0m\u001b[0;34m)\u001b[0m\u001b[0;34m\u001b[0m\u001b[0m\n\u001b[0m\u001b[1;32m     15\u001b[0m \u001b[0mprint\u001b[0m\u001b[0;34m(\u001b[0m\u001b[0;34m'2. The F-1 score of the model {}\\n'\u001b[0m\u001b[0;34m.\u001b[0m\u001b[0mformat\u001b[0m\u001b[0;34m(\u001b[0m\u001b[0mf1_score\u001b[0m\u001b[0;34m(\u001b[0m\u001b[0my_test\u001b[0m\u001b[0;34m,\u001b[0m \u001b[0my_pred_clf\u001b[0m\u001b[0;34m,\u001b[0m \u001b[0maverage\u001b[0m\u001b[0;34m=\u001b[0m\u001b[0;34m'weighted'\u001b[0m\u001b[0;34m)\u001b[0m\u001b[0;34m)\u001b[0m\u001b[0;34m)\u001b[0m\u001b[0;34m\u001b[0m\u001b[0m\n\u001b[1;32m     16\u001b[0m \u001b[0mprint\u001b[0m\u001b[0;34m(\u001b[0m\u001b[0;34m'3. The recall score of the model {}\\n'\u001b[0m\u001b[0;34m.\u001b[0m\u001b[0mformat\u001b[0m\u001b[0;34m(\u001b[0m\u001b[0mrecall_score\u001b[0m\u001b[0;34m(\u001b[0m\u001b[0my_test\u001b[0m\u001b[0;34m,\u001b[0m \u001b[0my_pred_clf\u001b[0m\u001b[0;34m,\u001b[0m \u001b[0maverage\u001b[0m\u001b[0;34m=\u001b[0m\u001b[0;34m'weighted'\u001b[0m\u001b[0;34m)\u001b[0m\u001b[0;34m)\u001b[0m\u001b[0;34m)\u001b[0m\u001b[0;34m\u001b[0m\u001b[0m\n",
      "\u001b[0;32m~/anaconda3/lib/python3.6/site-packages/sklearn/metrics/classification.py\u001b[0m in \u001b[0;36maccuracy_score\u001b[0;34m(y_true, y_pred, normalize, sample_weight)\u001b[0m\n\u001b[1;32m    174\u001b[0m \u001b[0;34m\u001b[0m\u001b[0m\n\u001b[1;32m    175\u001b[0m     \u001b[0;31m# Compute accuracy for each possible representation\u001b[0m\u001b[0;34m\u001b[0m\u001b[0;34m\u001b[0m\u001b[0m\n\u001b[0;32m--> 176\u001b[0;31m     \u001b[0my_type\u001b[0m\u001b[0;34m,\u001b[0m \u001b[0my_true\u001b[0m\u001b[0;34m,\u001b[0m \u001b[0my_pred\u001b[0m \u001b[0;34m=\u001b[0m \u001b[0m_check_targets\u001b[0m\u001b[0;34m(\u001b[0m\u001b[0my_true\u001b[0m\u001b[0;34m,\u001b[0m \u001b[0my_pred\u001b[0m\u001b[0;34m)\u001b[0m\u001b[0;34m\u001b[0m\u001b[0m\n\u001b[0m\u001b[1;32m    177\u001b[0m     \u001b[0mcheck_consistent_length\u001b[0m\u001b[0;34m(\u001b[0m\u001b[0my_true\u001b[0m\u001b[0;34m,\u001b[0m \u001b[0my_pred\u001b[0m\u001b[0;34m,\u001b[0m \u001b[0msample_weight\u001b[0m\u001b[0;34m)\u001b[0m\u001b[0;34m\u001b[0m\u001b[0m\n\u001b[1;32m    178\u001b[0m     \u001b[0;32mif\u001b[0m \u001b[0my_type\u001b[0m\u001b[0;34m.\u001b[0m\u001b[0mstartswith\u001b[0m\u001b[0;34m(\u001b[0m\u001b[0;34m'multilabel'\u001b[0m\u001b[0;34m)\u001b[0m\u001b[0;34m:\u001b[0m\u001b[0;34m\u001b[0m\u001b[0m\n",
      "\u001b[0;32m~/anaconda3/lib/python3.6/site-packages/sklearn/metrics/classification.py\u001b[0m in \u001b[0;36m_check_targets\u001b[0;34m(y_true, y_pred)\u001b[0m\n\u001b[1;32m     69\u001b[0m     \u001b[0my_pred\u001b[0m \u001b[0;34m:\u001b[0m \u001b[0marray\u001b[0m \u001b[0;32mor\u001b[0m \u001b[0mindicator\u001b[0m \u001b[0mmatrix\u001b[0m\u001b[0;34m\u001b[0m\u001b[0m\n\u001b[1;32m     70\u001b[0m     \"\"\"\n\u001b[0;32m---> 71\u001b[0;31m     \u001b[0mcheck_consistent_length\u001b[0m\u001b[0;34m(\u001b[0m\u001b[0my_true\u001b[0m\u001b[0;34m,\u001b[0m \u001b[0my_pred\u001b[0m\u001b[0;34m)\u001b[0m\u001b[0;34m\u001b[0m\u001b[0m\n\u001b[0m\u001b[1;32m     72\u001b[0m     \u001b[0mtype_true\u001b[0m \u001b[0;34m=\u001b[0m \u001b[0mtype_of_target\u001b[0m\u001b[0;34m(\u001b[0m\u001b[0my_true\u001b[0m\u001b[0;34m)\u001b[0m\u001b[0;34m\u001b[0m\u001b[0m\n\u001b[1;32m     73\u001b[0m     \u001b[0mtype_pred\u001b[0m \u001b[0;34m=\u001b[0m \u001b[0mtype_of_target\u001b[0m\u001b[0;34m(\u001b[0m\u001b[0my_pred\u001b[0m\u001b[0;34m)\u001b[0m\u001b[0;34m\u001b[0m\u001b[0m\n",
      "\u001b[0;32m~/anaconda3/lib/python3.6/site-packages/sklearn/utils/validation.py\u001b[0m in \u001b[0;36mcheck_consistent_length\u001b[0;34m(*arrays)\u001b[0m\n\u001b[1;32m    233\u001b[0m     \u001b[0;32mif\u001b[0m \u001b[0mlen\u001b[0m\u001b[0;34m(\u001b[0m\u001b[0muniques\u001b[0m\u001b[0;34m)\u001b[0m \u001b[0;34m>\u001b[0m \u001b[0;36m1\u001b[0m\u001b[0;34m:\u001b[0m\u001b[0;34m\u001b[0m\u001b[0m\n\u001b[1;32m    234\u001b[0m         raise ValueError(\"Found input variables with inconsistent numbers of\"\n\u001b[0;32m--> 235\u001b[0;31m                          \" samples: %r\" % [int(l) for l in lengths])\n\u001b[0m\u001b[1;32m    236\u001b[0m \u001b[0;34m\u001b[0m\u001b[0m\n\u001b[1;32m    237\u001b[0m \u001b[0;34m\u001b[0m\u001b[0m\n",
      "\u001b[0;31mValueError\u001b[0m: Found input variables with inconsistent numbers of samples: [2500, 1250]"
     ]
    }
   ],
   "source": [
    "# define the paramater spaces\n",
    "params = {'C': [0.001, 0.01, 0.1, 1, 10, 100, 1000], 'penalty': ['l1', 'l2']}\n",
    "# Instantiate a logistic regression classifier: logreg\n",
    "logreg = LogisticRegression()\n",
    "# Instantiate the GridSearchCV object: logreg_cv\n",
    "logreg_cv = GridSearchCV(logreg, params, cv=5)\n",
    "# Fit it to the data\n",
    "logreg_cv.fit(count_vect_train1, y_train)\n",
    "# Print the tuned parameters and score\n",
    "\n",
    "print('\\n********** Logistic Regression **********\\n')\n",
    "print(\"Tuned Logistic Regression Parameters: {}\".format(logreg_cv.best_params_)) \n",
    "print(\"Best score is {}\".format(logreg_cv.best_score_))\n",
    "print('1. Accuarcy: {}\\n'.format(metrics.accuracy_score(y_test, y_pred_clf)))\n",
    "print('2. The F-1 score of the model {}\\n'.format(f1_score(y_test, y_pred_clf, average='weighted')))\n",
    "print('3. The recall score of the model {}\\n'.format(recall_score(y_test, y_pred_clf, average='weighted')))\n",
    "print('4. Classification Report:\\n{}\\n5. Confusion matrix:\\n{}\\n\\n\\n'.format(\n",
    "    classification_report(y_test, y_pred_clf), cm))"
   ]
  },
  {
   "cell_type": "markdown",
   "metadata": {},
   "source": [
    "## 1.2 Logisric Regression - Modeling with Test Set"
   ]
  },
  {
   "cell_type": "code",
   "execution_count": 7,
   "metadata": {},
   "outputs": [
    {
     "name": "stdout",
     "output_type": "stream",
     "text": [
      "\n",
      "********** [Logistic Regression] **********\n",
      "\n",
      "1. Accuarcy: 0.9064\n",
      "\n",
      "2. The F-1 score of the model 0.8817491157291112\n",
      "\n",
      "3. The recall score of the model 0.9064\n",
      "\n",
      "4. Classification Report:\n",
      "              precision    recall  f1-score   support\n",
      "\n",
      "           0       0.52      0.14      0.23       118\n",
      "           1       0.92      0.99      0.95      1132\n",
      "\n",
      "   micro avg       0.91      0.91      0.91      1250\n",
      "   macro avg       0.72      0.56      0.59      1250\n",
      "weighted avg       0.88      0.91      0.88      1250\n",
      "\n",
      "5. Confusion matrix:\n",
      "[[  17  101]\n",
      " [  16 1116]]\n",
      "\n",
      "\n",
      "\n"
     ]
    }
   ],
   "source": [
    "label = 'Logistic Regression'\n",
    "clf = LogisticRegression(C=0.1, penalty='l2')\n",
    "\n",
    "clf.fit(count_vect_train1, y_train)\n",
    "y_pred_clf = clf.predict(count_vect_test1)\n",
    "cm = confusion_matrix(y_test, y_pred_clf)\n",
    "    \n",
    "print('\\n********** [{}] **********\\n'.format(label))\n",
    "print('1. Accuarcy: {}\\n'.format(metrics.accuracy_score(y_test, y_pred_clf)))\n",
    "print('2. The F-1 score of the model {}\\n'.format(f1_score(y_test, y_pred_clf, average='weighted')))\n",
    "print('3. The recall score of the model {}\\n'.format(recall_score(y_test, y_pred_clf, average='weighted')))\n",
    "print('4. Classification Report:\\n{}\\n5. Confusion matrix:\\n{}\\n\\n\\n'.format(\n",
    "    classification_report(y_test, y_pred_clf), cm))"
   ]
  },
  {
   "cell_type": "markdown",
   "metadata": {},
   "source": [
    "# 1.3 Logisric Regression - Modeling with Train Set"
   ]
  },
  {
   "cell_type": "code",
   "execution_count": 8,
   "metadata": {},
   "outputs": [
    {
     "name": "stdout",
     "output_type": "stream",
     "text": [
      "\n",
      "********** [Logistic Regression] **********\n",
      "\n",
      "1. Accuarcy: 0.9685333333333334\n",
      "\n",
      "2. The F-1 score of the model 0.9652290559106603\n",
      "\n",
      "3. The recall score of the model 0.9685333333333334\n",
      "\n",
      "4. Classification Report:\n",
      "              precision    recall  f1-score   support\n",
      "\n",
      "           0       1.00      0.63      0.77       319\n",
      "           1       0.97      1.00      0.98      3431\n",
      "\n",
      "   micro avg       0.97      0.97      0.97      3750\n",
      "   macro avg       0.98      0.82      0.88      3750\n",
      "weighted avg       0.97      0.97      0.97      3750\n",
      "\n",
      "5. Confusion matrix:\n",
      "[[ 201  118]\n",
      " [   0 3431]]\n",
      "\n",
      "\n",
      "\n"
     ]
    }
   ],
   "source": [
    "label = 'Logistic Regression'\n",
    "clf = LogisticRegression(C=0.1, penalty='l2')\n",
    "\n",
    "clf.fit(count_vect_train1, y_train)\n",
    "y_pred_clf = clf.predict(count_vect_train1)\n",
    "cm = confusion_matrix(y_train, y_pred_clf)\n",
    "    \n",
    "print('\\n********** [{}] **********\\n'.format(label))\n",
    "print('1. Accuarcy: {}\\n'.format(metrics.accuracy_score(y_train, y_pred_clf)))\n",
    "print('2. The F-1 score of the model {}\\n'.format(f1_score(y_train, y_pred_clf, average='weighted')))\n",
    "print('3. The recall score of the model {}\\n'.format(recall_score(y_train, y_pred_clf, average='weighted')))\n",
    "print('4. Classification Report:\\n{}\\n5. Confusion matrix:\\n{}\\n\\n\\n'.format(\n",
    "    classification_report(y_train, y_pred_clf), cm))"
   ]
  },
  {
   "cell_type": "markdown",
   "metadata": {},
   "source": [
    "## 1.4 Logisric Regression - Hyperparameter Tuning Result"
   ]
  },
  {
   "cell_type": "markdown",
   "metadata": {},
   "source": [
    "### Contribution of Hyperparameter tuning (on Test Set): - 0.05 % "
   ]
  },
  {
   "cell_type": "markdown",
   "metadata": {},
   "source": [
    "# 2. Linear SVM"
   ]
  },
  {
   "cell_type": "markdown",
   "metadata": {},
   "source": [
    "## 2.1. Linear SVM - Hyperparameter Tuning"
   ]
  },
  {
   "cell_type": "code",
   "execution_count": 10,
   "metadata": {},
   "outputs": [
    {
     "name": "stdout",
     "output_type": "stream",
     "text": [
      "Accuracy: 0.9056\n",
      "Tuned Model Parameters: {'C': 0.001, 'gamma': 0.001}\n"
     ]
    }
   ],
   "source": [
    "# Specify the hyperparameter space\n",
    "Cs = [0.001, 0.01, 0.1, 1, 10]\n",
    "gammas = [0.001, 0.01, 0.1, 1]\n",
    "param_grid = {'C': Cs, 'gamma' : gammas}\n",
    "svm=SVC(kernel='linear')\n",
    "svm_cv = GridSearchCV(svm, param_grid, cv=5)\n",
    "\n",
    "# Fit to the training set\n",
    "svm_cv.fit(count_vect_train1, y_train)\n",
    "\n",
    "# Compute and print metrics\n",
    "print(\"Accuracy: {}\".format(svm_cv.score(count_vect_test1, y_test)))\n",
    "print(\"Tuned Model Parameters: {}\".format(svm_cv.best_params_))"
   ]
  },
  {
   "cell_type": "markdown",
   "metadata": {},
   "source": [
    "## 2.2. Linear SVM (Tuned) - Modeling with Test Set"
   ]
  },
  {
   "cell_type": "code",
   "execution_count": 6,
   "metadata": {},
   "outputs": [
    {
     "name": "stdout",
     "output_type": "stream",
     "text": [
      "\n",
      "********** [Logistic Regression] **********\n",
      "\n",
      "1. Accuarcy: 0.9056\n",
      "\n",
      "2. The F-1 score of the model 0.8607382031905961\n",
      "\n",
      "3. The recall score of the model 0.9056\n",
      "\n",
      "4. Classification Report:\n",
      "              precision    recall  f1-score   support\n",
      "\n",
      "           0       0.00      0.00      0.00       118\n",
      "           1       0.91      1.00      0.95      1132\n",
      "\n",
      "   micro avg       0.91      0.91      0.91      1250\n",
      "   macro avg       0.45      0.50      0.48      1250\n",
      "weighted avg       0.82      0.91      0.86      1250\n",
      "\n",
      "5. Confusion matrix:\n",
      "[[   0  118]\n",
      " [   0 1132]]\n",
      "\n",
      "\n",
      "\n"
     ]
    }
   ],
   "source": [
    "label = 'Logistic Regression'\n",
    "clf = SVC(kernel='linear', C=0.001, gamma=0.001)\n",
    "\n",
    "clf.fit(count_vect_train1, y_train)\n",
    "y_pred_clf = clf.predict(count_vect_test1)\n",
    "cm = confusion_matrix(y_test, y_pred_clf)\n",
    "    \n",
    "print('\\n********** [{}] **********\\n'.format(label))\n",
    "print('1. Accuarcy: {}\\n'.format(metrics.accuracy_score(y_test, y_pred_clf)))\n",
    "print('2. The F-1 score of the model {}\\n'.format(f1_score(y_test, y_pred_clf, average='weighted')))\n",
    "print('3. The recall score of the model {}\\n'.format(recall_score(y_test, y_pred_clf, average='weighted')))\n",
    "print('4. Classification Report:\\n{}\\n5. Confusion matrix:\\n{}\\n\\n\\n'.format(\n",
    "    classification_report(y_test, y_pred_clf), cm))"
   ]
  },
  {
   "cell_type": "markdown",
   "metadata": {},
   "source": [
    "# Computations for other models delayed due to limitations of capacity"
   ]
  },
  {
   "cell_type": "code",
   "execution_count": 1,
   "metadata": {},
   "outputs": [
    {
     "name": "stderr",
     "output_type": "stream",
     "text": [
      "/Users/onlyone/anaconda3/lib/python3.6/site-packages/h5py/__init__.py:36: FutureWarning: Conversion of the second argument of issubdtype from `float` to `np.floating` is deprecated. In future, it will be treated as `np.float64 == np.dtype(float).type`.\n",
      "  from ._conv import register_converters as _register_converters\n",
      "Using TensorFlow backend.\n"
     ]
    }
   ],
   "source": [
    "from keras.preprocessing import text\n",
    "from keras.utils import np_utils\n",
    "from keras.preprocessing import sequence"
   ]
  },
  {
   "cell_type": "code",
   "execution_count": 76,
   "metadata": {},
   "outputs": [
    {
     "name": "stdout",
     "output_type": "stream",
     "text": [
      "Fitting 2 folds for each of 6 candidates, totalling 12 fits\n"
     ]
    },
    {
     "name": "stderr",
     "output_type": "stream",
     "text": [
      "[Parallel(n_jobs=-1)]: Using backend LokyBackend with 4 concurrent workers.\n",
      "[Parallel(n_jobs=-1)]: Done   5 tasks      | elapsed:   20.3s\n",
      "[Parallel(n_jobs=-1)]: Done   7 out of  12 | elapsed:   20.5s remaining:   14.7s\n",
      "[Parallel(n_jobs=-1)]: Done   9 out of  12 | elapsed:   24.4s remaining:    8.1s\n",
      "[Parallel(n_jobs=-1)]: Done  12 out of  12 | elapsed:   24.8s finished\n"
     ]
    },
    {
     "name": "stdout",
     "output_type": "stream",
     "text": [
      "Accuracy: 0.9149333333333334\n",
      "Tuned Model Parameters: {'nb__alpha': 10}\n"
     ]
    }
   ],
   "source": [
    "from sklearn import preprocessing, decomposition, model_selection, metrics, pipeline\n",
    "\n",
    "nb_model = MultinomialNB()\n",
    "\n",
    "# Create the pipeline \n",
    "clf = pipeline.Pipeline([('nb', nb_model)])\n",
    "\n",
    "# parameter grid\n",
    "param_grid = {'nb__alpha': [0.001, 0.01, 0.1, 1, 10, 100]}\n",
    "\n",
    "# Initialize Grid Search Model\n",
    "model = GridSearchCV(estimator=clf, param_grid=param_grid,\n",
    "                     verbose=10, n_jobs=-1, iid=True, refit=True, cv=2)\n",
    "\n",
    "# Fit Grid Search Model\n",
    "model.fit(count_vect_train1, y_train)  # we can use the full data here but im only using xtrain. \n",
    "\n",
    "print(\"Accuracy: {}\".format(model.score(count_vect_train1, y_train)))\n",
    "print(\"Tuned Model Parameters: {}\".format(model.best_params_))"
   ]
  },
  {
   "cell_type": "code",
   "execution_count": 80,
   "metadata": {},
   "outputs": [
    {
     "name": "stdout",
     "output_type": "stream",
     "text": [
      "\n",
      "********** MultinomialNB on train set **********\n",
      "\n",
      "1. Accuarcy: 0.9546666666666667\n",
      "\n",
      "2. The F-1 score of the model 0.9480687114894255\n",
      "\n",
      "3. The recall score of the model 0.9546666666666667\n",
      "\n",
      "4. Classification Report:\n",
      "              precision    recall  f1-score   support\n",
      "\n",
      "           0       0.95      0.50      0.65       319\n",
      "           1       0.96      1.00      0.98      3431\n",
      "\n",
      "   micro avg       0.95      0.95      0.95      3750\n",
      "   macro avg       0.95      0.75      0.81      3750\n",
      "weighted avg       0.95      0.95      0.95      3750\n",
      "\n",
      "5. Confusion matrix:\n",
      "[[ 158  161]\n",
      " [   9 3422]]\n",
      "\n",
      "\n",
      "\n"
     ]
    }
   ],
   "source": [
    "clf_nb = MultinomialNB(alpha = 10)\n",
    "\n",
    "clf_nb.fit(count_vect_train1, y_train)\n",
    "y_pred_clf = clf.predict(count_vect_train1)\n",
    "cm = confusion_matrix(y_train, y_pred_clf)\n",
    "    \n",
    "print('\\n********** MultinomialNB on train set **********\\n')\n",
    "print('1. Accuarcy: {}\\n'.format(metrics.accuracy_score(y_train, y_pred_clf)))\n",
    "print('2. The F-1 score of the model {}\\n'.format(f1_score(y_train, y_pred_clf, average='weighted')))\n",
    "print('3. The recall score of the model {}\\n'.format(recall_score(y_train, y_pred_clf, average='weighted')))\n",
    "print('4. Classification Report:\\n{}\\n5. Confusion matrix:\\n{}\\n\\n\\n'.format(\n",
    "    classification_report(y_train, y_pred_clf), cm))"
   ]
  },
  {
   "cell_type": "code",
   "execution_count": 81,
   "metadata": {},
   "outputs": [
    {
     "name": "stdout",
     "output_type": "stream",
     "text": [
      "\n",
      "********** [MultinomialNB] **********\n",
      "\n",
      "1. Accuarcy: 0.9048\n",
      "\n",
      "2. The F-1 score of the model 0.8633327710340627\n",
      "\n",
      "3. The recall score of the model 0.9048\n",
      "\n",
      "4. Classification Report:\n",
      "              precision    recall  f1-score   support\n",
      "\n",
      "           0       0.40      0.02      0.03       118\n",
      "           1       0.91      1.00      0.95      1132\n",
      "\n",
      "   micro avg       0.90      0.90      0.90      1250\n",
      "   macro avg       0.65      0.51      0.49      1250\n",
      "weighted avg       0.86      0.90      0.86      1250\n",
      "\n",
      "5. Confusion matrix:\n",
      "[[   2  116]\n",
      " [   3 1129]]\n",
      "\n",
      "\n",
      "\n"
     ]
    }
   ],
   "source": [
    "y_pred_clf = clf.predict(count_vect_test1)\n",
    "cm = confusion_matrix(y_test, y_pred_clf)\n",
    "    \n",
    "print('\\n********** [{}] **********\\n'.format(label))\n",
    "print('1. Accuarcy: {}\\n'.format(metrics.accuracy_score(y_test, y_pred_clf)))\n",
    "print('2. The F-1 score of the model {}\\n'.format(f1_score(y_test, y_pred_clf, average='weighted')))\n",
    "print('3. The recall score of the model {}\\n'.format(recall_score(y_test, y_pred_clf, average='weighted')))\n",
    "print('4. Classification Report:\\n{}\\n5. Confusion matrix:\\n{}\\n\\n\\n'.format(\n",
    "    classification_report(y_test, y_pred_clf), cm))"
   ]
  },
  {
   "cell_type": "code",
   "execution_count": null,
   "metadata": {},
   "outputs": [],
   "source": []
  }
 ],
 "metadata": {
  "kernelspec": {
   "display_name": "Python 3",
   "language": "python",
   "name": "python3"
  },
  "language_info": {
   "codemirror_mode": {
    "name": "ipython",
    "version": 3
   },
   "file_extension": ".py",
   "mimetype": "text/x-python",
   "name": "python",
   "nbconvert_exporter": "python",
   "pygments_lexer": "ipython3",
   "version": "3.6.5"
  }
 },
 "nbformat": 4,
 "nbformat_minor": 2
}
